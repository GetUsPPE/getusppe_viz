{
 "cells": [
  {
   "cell_type": "markdown",
   "metadata": {},
   "source": [
    "# Correlation of PPE Demand in USA With Covid19 Cases"
   ]
  },
  {
   "cell_type": "code",
   "execution_count": null,
   "metadata": {},
   "outputs": [],
   "source": [
    "# import data\n",
    "import json, requests\n",
    "import os, sys, time\n",
    "import os.path as path\n",
    "import configparser\n",
    "\n",
    "# computing\n",
    "import pandas as pd\n",
    "import numpy as np\n",
    "\n",
    "# Import geopandas package\n",
    "import plotly.express as px"
   ]
  },
  {
   "cell_type": "markdown",
   "metadata": {},
   "source": [
    "### Add python path and add local packages"
   ]
  },
  {
   "cell_type": "code",
   "execution_count": null,
   "metadata": {},
   "outputs": [],
   "source": [
    "# Add getusppe_viz/src to python path (two up)\n",
    "two_up = path.abspath(path.join(os.getcwd(),\"../..\"))\n",
    "src_dir = os.path.join(two_up,'src')\n",
    "if src_dir not in sys.path:\n",
    "    sys.path.append(src_dir)\n",
    "\n",
    "# Import local libraries\n",
    "from geocode import geocoder\n",
    "from mapping import choropleth_mapbox_usa_plot\n",
    "from data_download import download_findthemasks_data, \\\n",
    "    download_nytimes_data, \\\n",
    "    download_hospital_data\n",
    "from data_process import add_fips_county_info, \\\n",
    "    requests_per_county, \\\n",
    "    download_county_geojson_and_merge_df, \\\n",
    "    merge_covid_ppe_df, \\\n",
    "    process_hospital_data, \\\n",
    "    merge_covid_ppe_hosp_df, \\\n",
    "    calculate_covid_per_bed_available, \\\n",
    "    find_counties_with_covid19_and_no_ppe_request, \\\n",
    "    add_all_ppe_requests_to_merged_df"
   ]
  },
  {
   "cell_type": "markdown",
   "metadata": {},
   "source": [
    "### Configs"
   ]
  },
  {
   "cell_type": "code",
   "execution_count": null,
   "metadata": {},
   "outputs": [],
   "source": [
    "config = configparser.ConfigParser()\n",
    "config.read(os.path.join(src_dir,'config.ini'))\n",
    "\n",
    "ny_times_covid_date = config['viz']['ny_times_covid_date']\n",
    "findthemasks_url = config['viz']['findthemasks_url']\n",
    "request_headers = eval(config['viz']['request_headers'])\n",
    "county_fips_download_url = config['viz']['county_fips_download_url']\n",
    "geojson_url = config['viz']['geojson_url']\n",
    "ny_times_county_data_url = config['viz']['ny_times_county_data_url']\n",
    "hospital_download_url = config['viz']['hospital_download_url']"
   ]
  },
  {
   "cell_type": "markdown",
   "metadata": {},
   "source": [
    "## Download find the mask data and convert to pandas\n",
    "- Taken from find the mask [web visualization](https://findthemasks.com/give.html) \n",
    "- [Data updated every 5 mins here](findthemasks.com/data.json) - The data visulized here is from 3/25 at 10PM PST"
   ]
  },
  {
   "cell_type": "code",
   "execution_count": null,
   "metadata": {
    "scrolled": true
   },
   "outputs": [],
   "source": [
    "mask_df = download_findthemasks_data(\n",
    "    url = findthemasks_url, request_headers = request_headers)\n",
    "mask_df.head(2)"
   ]
  },
  {
   "cell_type": "markdown",
   "metadata": {},
   "source": [
    "### Save out temporary list of data from specific states"
   ]
  },
  {
   "cell_type": "code",
   "execution_count": null,
   "metadata": {},
   "outputs": [],
   "source": [
    "states = ['AZ','AR','UT','ID','CO']\n",
    "states_of_interest = mask_df[mask_df.State.isin(states)]\n",
    "path = 'Temp_data' + time.strftime(\"%Y%m%d\") + '.csv'\n",
    "states_of_interest.to_csv (path, index = False, header=True)"
   ]
  },
  {
   "cell_type": "markdown",
   "metadata": {},
   "source": [
    "### Create geocoder class to find fips and county information by lat/long"
   ]
  },
  {
   "cell_type": "code",
   "execution_count": null,
   "metadata": {},
   "outputs": [],
   "source": [
    "geocoder = geocoder(county_fips_download_url)"
   ]
  },
  {
   "cell_type": "markdown",
   "metadata": {},
   "source": [
    "### Search and add the FIPS code to each row - WILL TAKE SEVERAL MINS"
   ]
  },
  {
   "cell_type": "code",
   "execution_count": null,
   "metadata": {},
   "outputs": [],
   "source": [
    "mask_df = add_fips_county_info(mask_df, geocoder)"
   ]
  },
  {
   "cell_type": "code",
   "execution_count": null,
   "metadata": {},
   "outputs": [],
   "source": [
    "timestr = time.strftime(\"%Y%m%d\")\n",
    "path = 'mask_df_data_by_county_' + timestr + '.csv'\n",
    "mask_df.to_csv (path, index = False, header=True)"
   ]
  },
  {
   "cell_type": "markdown",
   "metadata": {},
   "source": [
    "### Sum amount of requests per county"
   ]
  },
  {
   "cell_type": "code",
   "execution_count": null,
   "metadata": {
    "scrolled": true
   },
   "outputs": [],
   "source": [
    "mask_df_counties = requests_per_county(mask_df, write_out_csv = True)\n",
    "mask_df_counties.head(5)"
   ]
  },
  {
   "cell_type": "markdown",
   "metadata": {},
   "source": [
    "### Download county geo information"
   ]
  },
  {
   "cell_type": "code",
   "execution_count": null,
   "metadata": {},
   "outputs": [],
   "source": [
    "counties, merged_df = download_county_geojson_and_merge_df(geojson_url, mask_df_counties)\n",
    "merged_df.head(2)"
   ]
  },
  {
   "cell_type": "markdown",
   "metadata": {},
   "source": [
    "### Add list of all ppe requests per county"
   ]
  },
  {
   "cell_type": "code",
   "execution_count": null,
   "metadata": {},
   "outputs": [],
   "source": [
    "merged_df = add_all_ppe_requests_to_merged_df(mask_df,merged_df)"
   ]
  },
  {
   "cell_type": "code",
   "execution_count": null,
   "metadata": {},
   "outputs": [],
   "source": [
    "# TODO : Add all requests info as clickable info on the interactive maps\n",
    "# How to pull array of dicts from 'all_ppe_requests' category\n",
    "''' \n",
    "all_ppe_locations_array= eval(str(merged_df.loc[\n",
    "    merged_df['fips'] == '01073', 'all_ppe_requests'].values[0]))\n",
    "print (all_ppe_locations_array)\n",
    "merged_df['ppe_text'] = 'PPE Requests: ' + merged_df['PPE_requests'].astype(int).astype(str) + '<br>'+ \\\n",
    "        merged_df['county'].astype(str) + ', ' + merged_df['STATE'].astype(str) + \\\n",
    "        eval(merged_df['all_ppe_requests'].values\n",
    "'''"
   ]
  },
  {
   "cell_type": "markdown",
   "metadata": {},
   "source": [
    "### Map of PPE Requests"
   ]
  },
  {
   "cell_type": "code",
   "execution_count": null,
   "metadata": {},
   "outputs": [],
   "source": [
    "choropleth_mapbox_usa_plot(\n",
    "    counties = counties,\n",
    "    locations = merged_df.fips,\n",
    "    z = merged_df.PPE_requests,\n",
    "    text = merged_df.ppe_text,\n",
    "    #colorscale = [\"#fdfcef\", \"#c7e9b4\", \"#6ab7a6\",\"#41b6c4\",\"#2c7fb8\",\"#253494\"],\n",
    "    colorscale = [\"#fdfcef\",\"#c7e9b4\",\"#D2FBFF\",\"#36A2B9\",\"#004469\"],\n",
    "    zmin = 0,\n",
    "    zmax=5,\n",
    "    title = ('PPE Requests By County - %s - (Hover for breakdown)' % time.strftime(\"%Y%m%d\")),\n",
    "    colorbar_title = '> PPE Requests',\n",
    "    html_filename = 'PPE_Requests_By_County.html')"
   ]
  },
  {
   "cell_type": "markdown",
   "metadata": {},
   "source": [
    "## Download COVID19 data and convert to pandas"
   ]
  },
  {
   "cell_type": "code",
   "execution_count": null,
   "metadata": {
    "scrolled": false
   },
   "outputs": [],
   "source": [
    "covid_df = download_nytimes_data(\n",
    "    ny_times_county_data_url, ny_times_covid_date, write_out_csv = True)\n",
    "covid_df.head(5)"
   ]
  },
  {
   "cell_type": "markdown",
   "metadata": {},
   "source": [
    "### Merge the covid and Nytimes data"
   ]
  },
  {
   "cell_type": "code",
   "execution_count": null,
   "metadata": {},
   "outputs": [],
   "source": [
    "merged_covid_ppe_df=merge_covid_ppe_df(covid_df,merged_df) \n",
    "merged_covid_ppe_df.head(2)"
   ]
  },
  {
   "cell_type": "markdown",
   "metadata": {},
   "source": [
    "### Mapping covid cases "
   ]
  },
  {
   "cell_type": "code",
   "execution_count": null,
   "metadata": {
    "scrolled": true
   },
   "outputs": [],
   "source": [
    "choropleth_mapbox_usa_plot(\n",
    "    counties = counties,\n",
    "    locations = merged_covid_ppe_df.fips,\n",
    "    z = merged_covid_ppe_df.cases,\n",
    "    text = merged_covid_ppe_df.covid_text,\n",
    "    colorscale = [\"#fdfcef\",\"#ffda55\",\"#FFC831\",\"#fc7555\",\"#e96e81\",],\n",
    "    zmin = 0,\n",
    "    zmax=100,\n",
    "    title = ('COVID19 Cases Per County - %s - (Hover for breakdown)' % ny_times_covid_date),\n",
    "    html_filename = ('COVID19_Cases_Per_County_%s.html' % ny_times_covid_date),\n",
    "    colorbar_title = '> COVID19 Cases',\n",
    ")"
   ]
  },
  {
   "cell_type": "markdown",
   "metadata": {},
   "source": [
    "## Hospital bed visualization by county "
   ]
  },
  {
   "cell_type": "code",
   "execution_count": null,
   "metadata": {},
   "outputs": [],
   "source": [
    "hospital_df = download_hospital_data(hospital_download_url, write_out_csv = True)\n",
    "hospital_df.head(3)"
   ]
  },
  {
   "cell_type": "code",
   "execution_count": null,
   "metadata": {},
   "outputs": [],
   "source": [
    "hospital_df_counties = process_hospital_data(hospital_df, write_out_csv = True)\n",
    "hospital_df_counties.head(2)"
   ]
  },
  {
   "cell_type": "code",
   "execution_count": null,
   "metadata": {},
   "outputs": [],
   "source": [
    "merged_covid_ppe_hosp_df=merge_covid_ppe_hosp_df(hospital_df_counties,merged_covid_ppe_df) \n",
    "merged_covid_ppe_hosp_df.head(2)"
   ]
  },
  {
   "cell_type": "code",
   "execution_count": null,
   "metadata": {},
   "outputs": [],
   "source": [
    "# Hospital bed plotting\n",
    "choropleth_mapbox_usa_plot(\n",
    "    counties = counties,\n",
    "    locations = merged_covid_ppe_hosp_df.fips,\n",
    "    z = merged_covid_ppe_hosp_df.BEDS,\n",
    "    text = merged_covid_ppe_hosp_df.hosp_text,\n",
    "    colorscale = [\"#fdfcef\",\"#c7e9b4\",\"#D2FBFF\",\"#36A2B9\",\"#004469\"],\n",
    "    zmin = 0,\n",
    "    zmax=500,\n",
    "    title = ('Hospital beds per county - %s - (Hover for breakdown)' % time.strftime(\"%Y%m%d\")),\n",
    "    html_filename = ('Hospital_beds_per_county_%s.html' % time.strftime(\"%Y%m%d\")),\n",
    "    colorbar_title = '> Hospital Beds'\n",
    "    )"
   ]
  },
  {
   "cell_type": "markdown",
   "metadata": {},
   "source": [
    "### Covid cases per bed available"
   ]
  },
  {
   "cell_type": "code",
   "execution_count": null,
   "metadata": {},
   "outputs": [],
   "source": [
    "merged_covid_ppe_hosp_df = calculate_covid_per_bed_available(merged_covid_ppe_hosp_df)\n",
    "merged_covid_ppe_hosp_df.head(2)"
   ]
  },
  {
   "cell_type": "code",
   "execution_count": null,
   "metadata": {},
   "outputs": [],
   "source": [
    "# Map hazard ratio\n",
    "choropleth_mapbox_usa_plot(\n",
    "    counties = counties,\n",
    "    locations = merged_covid_ppe_hosp_df.fips,\n",
    "    z = merged_covid_ppe_hosp_df.Covid_cases_per_bed,\n",
    "    text = merged_covid_ppe_hosp_df.hosp_text,\n",
    "    colorscale = [\"#fdfcef\",\"#ffda55\",\"#FFC831\",\"#fc7555\",\"#e96e81\",],\n",
    "    zmin = 0,\n",
    "    zmax=1,\n",
    "    title = ('Hazard Ratio: Covid19 Cases, Per Bed, Per County - %s - (Hover for breakdown)' % ny_times_covid_date),\n",
    "    html_filename = ('Covid19_cases_per_bed_per_county_%s.html' % time.strftime(\"%Y%m%d\")),\n",
    "    colorbar_title = '> Hazard Ratio (Cases/Bed)'\n",
    "    )"
   ]
  },
  {
   "cell_type": "markdown",
   "metadata": {},
   "source": [
    "### Identify counties with No PPE requests, with highest Covid19 cases"
   ]
  },
  {
   "cell_type": "code",
   "execution_count": null,
   "metadata": {},
   "outputs": [],
   "source": [
    "covid_ppe_df = find_counties_with_covid19_and_no_ppe_request(covid_df, mask_df_counties)\n",
    "covid_ppe_df[['date','county','state','cases','deaths','PPE_requests']].head(10)"
   ]
  },
  {
   "cell_type": "markdown",
   "metadata": {},
   "source": [
    "### Correlation of PPE request per county with COVID19 cases"
   ]
  },
  {
   "cell_type": "code",
   "execution_count": null,
   "metadata": {},
   "outputs": [],
   "source": [
    "# select counties that have had at least 1 ppe request\n",
    "counties_with_ppe_requests_and_covid_cases = merged_covid_ppe_hosp_df[merged_covid_ppe_hosp_df.PPE_requests != 0]\n",
    "\n",
    "# sort by highest normalized_covid_patients_per_bed\n",
    "counties_with_ppe_requests_and_covid_cases.sort_values(by=['PPE_requests','cases'], ascending=False, inplace=True)\n",
    "counties_with_ppe_requests_and_covid_cases.head(5)"
   ]
  },
  {
   "cell_type": "code",
   "execution_count": null,
   "metadata": {},
   "outputs": [],
   "source": [
    "fig = px.scatter(\n",
    "    counties_with_ppe_requests_and_covid_cases,\n",
    "    x=counties_with_ppe_requests_and_covid_cases.cases, \n",
    "    y=counties_with_ppe_requests_and_covid_cases.PPE_requests,\n",
    "    color='Covid_cases_per_bed',\n",
    "    log_x=True,\n",
    "    #log_y=True,\n",
    "    labels={\n",
    "        'Covid_cases_per_bed':'Covid19 cases per hospital bed',\n",
    "        'x':'Covid19 Cases Per County',\n",
    "        'y':'PPE Requests Per County',\n",
    "        'text':'County'\n",
    "        },\n",
    "    hover_name=counties_with_ppe_requests_and_covid_cases.county,\n",
    "    range_color=(0,1),\n",
    "    range_x=(1,30000)\n",
    "    )\n",
    "\n",
    "fig.update_layout(\n",
    "    title = \"Correlation of PPE request per county with COVID19 cases\",\n",
    "    #hoverlabel={'text'},\n",
    "    )\n",
    "\n",
    "#fig.update_xaxes(nticks=30)\n",
    "#fig.update_yaxes(nticks=20)\n",
    "    \n",
    "fig.show()"
   ]
  },
  {
   "cell_type": "markdown",
   "metadata": {},
   "source": [
    "### Match hospital names to hospital database"
   ]
  },
  {
   "cell_type": "code",
   "execution_count": null,
   "metadata": {},
   "outputs": [],
   "source": [
    "# TODO\n",
    "''' \n",
    "from fuzzywuzzy import fuzz \n",
    "from fuzzywuzzy import process \n",
    "\n",
    "# this takes a while, so I limited it to 100 names\n",
    "returned_matches = []\n",
    "for name in mrl['name'].values.tolist()[:99]:\n",
    "    best_matches = process.extract(name, std_hospital_names)\n",
    "    returned_matches.append((name, best_matches))\n",
    "'''\n"
   ]
  },
  {
   "cell_type": "code",
   "execution_count": null,
   "metadata": {},
   "outputs": [],
   "source": []
  }
 ],
 "metadata": {
  "kernelspec": {
   "display_name": "Python 3",
   "language": "python",
   "name": "python3"
  },
  "language_info": {
   "codemirror_mode": {
    "name": "ipython",
    "version": 3
   },
   "file_extension": ".py",
   "mimetype": "text/x-python",
   "name": "python",
   "nbconvert_exporter": "python",
   "pygments_lexer": "ipython3",
   "version": "3.7.7"
  }
 },
 "nbformat": 4,
 "nbformat_minor": 4
}
