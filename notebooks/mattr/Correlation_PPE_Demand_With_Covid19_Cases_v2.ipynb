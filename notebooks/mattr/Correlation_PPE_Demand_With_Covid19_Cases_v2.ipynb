{
 "cells": [
  {
   "cell_type": "markdown",
   "metadata": {},
   "source": [
    "# Correlation of PPE Demand in USA With Covid19 Cases"
   ]
  },
  {
   "cell_type": "code",
   "execution_count": 1,
   "metadata": {},
   "outputs": [],
   "source": [
    "# import data\n",
    "import json, requests\n",
    "import os, sys, time\n",
    "import configparser\n",
    "\n",
    "# computing\n",
    "import pandas as pd\n",
    "import numpy as np"
   ]
  },
  {
   "cell_type": "markdown",
   "metadata": {},
   "source": [
    "### Add python path and add local packages"
   ]
  },
  {
   "cell_type": "code",
   "execution_count": 2,
   "metadata": {},
   "outputs": [],
   "source": [
    "%load_ext autoreload\n",
    "%autoreload 2"
   ]
  },
  {
   "cell_type": "code",
   "execution_count": 3,
   "metadata": {},
   "outputs": [
    {
     "ename": "NameError",
     "evalue": "name 'path' is not defined",
     "output_type": "error",
     "traceback": [
      "\u001b[0;31m---------------------------------------------------------------------------\u001b[0m",
      "\u001b[0;31mNameError\u001b[0m                                 Traceback (most recent call last)",
      "\u001b[0;32m<ipython-input-3-703d18bc4a84>\u001b[0m in \u001b[0;36m<module>\u001b[0;34m\u001b[0m\n\u001b[1;32m      1\u001b[0m \u001b[0;31m# Add getusppe_viz/src to python path (two up)\u001b[0m\u001b[0;34m\u001b[0m\u001b[0;34m\u001b[0m\u001b[0;34m\u001b[0m\u001b[0m\n\u001b[0;32m----> 2\u001b[0;31m \u001b[0mtwo_up\u001b[0m \u001b[0;34m=\u001b[0m \u001b[0mos\u001b[0m\u001b[0;34m.\u001b[0m\u001b[0mpath\u001b[0m\u001b[0;34m.\u001b[0m\u001b[0mabspath\u001b[0m\u001b[0;34m(\u001b[0m\u001b[0mpath\u001b[0m\u001b[0;34m.\u001b[0m\u001b[0mjoin\u001b[0m\u001b[0;34m(\u001b[0m\u001b[0mos\u001b[0m\u001b[0;34m.\u001b[0m\u001b[0mgetcwd\u001b[0m\u001b[0;34m(\u001b[0m\u001b[0;34m)\u001b[0m\u001b[0;34m,\u001b[0m\u001b[0;34m\"../..\"\u001b[0m\u001b[0;34m)\u001b[0m\u001b[0;34m)\u001b[0m\u001b[0;34m\u001b[0m\u001b[0;34m\u001b[0m\u001b[0m\n\u001b[0m\u001b[1;32m      3\u001b[0m \u001b[0msrc_dir\u001b[0m \u001b[0;34m=\u001b[0m \u001b[0mos\u001b[0m\u001b[0;34m.\u001b[0m\u001b[0mpath\u001b[0m\u001b[0;34m.\u001b[0m\u001b[0mjoin\u001b[0m\u001b[0;34m(\u001b[0m\u001b[0mtwo_up\u001b[0m\u001b[0;34m,\u001b[0m\u001b[0;34m'src'\u001b[0m\u001b[0;34m)\u001b[0m\u001b[0;34m\u001b[0m\u001b[0;34m\u001b[0m\u001b[0m\n\u001b[1;32m      4\u001b[0m \u001b[0;32mif\u001b[0m \u001b[0msrc_dir\u001b[0m \u001b[0;32mnot\u001b[0m \u001b[0;32min\u001b[0m \u001b[0msys\u001b[0m\u001b[0;34m.\u001b[0m\u001b[0mpath\u001b[0m\u001b[0;34m:\u001b[0m\u001b[0;34m\u001b[0m\u001b[0;34m\u001b[0m\u001b[0m\n\u001b[1;32m      5\u001b[0m     \u001b[0msys\u001b[0m\u001b[0;34m.\u001b[0m\u001b[0mpath\u001b[0m\u001b[0;34m.\u001b[0m\u001b[0mappend\u001b[0m\u001b[0;34m(\u001b[0m\u001b[0msrc_dir\u001b[0m\u001b[0;34m)\u001b[0m\u001b[0;34m\u001b[0m\u001b[0;34m\u001b[0m\u001b[0m\n",
      "\u001b[0;31mNameError\u001b[0m: name 'path' is not defined"
     ]
    }
   ],
   "source": [
    "# Add getusppe_viz/src to python path (two up)\n",
    "two_up = os.path.abspath(path.join(os.getcwd(),\"../..\"))\n",
    "src_dir = os.path.join(two_up,'src')\n",
    "if src_dir not in sys.path:\n",
    "    sys.path.append(src_dir)\n",
    "\n",
    "# Import local libraries\n",
    "from geocode import geocoder\n",
    "from mapping import choropleth_mapbox_usa_plot, \\\n",
    "    viz_correlation_ppe_request_covid19_cases\n",
    "from data_download import download_findthemasks_data, \\\n",
    "    download_nytimes_data, \\\n",
    "    download_hospital_data, \\\n",
    "    download_PPE_donors, \\\n",
    "    download_zip_to_fips_data\n",
    "from data_process import add_fips_county_info, \\\n",
    "    requests_per_county, \\\n",
    "    download_county_geojson_and_merge_df, \\\n",
    "    merge_covid_ppe_df, \\\n",
    "    process_hospital_data, \\\n",
    "    merge_covid_ppe_hosp_df, \\\n",
    "    calculate_covid_per_bed_available, \\\n",
    "    find_counties_with_covid19_and_no_ppe_request, \\\n",
    "    add_all_ppe_requests_to_merged_df, \\\n",
    "    add_fips_ppe_donors, \\\n",
    "    donors_per_county, \\\n",
    "    calculate_donor_per_requester, \\\n",
    "    create_requestor_df_for_querying_requesters\n",
    "from math_custom import distance, closest, k5_closest, k10_closest"
   ]
  },
  {
   "cell_type": "markdown",
   "metadata": {},
   "source": [
    "### Configs"
   ]
  },
  {
   "cell_type": "code",
   "execution_count": null,
   "metadata": {},
   "outputs": [],
   "source": [
    "config = configparser.ConfigParser()\n",
    "config.read(os.path.join(src_dir,'config.ini'))\n",
    "\n",
    "ny_times_covid_date = config['viz']['ny_times_covid_date']\n",
    "findthemasks_url = config['viz']['findthemasks_url']\n",
    "request_headers = eval(config['viz']['request_headers'])\n",
    "county_fips_download_url = config['viz']['county_fips_download_url']\n",
    "geojson_url = config['viz']['geojson_url']\n",
    "ny_times_county_data_url = config['viz']['ny_times_county_data_url']\n",
    "hospital_download_url = config['viz']['hospital_download_url']"
   ]
  },
  {
   "cell_type": "markdown",
   "metadata": {},
   "source": [
    "## Download find the mask data and convert to pandas\n",
    "- Taken from find the mask [web visualization](https://findthemasks.com/give.html) \n",
    "- [Data updated every 5 mins here](findthemasks.com/data.json) - The data visulized here is from 3/25 at 10PM PST"
   ]
  },
  {
   "cell_type": "code",
   "execution_count": null,
   "metadata": {
    "scrolled": true
   },
   "outputs": [],
   "source": [
    "mask_df = download_findthemasks_data(\n",
    "    url = findthemasks_url, request_headers = request_headers)\n",
    "mask_df.head(2)"
   ]
  },
  {
   "cell_type": "markdown",
   "metadata": {},
   "source": [
    "### Save out temporary list of data from specific states"
   ]
  },
  {
   "cell_type": "code",
   "execution_count": null,
   "metadata": {},
   "outputs": [],
   "source": [
    "states = ['CA']\n",
    "states_of_interest = mask_df[mask_df.State.isin(states)]\n",
    "path = 'Data_for_Lily' + time.strftime(\"%Y%m%d\") + '.csv'\n",
    "states_of_interest.to_csv (path, index = False, header=True)"
   ]
  },
  {
   "cell_type": "markdown",
   "metadata": {},
   "source": [
    "### Create geocoder class to find fips and county information by lat/long"
   ]
  },
  {
   "cell_type": "code",
   "execution_count": null,
   "metadata": {},
   "outputs": [],
   "source": [
    "geocoder = geocoder(county_fips_download_url)"
   ]
  },
  {
   "cell_type": "markdown",
   "metadata": {},
   "source": [
    "### Search and add the FIPS code to each row - WILL TAKE SEVERAL MINS"
   ]
  },
  {
   "cell_type": "code",
   "execution_count": null,
   "metadata": {},
   "outputs": [],
   "source": [
    "mask_df = add_fips_county_info(mask_df, geocoder)"
   ]
  },
  {
   "cell_type": "code",
   "execution_count": null,
   "metadata": {},
   "outputs": [],
   "source": [
    "timestr = time.strftime(\"%Y%m%d\")\n",
    "path = 'mask_df_data_by_county_' + timestr + '.csv'\n",
    "mask_df.to_csv (path, index = False, header=True)"
   ]
  },
  {
   "cell_type": "markdown",
   "metadata": {},
   "source": [
    "### Sum amount of requests per county"
   ]
  },
  {
   "cell_type": "code",
   "execution_count": null,
   "metadata": {
    "scrolled": true
   },
   "outputs": [],
   "source": [
    "mask_df_counties = requests_per_county(mask_df, write_out_csv = True)\n",
    "mask_df_counties.head(5)"
   ]
  },
  {
   "cell_type": "markdown",
   "metadata": {},
   "source": [
    "### Download county geo information"
   ]
  },
  {
   "cell_type": "code",
   "execution_count": null,
   "metadata": {},
   "outputs": [],
   "source": [
    "counties, merged_df = download_county_geojson_and_merge_df(geojson_url, mask_df_counties)\n",
    "merged_df.head(2)"
   ]
  },
  {
   "cell_type": "markdown",
   "metadata": {},
   "source": [
    "### Add list of all ppe requests per county"
   ]
  },
  {
   "cell_type": "code",
   "execution_count": null,
   "metadata": {},
   "outputs": [],
   "source": [
    "merged_df = add_all_ppe_requests_to_merged_df(mask_df,merged_df)"
   ]
  },
  {
   "cell_type": "code",
   "execution_count": null,
   "metadata": {},
   "outputs": [],
   "source": [
    "# TODO : Add all requests info as clickable info on the interactive maps\n",
    "# How to pull array of dicts from 'all_ppe_requests' category\n",
    "''' \n",
    "all_ppe_locations_array= eval(str(merged_df.loc[\n",
    "    merged_df['fips'] == '01073', 'all_ppe_requests'].values[0]))\n",
    "print (all_ppe_locations_array)\n",
    "merged_df['ppe_text'] = 'PPE Requests: ' + merged_df['PPE_requests'].astype(int).astype(str) + '<br>'+ \\\n",
    "        merged_df['county'].astype(str) + ', ' + merged_df['STATE'].astype(str) + \\\n",
    "        eval(merged_df['all_ppe_requests'].values\n",
    "'''"
   ]
  },
  {
   "cell_type": "markdown",
   "metadata": {},
   "source": [
    "### Map of PPE Requests"
   ]
  },
  {
   "cell_type": "code",
   "execution_count": null,
   "metadata": {},
   "outputs": [],
   "source": [
    "choropleth_mapbox_usa_plot(\n",
    "    counties = counties,\n",
    "    locations = merged_df.fips,\n",
    "    z = merged_df.PPE_requests,\n",
    "    text = merged_df.ppe_text,\n",
    "    #colorscale = [\"#fdfcef\", \"#c7e9b4\", \"#6ab7a6\",\"#41b6c4\",\"#2c7fb8\",\"#253494\"],\n",
    "    colorscale = [\"#fdfcef\",\"#c7e9b4\",\"#D2FBFF\",\"#36A2B9\",\"#004469\"],\n",
    "    zmin = 0,\n",
    "    zmax=5,\n",
    "    title = ('PPE Requests By County - %s - (Hover for breakdown)' % time.strftime(\"%Y%m%d\")),\n",
    "    colorbar_title = '> PPE Requests',\n",
    "    html_filename = 'PPE_Requests_By_County.html')"
   ]
  },
  {
   "cell_type": "markdown",
   "metadata": {},
   "source": [
    "## Download COVID19 data and convert to pandas"
   ]
  },
  {
   "cell_type": "code",
   "execution_count": null,
   "metadata": {
    "scrolled": false
   },
   "outputs": [],
   "source": [
    "covid_df = download_nytimes_data(\n",
    "    ny_times_county_data_url, ny_times_covid_date, write_out_csv = True)\n",
    "covid_df.head(5)"
   ]
  },
  {
   "cell_type": "markdown",
   "metadata": {},
   "source": [
    "### Merge the covid and Nytimes data"
   ]
  },
  {
   "cell_type": "code",
   "execution_count": null,
   "metadata": {},
   "outputs": [],
   "source": [
    "merged_covid_ppe_df=merge_covid_ppe_df(covid_df,merged_df) \n",
    "merged_covid_ppe_df.head(2)"
   ]
  },
  {
   "cell_type": "markdown",
   "metadata": {},
   "source": [
    "### Mapping covid cases "
   ]
  },
  {
   "cell_type": "code",
   "execution_count": null,
   "metadata": {
    "scrolled": true
   },
   "outputs": [],
   "source": [
    "choropleth_mapbox_usa_plot(\n",
    "    counties = counties,\n",
    "    locations = merged_covid_ppe_df.fips,\n",
    "    z = merged_covid_ppe_df.cases,\n",
    "    text = merged_covid_ppe_df.covid_text,\n",
    "    colorscale = [\"#fdfcef\",\"#ffda55\",\"#FFC831\",\"#fc7555\",\"#e96e81\",],\n",
    "    zmin = 0,\n",
    "    zmax=100,\n",
    "    title = ('COVID19 Cases Per County - %s - (Hover for breakdown)' % ny_times_covid_date),\n",
    "    html_filename = ('COVID19_Cases_Per_County_%s.html' % ny_times_covid_date),\n",
    "    colorbar_title = '> COVID19 Cases',\n",
    ")"
   ]
  },
  {
   "cell_type": "markdown",
   "metadata": {},
   "source": [
    "## Hospital bed visualization by county "
   ]
  },
  {
   "cell_type": "code",
   "execution_count": null,
   "metadata": {},
   "outputs": [],
   "source": [
    "hospital_df = download_hospital_data(hospital_download_url, write_out_csv = True)\n",
    "hospital_df.head(3)"
   ]
  },
  {
   "cell_type": "code",
   "execution_count": null,
   "metadata": {},
   "outputs": [],
   "source": [
    "hospital_df_counties = process_hospital_data(hospital_df, write_out_csv = True)\n",
    "hospital_df_counties.head(2)"
   ]
  },
  {
   "cell_type": "code",
   "execution_count": null,
   "metadata": {},
   "outputs": [],
   "source": [
    "merged_covid_ppe_hosp_df=merge_covid_ppe_hosp_df(hospital_df_counties,merged_covid_ppe_df) \n",
    "merged_covid_ppe_hosp_df.head(2)"
   ]
  },
  {
   "cell_type": "code",
   "execution_count": null,
   "metadata": {},
   "outputs": [],
   "source": [
    "# Hospital bed plotting\n",
    "choropleth_mapbox_usa_plot(\n",
    "    counties = counties,\n",
    "    locations = merged_covid_ppe_hosp_df.fips,\n",
    "    z = merged_covid_ppe_hosp_df.BEDS,\n",
    "    text = merged_covid_ppe_hosp_df.hosp_text,\n",
    "    colorscale = [\"#fdfcef\",\"#c7e9b4\",\"#D2FBFF\",\"#36A2B9\",\"#004469\"],\n",
    "    zmin = 0,\n",
    "    zmax=500,\n",
    "    title = ('Hospital beds per county - %s - (Hover for breakdown)' % time.strftime(\"%Y%m%d\")),\n",
    "    html_filename = ('Hospital_beds_per_county_%s.html' % time.strftime(\"%Y%m%d\")),\n",
    "    colorbar_title = '> Hospital Beds'\n",
    "    )"
   ]
  },
  {
   "cell_type": "markdown",
   "metadata": {},
   "source": [
    "### Covid cases per bed available"
   ]
  },
  {
   "cell_type": "code",
   "execution_count": null,
   "metadata": {},
   "outputs": [],
   "source": [
    "merged_covid_ppe_hosp_df = calculate_covid_per_bed_available(merged_covid_ppe_hosp_df)\n",
    "merged_covid_ppe_hosp_df.head(2)"
   ]
  },
  {
   "cell_type": "code",
   "execution_count": null,
   "metadata": {},
   "outputs": [],
   "source": [
    "# Map hazard ratio\n",
    "choropleth_mapbox_usa_plot(\n",
    "    counties = counties,\n",
    "    locations = merged_covid_ppe_hosp_df.fips,\n",
    "    z = merged_covid_ppe_hosp_df.Covid_cases_per_bed,\n",
    "    text = merged_covid_ppe_hosp_df.hosp_text,\n",
    "    colorscale = [\"#fdfcef\",\"#ffda55\",\"#FFC831\",\"#fc7555\",\"#e96e81\",],\n",
    "    zmin = 0,\n",
    "    zmax=1,\n",
    "    title = ('Hazard Ratio: Covid19 Cases, Per Bed, Per County - %s - (Hover for breakdown)' % ny_times_covid_date),\n",
    "    html_filename = ('Covid19_cases_per_bed_per_county_%s.html' % time.strftime(\"%Y%m%d\")),\n",
    "    colorbar_title = '> Hazard Ratio (Cases/Bed)'\n",
    "    )"
   ]
  },
  {
   "cell_type": "markdown",
   "metadata": {},
   "source": [
    "### Identify counties with No PPE requests, with highest Covid19 cases"
   ]
  },
  {
   "cell_type": "code",
   "execution_count": null,
   "metadata": {},
   "outputs": [],
   "source": [
    "covid_ppe_df = find_counties_with_covid19_and_no_ppe_request(covid_df, mask_df_counties)\n",
    "covid_ppe_df[['date','county','state','cases','deaths','PPE_requests']].head(10)"
   ]
  },
  {
   "cell_type": "markdown",
   "metadata": {},
   "source": [
    "### Correlation of PPE request per county with COVID19 cases"
   ]
  },
  {
   "cell_type": "code",
   "execution_count": null,
   "metadata": {},
   "outputs": [],
   "source": [
    "viz_correlation_ppe_request_covid19_cases(merged_covid_ppe_hosp_df)"
   ]
  },
  {
   "cell_type": "markdown",
   "metadata": {},
   "source": [
    "### Match hospital names to hospital database"
   ]
  },
  {
   "cell_type": "code",
   "execution_count": null,
   "metadata": {},
   "outputs": [],
   "source": [
    "# TODO\n",
    "''' \n",
    "from fuzzywuzzy import fuzz \n",
    "from fuzzywuzzy import process \n",
    "\n",
    "# this takes a while, so I limited it to 100 names\n",
    "returned_matches = []\n",
    "for name in mrl['name'].values.tolist()[:99]:\n",
    "    best_matches = process.extract(name, std_hospital_names)\n",
    "    returned_matches.append((name, best_matches))\n",
    "'''\n"
   ]
  },
  {
   "cell_type": "markdown",
   "metadata": {},
   "source": [
    "### Download the 'I have PPE dataset' - Not public currently"
   ]
  },
  {
   "cell_type": "code",
   "execution_count": null,
   "metadata": {},
   "outputs": [],
   "source": [
    "ppe_donors_df = download_PPE_donors()\n",
    "ppe_donors_df.head(2)"
   ]
  },
  {
   "cell_type": "markdown",
   "metadata": {},
   "source": [
    "### Map zip code to lat long"
   ]
  },
  {
   "cell_type": "code",
   "execution_count": null,
   "metadata": {},
   "outputs": [],
   "source": [
    "zip_fips_df=download_zip_to_fips_data()\n",
    "zip_fips_df.head(2)"
   ]
  },
  {
   "cell_type": "markdown",
   "metadata": {},
   "source": [
    "### Donwload zip to lat long data"
   ]
  },
  {
   "cell_type": "code",
   "execution_count": null,
   "metadata": {},
   "outputs": [],
   "source": [
    "zip_lat_long_df=download_zip_to_lat_long_data()\n",
    "zip_lat_long_df.head(2)"
   ]
  },
  {
   "cell_type": "markdown",
   "metadata": {},
   "source": [
    "### Map zip code to county fips"
   ]
  },
  {
   "cell_type": "code",
   "execution_count": null,
   "metadata": {},
   "outputs": [],
   "source": [
    "ppe_donors_with_zip_df = add_fips_ppe_donors(ppe_donors_df, zip_fips_df)\n",
    "ppe_donors_with_zip_df.head(2)"
   ]
  },
  {
   "cell_type": "markdown",
   "metadata": {},
   "source": [
    "### Merge donors and requester information with large merged DF"
   ]
  },
  {
   "cell_type": "code",
   "execution_count": null,
   "metadata": {},
   "outputs": [],
   "source": [
    "merged_covid_ppe_hosp_donors_df = donors_per_county(\n",
    "    ppe_donors_with_zip_df, merged_covid_ppe_hosp_df, write_out_csv = True)\n",
    "merged_covid_ppe_hosp_donors_df.head(2)"
   ]
  },
  {
   "cell_type": "code",
   "execution_count": null,
   "metadata": {
    "scrolled": true
   },
   "outputs": [],
   "source": [
    "# Donors plotting\n",
    "choropleth_mapbox_usa_plot(\n",
    "    counties = counties,\n",
    "    locations = merged_covid_ppe_hosp_donors_df.fips,\n",
    "    z = merged_covid_ppe_hosp_donors_df.ppe_donors,\n",
    "    text = merged_covid_ppe_hosp_donors_df.ppe_donors_requests_text,\n",
    "    colorscale = [\"#fdfcef\",\"#c7e9b4\",\"#D2FBFF\",\"#36A2B9\",\"#004469\"],\n",
    "    zmin = 0,\n",
    "    zmax=5,\n",
    "    title = ('PPE Donors Per County - %s - (Hover for breakdown)' % time.strftime(\"%Y%m%d\")),\n",
    "    html_filename = ('PPE_Donors_Per_County_%s.html' % time.strftime(\"%Y%m%d\")),\n",
    "    colorbar_title = '> PPE Donors'\n",
    "    )"
   ]
  },
  {
   "cell_type": "markdown",
   "metadata": {},
   "source": [
    "### Calculate donors per requests"
   ]
  },
  {
   "cell_type": "code",
   "execution_count": null,
   "metadata": {},
   "outputs": [],
   "source": [
    "merged_covid_ppe_hosp_donors_df = calculate_donor_per_requester(\n",
    "    merged_covid_ppe_hosp_donors_df)"
   ]
  },
  {
   "cell_type": "code",
   "execution_count": null,
   "metadata": {},
   "outputs": [],
   "source": [
    "# Donor vs Request plotting\n",
    "choropleth_mapbox_usa_plot(\n",
    "    counties = counties,\n",
    "    locations = merged_covid_ppe_hosp_donors_df.fips,\n",
    "    z = merged_covid_ppe_hosp_donors_df.PPE_Donor_Per_Requester,\n",
    "    text = merged_covid_ppe_hosp_donors_df.ppe_donors_requests_ratio_text,\n",
    "    #colorscale = [\"#e96e81\",\"#fc7555\",\"#FFC831\",\"#fdfcef\",\"#D2FBFF\",\"#c7e9b4\",\"#1ee81e\"],\n",
    "    colorscale=['#ea6f67',\"#fdfcef\",\"#39bbec\"],\n",
    "    zmin = 0,\n",
    "    zmax=1,\n",
    "    title = ('PPE Donors Per Requestors - Counties with Donors Only - %s - (Hover for breakdown)' % time.strftime(\"%Y%m%d\")),\n",
    "    html_filename = ('PPE_Donors_Per_Requestors_%s.html' % time.strftime(\"%Y%m%d\")),\n",
    "    colorbar_title = '> PPE Donors'\n",
    "    )"
   ]
  },
  {
   "cell_type": "markdown",
   "metadata": {},
   "source": [
    "### Find closest requesters to donor"
   ]
  },
  {
   "cell_type": "code",
   "execution_count": null,
   "metadata": {},
   "outputs": [],
   "source": [
    "requestor_info_df = create_requestor_df_for_querying_requesters(mask_df, merged_covid_ppe_hosp_df)\n",
    "requestor_info_df.head(2)"
   ]
  },
  {
   "cell_type": "markdown",
   "metadata": {},
   "source": [
    "### Map the Top 10 closest for all donors"
   ]
  },
  {
   "cell_type": "code",
   "execution_count": null,
   "metadata": {},
   "outputs": [],
   "source": [
    "# create temporary records file to use in lambda function\n",
    "requestor_info_df_records = requestor_info_df[[\n",
    "    'institution','address','city','need','instructions','lat','lon',\n",
    "    'Hazard_Index_Covid_Cases_Per_Hosp_Bed']].to_dict('records')\n",
    "\n",
    "# Map the 10 closest requestors to a list\n",
    "ppe_donors_with_zip_df['Closest_Requestor_List'] = ppe_donors_with_zip_df.apply(\n",
    "        lambda x: k10_closest(requestor_info_df_records,{'lat': x['lat'], 'lon': x['lon']}), axis=1)\n",
    "\n",
    "# Allocate the 10 closest requestors to individual columns\n",
    "ppe_donors_with_zip_df['Closest_Requestor_1'] = ppe_donors_with_zip_df.apply(\n",
    "        lambda x: x['Closest_Requestor_List'][0], axis=1)\n",
    "ppe_donors_with_zip_df['Closest_Requestor_2'] = ppe_donors_with_zip_df.apply(\n",
    "        lambda x: x['Closest_Requestor_List'][1], axis=1)\n",
    "ppe_donors_with_zip_df['Closest_Requestor_3'] = ppe_donors_with_zip_df.apply(\n",
    "        lambda x: x['Closest_Requestor_List'][2], axis=1)\n",
    "ppe_donors_with_zip_df['Closest_Requestor_4'] = ppe_donors_with_zip_df.apply(\n",
    "        lambda x: x['Closest_Requestor_List'][3], axis=1)\n",
    "ppe_donors_with_zip_df['Closest_Requestor_5'] = ppe_donors_with_zip_df.apply(\n",
    "        lambda x: x['Closest_Requestor_List'][4], axis=1)\n",
    "ppe_donors_with_zip_df['Closest_Requestor_6'] = ppe_donors_with_zip_df.apply(\n",
    "        lambda x: x['Closest_Requestor_List'][5], axis=1)\n",
    "ppe_donors_with_zip_df['Closest_Requestor_7'] = ppe_donors_with_zip_df.apply(\n",
    "        lambda x: x['Closest_Requestor_List'][6], axis=1)\n",
    "ppe_donors_with_zip_df['Closest_Requestor_8'] = ppe_donors_with_zip_df.apply(\n",
    "        lambda x: x['Closest_Requestor_List'][7], axis=1)\n",
    "ppe_donors_with_zip_df['Closest_Requestor_9'] = ppe_donors_with_zip_df.apply(\n",
    "        lambda x: x['Closest_Requestor_List'][8], axis=1)\n",
    "ppe_donors_with_zip_df['Closest_Requestor_10'] = ppe_donors_with_zip_df.apply(\n",
    "        lambda x: x['Closest_Requestor_List'][9], axis=1)\n",
    "\n",
    "# Drop the requestors list\n",
    "ppe_donors_with_zip_df.drop(['Closest_Requestor_List'], axis=1)\n",
    "\n",
    "ppe_donors_with_zip_df.head(2)"
   ]
  },
  {
   "cell_type": "markdown",
   "metadata": {},
   "source": [
    "### Write out the matches to disk"
   ]
  },
  {
   "cell_type": "code",
   "execution_count": null,
   "metadata": {},
   "outputs": [],
   "source": [
    "write_out_csv = True\n",
    "ppe_donors_with_zip_df\n",
    "if write_out_csv:\n",
    "    timestr = time.strftime(\"%Y%m%d\")\n",
    "    path = 'PPE_donors_proximity_to_ppe_requestors_' + timestr + '.csv'\n",
    "    ppe_donors_with_zip_df.to_csv (path, index = False, header=True)"
   ]
  },
  {
   "cell_type": "code",
   "execution_count": null,
   "metadata": {},
   "outputs": [],
   "source": []
  }
 ],
 "metadata": {
  "kernelspec": {
   "display_name": "Python 3",
   "language": "python",
   "name": "python3"
  },
  "language_info": {
   "codemirror_mode": {
    "name": "ipython",
    "version": 3
   },
   "file_extension": ".py",
   "mimetype": "text/x-python",
   "name": "python",
   "nbconvert_exporter": "python",
   "pygments_lexer": "ipython3",
   "version": "3.7.7"
  }
 },
 "nbformat": 4,
 "nbformat_minor": 4
}
