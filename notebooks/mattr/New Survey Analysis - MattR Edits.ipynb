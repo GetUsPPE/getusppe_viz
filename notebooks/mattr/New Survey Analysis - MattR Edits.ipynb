{
 "cells": [
  {
   "cell_type": "markdown",
   "metadata": {},
   "source": [
    "# Analysis of PPE Need Across the USA\n",
    "Results of Demand Side GetUsPPE Study - Launched April 3rd, 2020"
   ]
  },
  {
   "cell_type": "code",
   "execution_count": 88,
   "metadata": {},
   "outputs": [],
   "source": [
    "# import data and packages\n",
    "import json, requests\n",
    "import configparser\n",
    "import os, sys, time\n",
    "import os.path as path\n",
    "\n",
    "# computing\n",
    "import pandas as pd\n",
    "import numpy as np\n",
    "import matplotlib.pyplot as plt\n",
    "import seaborn as sns\n",
    "\n",
    "import us\n",
    "from uszipcode import SearchEngine\n",
    "import plotly.graph_objects as go\n",
    "from plotly.offline import plot\n",
    "sns.set()"
   ]
  },
  {
   "cell_type": "markdown",
   "metadata": {},
   "source": [
    "### Download survey data"
   ]
  },
  {
   "cell_type": "code",
   "execution_count": 52,
   "metadata": {},
   "outputs": [
    {
     "data": {
      "text/html": [
       "<div>\n",
       "<style scoped>\n",
       "    .dataframe tbody tr th:only-of-type {\n",
       "        vertical-align: middle;\n",
       "    }\n",
       "\n",
       "    .dataframe tbody tr th {\n",
       "        vertical-align: top;\n",
       "    }\n",
       "\n",
       "    .dataframe thead th {\n",
       "        text-align: right;\n",
       "    }\n",
       "</style>\n",
       "<table border=\"1\" class=\"dataframe\">\n",
       "  <thead>\n",
       "    <tr style=\"text-align: right;\">\n",
       "      <th></th>\n",
       "      <th>Respondent ID</th>\n",
       "      <th>Collector ID</th>\n",
       "      <th>Start Date</th>\n",
       "      <th>End Date</th>\n",
       "      <th>IP Address</th>\n",
       "      <th>Email Address</th>\n",
       "      <th>First Name</th>\n",
       "      <th>Last Name</th>\n",
       "      <th>Custom Data 1</th>\n",
       "      <th>Correct Email</th>\n",
       "      <th>...</th>\n",
       "      <th>Drop Off Address</th>\n",
       "      <th>Drop Off Address 2</th>\n",
       "      <th>Drop Off City</th>\n",
       "      <th>Drop Off State</th>\n",
       "      <th>Drop Off Zip</th>\n",
       "      <th>Drop Off Country</th>\n",
       "      <th>Drop Off Email</th>\n",
       "      <th>Drop Off Phone</th>\n",
       "      <th>Drop Off Instructions</th>\n",
       "      <th>Other</th>\n",
       "    </tr>\n",
       "  </thead>\n",
       "  <tbody>\n",
       "    <tr>\n",
       "      <th>0</th>\n",
       "      <td>11476056530</td>\n",
       "      <td>257559888</td>\n",
       "      <td>2020-04-04 10:47:40</td>\n",
       "      <td>2020-04-04 10:50:43</td>\n",
       "      <td>73.58.238.110</td>\n",
       "      <td>NaN</td>\n",
       "      <td>NaN</td>\n",
       "      <td>NaN</td>\n",
       "      <td>NaN</td>\n",
       "      <td>Yes</td>\n",
       "      <td>...</td>\n",
       "      <td>NaN</td>\n",
       "      <td>NaN</td>\n",
       "      <td>NaN</td>\n",
       "      <td>NaN</td>\n",
       "      <td>NaN</td>\n",
       "      <td>NaN</td>\n",
       "      <td>NaN</td>\n",
       "      <td>NaN</td>\n",
       "      <td>NaN</td>\n",
       "      <td>NaN</td>\n",
       "    </tr>\n",
       "    <tr>\n",
       "      <th>1</th>\n",
       "      <td>11476006849</td>\n",
       "      <td>257559888</td>\n",
       "      <td>2020-04-04 10:18:34</td>\n",
       "      <td>2020-04-04 10:22:40</td>\n",
       "      <td>67.180.110.145</td>\n",
       "      <td>NaN</td>\n",
       "      <td>NaN</td>\n",
       "      <td>NaN</td>\n",
       "      <td>NaN</td>\n",
       "      <td>Yes</td>\n",
       "      <td>...</td>\n",
       "      <td>NaN</td>\n",
       "      <td>NaN</td>\n",
       "      <td>NaN</td>\n",
       "      <td>NaN</td>\n",
       "      <td>NaN</td>\n",
       "      <td>NaN</td>\n",
       "      <td>NaN</td>\n",
       "      <td>NaN</td>\n",
       "      <td>NaN</td>\n",
       "      <td>NaN</td>\n",
       "    </tr>\n",
       "    <tr>\n",
       "      <th>2</th>\n",
       "      <td>11475968497</td>\n",
       "      <td>257559888</td>\n",
       "      <td>2020-04-04 10:01:41</td>\n",
       "      <td>2020-04-04 10:06:14</td>\n",
       "      <td>134.192.250.46</td>\n",
       "      <td>NaN</td>\n",
       "      <td>NaN</td>\n",
       "      <td>NaN</td>\n",
       "      <td>NaN</td>\n",
       "      <td>No (please specify correct email)</td>\n",
       "      <td>...</td>\n",
       "      <td>8108 Foxberry Ln</td>\n",
       "      <td>Apt 1513</td>\n",
       "      <td>Pasadena</td>\n",
       "      <td>MD</td>\n",
       "      <td>21122</td>\n",
       "      <td>NaN</td>\n",
       "      <td>NaN</td>\n",
       "      <td>410-212-8812</td>\n",
       "      <td>if you send to my apartment, i can easily get ...</td>\n",
       "      <td>NaN</td>\n",
       "    </tr>\n",
       "    <tr>\n",
       "      <th>3</th>\n",
       "      <td>11475727034</td>\n",
       "      <td>257559888</td>\n",
       "      <td>2020-04-04 07:39:08</td>\n",
       "      <td>2020-04-04 07:51:33</td>\n",
       "      <td>75.189.132.158</td>\n",
       "      <td>NaN</td>\n",
       "      <td>NaN</td>\n",
       "      <td>NaN</td>\n",
       "      <td>NaN</td>\n",
       "      <td>Yes</td>\n",
       "      <td>...</td>\n",
       "      <td>1801 doctors dr</td>\n",
       "      <td>NaN</td>\n",
       "      <td>sanford</td>\n",
       "      <td>NC</td>\n",
       "      <td>27330</td>\n",
       "      <td>United States</td>\n",
       "      <td>NaN</td>\n",
       "      <td>9193601290</td>\n",
       "      <td>monday - friday 8:30-4pm</td>\n",
       "      <td>Please help us be able to continue to see our ...</td>\n",
       "    </tr>\n",
       "    <tr>\n",
       "      <th>4</th>\n",
       "      <td>11475627496</td>\n",
       "      <td>257559888</td>\n",
       "      <td>2020-04-04 06:33:25</td>\n",
       "      <td>2020-04-04 06:41:13</td>\n",
       "      <td>67.241.42.1</td>\n",
       "      <td>NaN</td>\n",
       "      <td>NaN</td>\n",
       "      <td>NaN</td>\n",
       "      <td>NaN</td>\n",
       "      <td>Yes</td>\n",
       "      <td>...</td>\n",
       "      <td>1500 north James street</td>\n",
       "      <td>NaN</td>\n",
       "      <td>Rome</td>\n",
       "      <td>NY</td>\n",
       "      <td>13440</td>\n",
       "      <td>NaN</td>\n",
       "      <td>NaN</td>\n",
       "      <td>3153387000</td>\n",
       "      <td>Any day any time, main lobby</td>\n",
       "      <td>NaN</td>\n",
       "    </tr>\n",
       "  </tbody>\n",
       "</table>\n",
       "<p>5 rows × 126 columns</p>\n",
       "</div>"
      ],
      "text/plain": [
       "   Respondent ID  Collector ID           Start Date             End Date  \\\n",
       "0    11476056530     257559888  2020-04-04 10:47:40  2020-04-04 10:50:43   \n",
       "1    11476006849     257559888  2020-04-04 10:18:34  2020-04-04 10:22:40   \n",
       "2    11475968497     257559888  2020-04-04 10:01:41  2020-04-04 10:06:14   \n",
       "3    11475727034     257559888  2020-04-04 07:39:08  2020-04-04 07:51:33   \n",
       "4    11475627496     257559888  2020-04-04 06:33:25  2020-04-04 06:41:13   \n",
       "\n",
       "       IP Address  Email Address  First Name  Last Name  Custom Data 1  \\\n",
       "0   73.58.238.110            NaN         NaN        NaN            NaN   \n",
       "1  67.180.110.145            NaN         NaN        NaN            NaN   \n",
       "2  134.192.250.46            NaN         NaN        NaN            NaN   \n",
       "3  75.189.132.158            NaN         NaN        NaN            NaN   \n",
       "4     67.241.42.1            NaN         NaN        NaN            NaN   \n",
       "\n",
       "                       Correct Email  ...         Drop Off Address  \\\n",
       "0                                Yes  ...                      NaN   \n",
       "1                                Yes  ...                      NaN   \n",
       "2  No (please specify correct email)  ...         8108 Foxberry Ln   \n",
       "3                                Yes  ...          1801 doctors dr   \n",
       "4                                Yes  ...  1500 north James street   \n",
       "\n",
       "  Drop Off Address 2 Drop Off City Drop Off State Drop Off Zip  \\\n",
       "0                NaN           NaN            NaN          NaN   \n",
       "1                NaN           NaN            NaN          NaN   \n",
       "2           Apt 1513      Pasadena             MD        21122   \n",
       "3                NaN      sanford              NC        27330   \n",
       "4                NaN          Rome             NY        13440   \n",
       "\n",
       "  Drop Off Country Drop Off Email Drop Off Phone  \\\n",
       "0              NaN            NaN            NaN   \n",
       "1              NaN            NaN            NaN   \n",
       "2              NaN            NaN   410-212-8812   \n",
       "3    United States            NaN     9193601290   \n",
       "4              NaN            NaN     3153387000   \n",
       "\n",
       "                               Drop Off Instructions  \\\n",
       "0                                                NaN   \n",
       "1                                                NaN   \n",
       "2  if you send to my apartment, i can easily get ...   \n",
       "3                           monday - friday 8:30-4pm   \n",
       "4                      Any day any time, main lobby    \n",
       "\n",
       "                                               Other  \n",
       "0                                                NaN  \n",
       "1                                                NaN  \n",
       "2                                                NaN  \n",
       "3  Please help us be able to continue to see our ...  \n",
       "4                                                NaN  \n",
       "\n",
       "[5 rows x 126 columns]"
      ]
     },
     "execution_count": 52,
     "metadata": {},
     "output_type": "execute_result"
    }
   ],
   "source": [
    "# File has to be turned to view only to work - FYI\n",
    "survey_url = 'https://docs.google.com/spreadsheet/ccc?key=1YspvIHEjK2PnTHf_YePQX-i3HeGEqgbBxIJlRLsMkZ0&output=csv'\n",
    "\n",
    "survey = pd.read_csv(survey_url, error_bad_lines=False)\n",
    "survey.head(5)"
   ]
  },
  {
   "cell_type": "markdown",
   "metadata": {},
   "source": [
    "### Data Cleaning"
   ]
  },
  {
   "cell_type": "code",
   "execution_count": 53,
   "metadata": {},
   "outputs": [],
   "source": [
    "# Make sure zip codes have leading zeros.\n",
    "survey['Zip'] = survey['Zip'].apply(lambda x: '{0:0>5}'.format(x))\n",
    "# Only use the first five digits so it's a valid zipcode\n",
    "survey['Zip'] = survey['Zip'].astype(str).str[0:5]"
   ]
  },
  {
   "cell_type": "code",
   "execution_count": 54,
   "metadata": {},
   "outputs": [],
   "source": [
    "# Some string fields have formatting issues.\n",
    "columns = survey.select_dtypes(include='object').columns\n",
    "for column in columns:\n",
    "    survey[column] = survey[column].str.replace('\\xa0', ' ')"
   ]
  },
  {
   "cell_type": "code",
   "execution_count": 55,
   "metadata": {},
   "outputs": [],
   "source": [
    "ppes = ['N95', 'Surgical Mask', 'Face Shield', 'Booties', 'Gloves', 'Gown', \n",
    "        'Sanitizer', 'Wipes', 'Thermometer', 'Homemade Mask', 'Other']"
   ]
  },
  {
   "cell_type": "code",
   "execution_count": 56,
   "metadata": {},
   "outputs": [
    {
     "name": "stdout",
     "output_type": "stream",
     "text": [
      "86.5% left an answer for whether they need N95.\n",
      "14.6% left an answer for whether they need Surgical Mask.\n",
      "82.8% left an answer for whether they need Face Shield.\n",
      "82.0% left an answer for whether they need Booties.\n",
      "81.9% left an answer for whether they need Gloves.\n",
      "81.6% left an answer for whether they need Gown.\n",
      "81.6% left an answer for whether they need Sanitizer.\n",
      "81.4% left an answer for whether they need Wipes.\n",
      "81.0% left an answer for whether they need Thermometer.\n",
      "80.9% left an answer for whether they need Homemade Mask.\n",
      "80.9% left an answer for whether they need Other.\n"
     ]
    }
   ],
   "source": [
    "for ppe in ppes:\n",
    "    percent_filled_out = 100 * (1 - np.mean(pd.isnull(survey['Requesting {}'.format(ppe)])))\n",
    "    print(\"{:.1f}% left an answer for whether they need {}.\".format(percent_filled_out, ppe))"
   ]
  },
  {
   "cell_type": "markdown",
   "metadata": {},
   "source": [
    "### Determine number of institutions needing different types of PPE\n",
    "\n",
    "##### Survey Notes\n",
    "- For now, drop 'Surgical Mask' because there was a bug in the survey.\n",
    "- Also dropping homemade mask as this is not the default want (I think it biased the answer high)\n",
    "- Dropping 'Other' for main analysis\n",
    "\n"
   ]
  },
  {
   "cell_type": "code",
   "execution_count": 117,
   "metadata": {},
   "outputs": [
    {
     "name": "stderr",
     "output_type": "stream",
     "text": [
      "/Users/mrubash1/.pyenv/versions/miniconda3-4.7.12/envs/getusppe/lib/python3.7/site-packages/ipykernel_launcher.py:10: SettingWithCopyWarning:\n",
      "\n",
      "\n",
      "A value is trying to be set on a copy of a slice from a DataFrame.\n",
      "Try using .loc[row_indexer,col_indexer] = value instead\n",
      "\n",
      "See the caveats in the documentation: https://pandas.pydata.org/pandas-docs/stable/user_guide/indexing.html#returning-a-view-versus-a-copy\n",
      "\n"
     ]
    }
   ],
   "source": [
    "# types of PPE to consider\n",
    "ppes = ['N95', 'Face Shield', 'Booties', 'Gloves', 'Gown', \n",
    "        'Sanitizer', 'Wipes', 'Thermometer']\n",
    "\n",
    "# Remove all rows which have null values for any of the PPEs/\n",
    "valid_requests = survey\n",
    "for ppe in ppes:\n",
    "    valid_requests = valid_requests[valid_requests['Requesting {}'.format(ppe)].notnull()]\n",
    "    valid_requests['Requesting {}'.format(ppe)] = valid_requests[\n",
    "        'Requesting {}'.format(ppe)].replace({'Yes': True, 'No': False})"
   ]
  },
  {
   "cell_type": "code",
   "execution_count": 124,
   "metadata": {},
   "outputs": [
    {
     "name": "stdout",
     "output_type": "stream",
     "text": [
      "Percent of total survey valid: 0.8101449275362319\n",
      "\n",
      "Of the valid survey entries, they needed:\n",
      "83.0% of respondents need N95.\n",
      "73.3% of respondents need Face Shield.\n",
      "38.8% of respondents need Booties.\n",
      "52.8% of respondents need Gloves.\n",
      "77.6% of respondents need Gown.\n",
      "72.1% of respondents need Sanitizer.\n",
      "73.2% of respondents need Wipes.\n",
      "48.5% of respondents need Thermometer.\n"
     ]
    }
   ],
   "source": [
    "# Still keeping 81% of DF, probably about the best we could do.\n",
    "percent_survey_used = len(valid_requests) / len(survey)\n",
    "print ('Percent of total survey valid: %s\\n' % (percent_survey_used))\n",
    "\n",
    "print ('Of the valid survey entries, they needed:')\n",
    "for ppe in ppes:\n",
    "    percent_needing_ppe = 100 * np.mean(valid_requests['Requesting {}'.format(ppe)].astype(int))\n",
    "    print(\"{:.1f}% of respondents need {}.\".format(percent_needing_ppe, ppe))"
   ]
  },
  {
   "cell_type": "markdown",
   "metadata": {},
   "source": [
    "### Plot pie chart"
   ]
  },
  {
   "cell_type": "code",
   "execution_count": 39,
   "metadata": {},
   "outputs": [
    {
     "data": {
      "image/png": "[encoded data removed]",
      "text/plain": [
       "<Figure size 720x1080 with 8 Axes>"
      ]
     },
     "metadata": {},
     "output_type": "display_data"
    }
   ],
   "source": [
    "fig, axs = plt.subplots(4, 2, figsize=(10, 15))\n",
    "fig.tight_layout(pad=3.0)\n",
    "order = [3, 2, 0, 1, 4]\n",
    "count = 0\n",
    "colors = [\"#FDFCEF\",\"#FFDA55\",\"#FFC831\",\"#FC7555\",\"#E96E81\"]\n",
    "for ppe in ppes:\n",
    "    ppe_stock = np.array(valid_requests[~pd.isnull(valid_requests['{} Stock'.format(ppe)])]['{} Stock'.format(ppe)])\n",
    "    ppe_unique, ppe_counts = np.unique(ppe_stock, return_counts=True)\n",
    "    labels = ppe_unique[order]\n",
    "    percentages = (ppe_counts / np.sum(ppe_counts) * 100)[order]\n",
    "    axs[count // 2, count % 2].pie(percentages, labels=labels, colors=colors, autopct='%1.0f%%')\n",
    "    axs[count // 2, count % 2].set_title(\"{} Supply Remaining (n={})\".format(ppe, len(ppe_stock)), size=16)\n",
    "    count += 1\n",
    "plt.savefig(\"supplies_remaining.png\", dpi=200, bbox_to_anchor='tight')"
   ]
  },
  {
   "cell_type": "markdown",
   "metadata": {},
   "source": [
    "### Create new dataframe with just stock of items of interest"
   ]
  },
  {
   "cell_type": "code",
   "execution_count": 102,
   "metadata": {},
   "outputs": [
    {
     "data": {
      "text/html": [
       "<div>\n",
       "<style scoped>\n",
       "    .dataframe tbody tr th:only-of-type {\n",
       "        vertical-align: middle;\n",
       "    }\n",
       "\n",
       "    .dataframe tbody tr th {\n",
       "        vertical-align: top;\n",
       "    }\n",
       "\n",
       "    .dataframe thead th {\n",
       "        text-align: right;\n",
       "    }\n",
       "</style>\n",
       "<table border=\"1\" class=\"dataframe\">\n",
       "  <thead>\n",
       "    <tr style=\"text-align: right;\">\n",
       "      <th></th>\n",
       "      <th>Requesting N95</th>\n",
       "      <th>N95 Stock</th>\n",
       "      <th>Requesting Face Shield</th>\n",
       "      <th>Face Shield Stock</th>\n",
       "      <th>Requesting Booties</th>\n",
       "      <th>Booties Stock</th>\n",
       "      <th>Requesting Gloves</th>\n",
       "      <th>Gloves Stock</th>\n",
       "      <th>Requesting Gown</th>\n",
       "      <th>Gown Stock</th>\n",
       "      <th>Requesting Sanitizer</th>\n",
       "      <th>Sanitizer Stock</th>\n",
       "      <th>Requesting Wipes</th>\n",
       "      <th>Wipes Stock</th>\n",
       "      <th>Requesting Thermometer</th>\n",
       "      <th>Thermometer Stock</th>\n",
       "      <th>Zip</th>\n",
       "    </tr>\n",
       "  </thead>\n",
       "  <tbody>\n",
       "    <tr>\n",
       "      <th>0</th>\n",
       "      <td>NaN</td>\n",
       "      <td>NaN</td>\n",
       "      <td>NaN</td>\n",
       "      <td>NaN</td>\n",
       "      <td>NaN</td>\n",
       "      <td>NaN</td>\n",
       "      <td>NaN</td>\n",
       "      <td>NaN</td>\n",
       "      <td>NaN</td>\n",
       "      <td>NaN</td>\n",
       "      <td>NaN</td>\n",
       "      <td>NaN</td>\n",
       "      <td>NaN</td>\n",
       "      <td>NaN</td>\n",
       "      <td>NaN</td>\n",
       "      <td>NaN</td>\n",
       "      <td>37232</td>\n",
       "    </tr>\n",
       "    <tr>\n",
       "      <th>1</th>\n",
       "      <td>NaN</td>\n",
       "      <td>NaN</td>\n",
       "      <td>NaN</td>\n",
       "      <td>NaN</td>\n",
       "      <td>NaN</td>\n",
       "      <td>NaN</td>\n",
       "      <td>NaN</td>\n",
       "      <td>NaN</td>\n",
       "      <td>NaN</td>\n",
       "      <td>NaN</td>\n",
       "      <td>NaN</td>\n",
       "      <td>NaN</td>\n",
       "      <td>NaN</td>\n",
       "      <td>NaN</td>\n",
       "      <td>NaN</td>\n",
       "      <td>NaN</td>\n",
       "      <td>95110</td>\n",
       "    </tr>\n",
       "    <tr>\n",
       "      <th>2</th>\n",
       "      <td>True</td>\n",
       "      <td>NaN</td>\n",
       "      <td>False</td>\n",
       "      <td>NaN</td>\n",
       "      <td>False</td>\n",
       "      <td>NaN</td>\n",
       "      <td>False</td>\n",
       "      <td>NaN</td>\n",
       "      <td>False</td>\n",
       "      <td>NaN</td>\n",
       "      <td>True</td>\n",
       "      <td>7.0</td>\n",
       "      <td>True</td>\n",
       "      <td>7.0</td>\n",
       "      <td>False</td>\n",
       "      <td>NaN</td>\n",
       "      <td>21201</td>\n",
       "    </tr>\n",
       "    <tr>\n",
       "      <th>3</th>\n",
       "      <td>True</td>\n",
       "      <td>0.0</td>\n",
       "      <td>False</td>\n",
       "      <td>NaN</td>\n",
       "      <td>False</td>\n",
       "      <td>NaN</td>\n",
       "      <td>True</td>\n",
       "      <td>14.0</td>\n",
       "      <td>True</td>\n",
       "      <td>14.0</td>\n",
       "      <td>True</td>\n",
       "      <td>14.0</td>\n",
       "      <td>True</td>\n",
       "      <td>14.0</td>\n",
       "      <td>True</td>\n",
       "      <td>14.0</td>\n",
       "      <td>27330</td>\n",
       "    </tr>\n",
       "    <tr>\n",
       "      <th>4</th>\n",
       "      <td>True</td>\n",
       "      <td>7.0</td>\n",
       "      <td>True</td>\n",
       "      <td>0.0</td>\n",
       "      <td>True</td>\n",
       "      <td>7.0</td>\n",
       "      <td>False</td>\n",
       "      <td>NaN</td>\n",
       "      <td>True</td>\n",
       "      <td>7.0</td>\n",
       "      <td>True</td>\n",
       "      <td>28.0</td>\n",
       "      <td>False</td>\n",
       "      <td>NaN</td>\n",
       "      <td>False</td>\n",
       "      <td>NaN</td>\n",
       "      <td>13440</td>\n",
       "    </tr>\n",
       "  </tbody>\n",
       "</table>\n",
       "</div>"
      ],
      "text/plain": [
       "  Requesting N95  N95 Stock Requesting Face Shield  Face Shield Stock  \\\n",
       "0            NaN        NaN                    NaN                NaN   \n",
       "1            NaN        NaN                    NaN                NaN   \n",
       "2           True        NaN                  False                NaN   \n",
       "3           True        0.0                  False                NaN   \n",
       "4           True        7.0                   True                0.0   \n",
       "\n",
       "  Requesting Booties  Booties Stock Requesting Gloves  Gloves Stock  \\\n",
       "0                NaN            NaN               NaN           NaN   \n",
       "1                NaN            NaN               NaN           NaN   \n",
       "2              False            NaN             False           NaN   \n",
       "3              False            NaN              True          14.0   \n",
       "4               True            7.0             False           NaN   \n",
       "\n",
       "  Requesting Gown  Gown Stock Requesting Sanitizer  Sanitizer Stock  \\\n",
       "0             NaN         NaN                  NaN              NaN   \n",
       "1             NaN         NaN                  NaN              NaN   \n",
       "2           False         NaN                 True              7.0   \n",
       "3            True        14.0                 True             14.0   \n",
       "4            True         7.0                 True             28.0   \n",
       "\n",
       "  Requesting Wipes  Wipes Stock Requesting Thermometer  Thermometer Stock  \\\n",
       "0              NaN          NaN                    NaN                NaN   \n",
       "1              NaN          NaN                    NaN                NaN   \n",
       "2             True          7.0                  False                NaN   \n",
       "3             True         14.0                   True               14.0   \n",
       "4            False          NaN                  False                NaN   \n",
       "\n",
       "     Zip  \n",
       "0  37232  \n",
       "1  95110  \n",
       "2  21201  \n",
       "3  27330  \n",
       "4  13440  "
      ]
     },
     "execution_count": 102,
     "metadata": {},
     "output_type": "execute_result"
    }
   ],
   "source": [
    "# Pull stock of items out of survey datafarme\n",
    "item_stock_df = survey[[\n",
    "    'Requesting N95',\n",
    "    'N95 Stock', \n",
    "    'Requesting Face Shield',\n",
    "    'Face Shield Stock',\n",
    "    'Requesting Booties',\n",
    "    'Booties Stock',\n",
    "    'Requesting Gloves',\n",
    "    'Gloves Stock',\n",
    "    'Requesting Gown',\n",
    "    'Gown Stock',\n",
    "    'Requesting Sanitizer',\n",
    "    'Sanitizer Stock',\n",
    "    'Requesting Wipes',\n",
    "    'Wipes Stock',\n",
    "    'Requesting Thermometer',\n",
    "    'Thermometer Stock',\n",
    "    'Zip']]\n",
    "\n",
    "# Map the stock from ordinal to numerical\n",
    "mapping = {'No supply remaining': 0,\n",
    "           '2 days or less': 2, \n",
    "           '1 week or less': 7,\n",
    "           '2 weeks or less': 14,\n",
    "           'More than 2 weeks': 28,\n",
    "           'Zip': 'Zip',\n",
    "           'Yes':True,\n",
    "           'No': False}\n",
    "\n",
    "item_stock_numberical_df=item_stock_df.replace({\n",
    "    'Requesting N95':mapping,\n",
    "    'N95 Stock':mapping, \n",
    "    'Requesting Face Shield':mapping,\n",
    "    'Face Shield Stock':mapping,\n",
    "    'Requesting Booties':mapping,\n",
    "    'Booties Stock':mapping,\n",
    "    'Requesting Gloves':mapping,\n",
    "    'Gloves Stock':mapping,\n",
    "    'Requesting Gown':mapping,\n",
    "    'Gown Stock':mapping,\n",
    "    'Requesting Sanitizer':mapping,\n",
    "    'Sanitizer Stock':mapping,\n",
    "    'Requesting Wipes':mapping,\n",
    "    'Wipes Stock':mapping,\n",
    "    'Requesting Thermometer':mapping,\n",
    "    'Thermometer Stock':mapping,\n",
    "    'Zip':mapping\n",
    "    })\n",
    "\n",
    "item_stock_numberical_df.head(5)"
   ]
  },
  {
   "cell_type": "markdown",
   "metadata": {},
   "source": [
    "### Map the zip code to state"
   ]
  },
  {
   "cell_type": "code",
   "execution_count": 103,
   "metadata": {},
   "outputs": [
    {
     "data": {
      "text/html": [
       "<div>\n",
       "<style scoped>\n",
       "    .dataframe tbody tr th:only-of-type {\n",
       "        vertical-align: middle;\n",
       "    }\n",
       "\n",
       "    .dataframe tbody tr th {\n",
       "        vertical-align: top;\n",
       "    }\n",
       "\n",
       "    .dataframe thead th {\n",
       "        text-align: right;\n",
       "    }\n",
       "</style>\n",
       "<table border=\"1\" class=\"dataframe\">\n",
       "  <thead>\n",
       "    <tr style=\"text-align: right;\">\n",
       "      <th></th>\n",
       "      <th>Requesting N95</th>\n",
       "      <th>N95 Stock</th>\n",
       "      <th>Requesting Face Shield</th>\n",
       "      <th>Face Shield Stock</th>\n",
       "      <th>Requesting Booties</th>\n",
       "      <th>Booties Stock</th>\n",
       "      <th>Requesting Gloves</th>\n",
       "      <th>Gloves Stock</th>\n",
       "      <th>Requesting Gown</th>\n",
       "      <th>Gown Stock</th>\n",
       "      <th>Requesting Sanitizer</th>\n",
       "      <th>Sanitizer Stock</th>\n",
       "      <th>Requesting Wipes</th>\n",
       "      <th>Wipes Stock</th>\n",
       "      <th>Requesting Thermometer</th>\n",
       "      <th>Thermometer Stock</th>\n",
       "      <th>Zip</th>\n",
       "      <th>State</th>\n",
       "    </tr>\n",
       "  </thead>\n",
       "  <tbody>\n",
       "    <tr>\n",
       "      <th>0</th>\n",
       "      <td>NaN</td>\n",
       "      <td>NaN</td>\n",
       "      <td>NaN</td>\n",
       "      <td>NaN</td>\n",
       "      <td>NaN</td>\n",
       "      <td>NaN</td>\n",
       "      <td>NaN</td>\n",
       "      <td>NaN</td>\n",
       "      <td>NaN</td>\n",
       "      <td>NaN</td>\n",
       "      <td>NaN</td>\n",
       "      <td>NaN</td>\n",
       "      <td>NaN</td>\n",
       "      <td>NaN</td>\n",
       "      <td>NaN</td>\n",
       "      <td>NaN</td>\n",
       "      <td>37232</td>\n",
       "      <td>TN</td>\n",
       "    </tr>\n",
       "    <tr>\n",
       "      <th>1</th>\n",
       "      <td>NaN</td>\n",
       "      <td>NaN</td>\n",
       "      <td>NaN</td>\n",
       "      <td>NaN</td>\n",
       "      <td>NaN</td>\n",
       "      <td>NaN</td>\n",
       "      <td>NaN</td>\n",
       "      <td>NaN</td>\n",
       "      <td>NaN</td>\n",
       "      <td>NaN</td>\n",
       "      <td>NaN</td>\n",
       "      <td>NaN</td>\n",
       "      <td>NaN</td>\n",
       "      <td>NaN</td>\n",
       "      <td>NaN</td>\n",
       "      <td>NaN</td>\n",
       "      <td>95110</td>\n",
       "      <td>CA</td>\n",
       "    </tr>\n",
       "    <tr>\n",
       "      <th>2</th>\n",
       "      <td>True</td>\n",
       "      <td>NaN</td>\n",
       "      <td>False</td>\n",
       "      <td>NaN</td>\n",
       "      <td>False</td>\n",
       "      <td>NaN</td>\n",
       "      <td>False</td>\n",
       "      <td>NaN</td>\n",
       "      <td>False</td>\n",
       "      <td>NaN</td>\n",
       "      <td>True</td>\n",
       "      <td>7.0</td>\n",
       "      <td>True</td>\n",
       "      <td>7.0</td>\n",
       "      <td>False</td>\n",
       "      <td>NaN</td>\n",
       "      <td>21201</td>\n",
       "      <td>MD</td>\n",
       "    </tr>\n",
       "    <tr>\n",
       "      <th>3</th>\n",
       "      <td>True</td>\n",
       "      <td>0.0</td>\n",
       "      <td>False</td>\n",
       "      <td>NaN</td>\n",
       "      <td>False</td>\n",
       "      <td>NaN</td>\n",
       "      <td>True</td>\n",
       "      <td>14.0</td>\n",
       "      <td>True</td>\n",
       "      <td>14.0</td>\n",
       "      <td>True</td>\n",
       "      <td>14.0</td>\n",
       "      <td>True</td>\n",
       "      <td>14.0</td>\n",
       "      <td>True</td>\n",
       "      <td>14.0</td>\n",
       "      <td>27330</td>\n",
       "      <td>NC</td>\n",
       "    </tr>\n",
       "    <tr>\n",
       "      <th>4</th>\n",
       "      <td>True</td>\n",
       "      <td>7.0</td>\n",
       "      <td>True</td>\n",
       "      <td>0.0</td>\n",
       "      <td>True</td>\n",
       "      <td>7.0</td>\n",
       "      <td>False</td>\n",
       "      <td>NaN</td>\n",
       "      <td>True</td>\n",
       "      <td>7.0</td>\n",
       "      <td>True</td>\n",
       "      <td>28.0</td>\n",
       "      <td>False</td>\n",
       "      <td>NaN</td>\n",
       "      <td>False</td>\n",
       "      <td>NaN</td>\n",
       "      <td>13440</td>\n",
       "      <td>NY</td>\n",
       "    </tr>\n",
       "  </tbody>\n",
       "</table>\n",
       "</div>"
      ],
      "text/plain": [
       "  Requesting N95  N95 Stock Requesting Face Shield  Face Shield Stock  \\\n",
       "0            NaN        NaN                    NaN                NaN   \n",
       "1            NaN        NaN                    NaN                NaN   \n",
       "2           True        NaN                  False                NaN   \n",
       "3           True        0.0                  False                NaN   \n",
       "4           True        7.0                   True                0.0   \n",
       "\n",
       "  Requesting Booties  Booties Stock Requesting Gloves  Gloves Stock  \\\n",
       "0                NaN            NaN               NaN           NaN   \n",
       "1                NaN            NaN               NaN           NaN   \n",
       "2              False            NaN             False           NaN   \n",
       "3              False            NaN              True          14.0   \n",
       "4               True            7.0             False           NaN   \n",
       "\n",
       "  Requesting Gown  Gown Stock Requesting Sanitizer  Sanitizer Stock  \\\n",
       "0             NaN         NaN                  NaN              NaN   \n",
       "1             NaN         NaN                  NaN              NaN   \n",
       "2           False         NaN                 True              7.0   \n",
       "3            True        14.0                 True             14.0   \n",
       "4            True         7.0                 True             28.0   \n",
       "\n",
       "  Requesting Wipes  Wipes Stock Requesting Thermometer  Thermometer Stock  \\\n",
       "0              NaN          NaN                    NaN                NaN   \n",
       "1              NaN          NaN                    NaN                NaN   \n",
       "2             True          7.0                  False                NaN   \n",
       "3             True         14.0                   True               14.0   \n",
       "4            False          NaN                  False                NaN   \n",
       "\n",
       "     Zip State  \n",
       "0  37232    TN  \n",
       "1  95110    CA  \n",
       "2  21201    MD  \n",
       "3  27330    NC  \n",
       "4  13440    NY  "
      ]
     },
     "execution_count": 103,
     "metadata": {},
     "output_type": "execute_result"
    }
   ],
   "source": [
    "# zfill the fips to make sure they are right\n",
    "width=5\n",
    "item_stock_numberical_df[\"Zip\"]= item_stock_numberical_df[\"Zip\"].astype(str)\n",
    "item_stock_numberical_df[\"Zip\"]= item_stock_numberical_df[\"Zip\"].str.zfill(width) \n",
    "\n",
    "\n",
    "# Leverage uszipcode package\n",
    "search = SearchEngine()\n",
    "search = SearchEngine(simple_zipcode=True)\n",
    "zipcode = search.by_zipcode(\"10001\")\n",
    "\n",
    "item_stock_numberical_df['State'] = item_stock_numberical_df.apply(\n",
    "        lambda x: (search.by_zipcode(x['Zip']).state), axis=1)\n",
    "item_stock_numberical_df.head(5)"
   ]
  },
  {
   "cell_type": "markdown",
   "metadata": {},
   "source": [
    "### Caluclate the mean amount of supply per facility"
   ]
  },
  {
   "cell_type": "code",
   "execution_count": 237,
   "metadata": {},
   "outputs": [
    {
     "data": {
      "text/html": [
       "<div>\n",
       "<style scoped>\n",
       "    .dataframe tbody tr th:only-of-type {\n",
       "        vertical-align: middle;\n",
       "    }\n",
       "\n",
       "    .dataframe tbody tr th {\n",
       "        vertical-align: top;\n",
       "    }\n",
       "\n",
       "    .dataframe thead th {\n",
       "        text-align: right;\n",
       "    }\n",
       "</style>\n",
       "<table border=\"1\" class=\"dataframe\">\n",
       "  <thead>\n",
       "    <tr style=\"text-align: right;\">\n",
       "      <th></th>\n",
       "      <th>N95 Stock</th>\n",
       "      <th>Face Shield Stock</th>\n",
       "      <th>Booties Stock</th>\n",
       "      <th>Gloves Stock</th>\n",
       "      <th>Gown Stock</th>\n",
       "      <th>Sanitizer Stock</th>\n",
       "      <th>Wipes Stock</th>\n",
       "      <th>Thermometer Stock</th>\n",
       "    </tr>\n",
       "    <tr>\n",
       "      <th>State</th>\n",
       "      <th></th>\n",
       "      <th></th>\n",
       "      <th></th>\n",
       "      <th></th>\n",
       "      <th></th>\n",
       "      <th></th>\n",
       "      <th></th>\n",
       "      <th></th>\n",
       "    </tr>\n",
       "  </thead>\n",
       "  <tbody>\n",
       "    <tr>\n",
       "      <th>AL</th>\n",
       "      <td>6.00</td>\n",
       "      <td>0.50</td>\n",
       "      <td>2.33</td>\n",
       "      <td>21.00</td>\n",
       "      <td>2.80</td>\n",
       "      <td>14.00</td>\n",
       "      <td>8.75</td>\n",
       "      <td>0.00</td>\n",
       "    </tr>\n",
       "    <tr>\n",
       "      <th>AR</th>\n",
       "      <td>11.67</td>\n",
       "      <td>9.33</td>\n",
       "      <td>11.67</td>\n",
       "      <td>17.50</td>\n",
       "      <td>7.00</td>\n",
       "      <td>10.00</td>\n",
       "      <td>10.50</td>\n",
       "      <td>14.00</td>\n",
       "    </tr>\n",
       "    <tr>\n",
       "      <th>AZ</th>\n",
       "      <td>9.80</td>\n",
       "      <td>9.33</td>\n",
       "      <td>16.33</td>\n",
       "      <td>14.00</td>\n",
       "      <td>13.29</td>\n",
       "      <td>10.11</td>\n",
       "      <td>8.78</td>\n",
       "      <td>9.33</td>\n",
       "    </tr>\n",
       "    <tr>\n",
       "      <th>CA</th>\n",
       "      <td>11.60</td>\n",
       "      <td>8.10</td>\n",
       "      <td>5.80</td>\n",
       "      <td>12.71</td>\n",
       "      <td>9.26</td>\n",
       "      <td>10.91</td>\n",
       "      <td>7.61</td>\n",
       "      <td>8.14</td>\n",
       "    </tr>\n",
       "    <tr>\n",
       "      <th>CO</th>\n",
       "      <td>9.10</td>\n",
       "      <td>5.10</td>\n",
       "      <td>7.00</td>\n",
       "      <td>19.25</td>\n",
       "      <td>10.12</td>\n",
       "      <td>7.50</td>\n",
       "      <td>7.00</td>\n",
       "      <td>12.00</td>\n",
       "    </tr>\n",
       "  </tbody>\n",
       "</table>\n",
       "</div>"
      ],
      "text/plain": [
       "       N95 Stock  Face Shield Stock  Booties Stock  Gloves Stock  Gown Stock  \\\n",
       "State                                                                          \n",
       "AL          6.00               0.50           2.33         21.00        2.80   \n",
       "AR         11.67               9.33          11.67         17.50        7.00   \n",
       "AZ          9.80               9.33          16.33         14.00       13.29   \n",
       "CA         11.60               8.10           5.80         12.71        9.26   \n",
       "CO          9.10               5.10           7.00         19.25       10.12   \n",
       "\n",
       "       Sanitizer Stock  Wipes Stock  Thermometer Stock  \n",
       "State                                                   \n",
       "AL               14.00         8.75               0.00  \n",
       "AR               10.00        10.50              14.00  \n",
       "AZ               10.11         8.78               9.33  \n",
       "CA               10.91         7.61               8.14  \n",
       "CO                7.50         7.00              12.00  "
      ]
     },
     "execution_count": 237,
     "metadata": {},
     "output_type": "execute_result"
    }
   ],
   "source": [
    "def requests_per_state(item_stock_numberical_df):\n",
    "    \n",
    "    # Count the amount of requests per county\n",
    "    item_average_supply_per_state_df=item_stock_numberical_df.groupby(\n",
    "        ['State']).mean()\n",
    "        \n",
    "    # Determine how many responses were captured from each state\n",
    "    count_supply_per_state_df = item_stock_numberical_df.groupby(\n",
    "        ['State']).count()\n",
    "    \n",
    "    # trim the return to 2 decimal points max\n",
    "    return item_average_supply_per_state_df.round(decimals=2), \\\n",
    "        count_supply_per_state_df\n",
    "\n",
    "\n",
    "item_average_supply_per_state_df, count_supply_per_state_df = \\\n",
    "    requests_per_state(item_stock_numberical_df)\n",
    "item_average_supply_per_state_df.head(5)"
   ]
  },
  {
   "cell_type": "markdown",
   "metadata": {},
   "source": [
    "### TODO: Calculate percentage in each state that is reporting no supply of PPE "
   ]
  },
  {
   "cell_type": "code",
   "execution_count": 239,
   "metadata": {},
   "outputs": [
    {
     "data": {
      "text/html": [
       "<div>\n",
       "<style scoped>\n",
       "    .dataframe tbody tr th:only-of-type {\n",
       "        vertical-align: middle;\n",
       "    }\n",
       "\n",
       "    .dataframe tbody tr th {\n",
       "        vertical-align: top;\n",
       "    }\n",
       "\n",
       "    .dataframe thead th {\n",
       "        text-align: right;\n",
       "    }\n",
       "</style>\n",
       "<table border=\"1\" class=\"dataframe\">\n",
       "  <thead>\n",
       "    <tr style=\"text-align: right;\">\n",
       "      <th></th>\n",
       "      <th>Requesting N95</th>\n",
       "      <th>N95 Stock</th>\n",
       "      <th>Requesting Face Shield</th>\n",
       "      <th>Face Shield Stock</th>\n",
       "      <th>Requesting Booties</th>\n",
       "      <th>Booties Stock</th>\n",
       "      <th>Requesting Gloves</th>\n",
       "      <th>Gloves Stock</th>\n",
       "      <th>Requesting Gown</th>\n",
       "      <th>Gown Stock</th>\n",
       "      <th>Requesting Sanitizer</th>\n",
       "      <th>Sanitizer Stock</th>\n",
       "      <th>Requesting Wipes</th>\n",
       "      <th>Wipes Stock</th>\n",
       "      <th>Requesting Thermometer</th>\n",
       "      <th>Thermometer Stock</th>\n",
       "      <th>Zip</th>\n",
       "    </tr>\n",
       "    <tr>\n",
       "      <th>State</th>\n",
       "      <th></th>\n",
       "      <th></th>\n",
       "      <th></th>\n",
       "      <th></th>\n",
       "      <th></th>\n",
       "      <th></th>\n",
       "      <th></th>\n",
       "      <th></th>\n",
       "      <th></th>\n",
       "      <th></th>\n",
       "      <th></th>\n",
       "      <th></th>\n",
       "      <th></th>\n",
       "      <th></th>\n",
       "      <th></th>\n",
       "      <th></th>\n",
       "      <th></th>\n",
       "    </tr>\n",
       "  </thead>\n",
       "  <tbody>\n",
       "    <tr>\n",
       "      <th>AL</th>\n",
       "      <td>1</td>\n",
       "      <td>1</td>\n",
       "      <td>1</td>\n",
       "      <td>1</td>\n",
       "      <td>1</td>\n",
       "      <td>1</td>\n",
       "      <td>1</td>\n",
       "      <td>1</td>\n",
       "      <td>1</td>\n",
       "      <td>1</td>\n",
       "      <td>1</td>\n",
       "      <td>1</td>\n",
       "      <td>1</td>\n",
       "      <td>1</td>\n",
       "      <td>1</td>\n",
       "      <td>1</td>\n",
       "      <td>1</td>\n",
       "    </tr>\n",
       "    <tr>\n",
       "      <th>AZ</th>\n",
       "      <td>4</td>\n",
       "      <td>4</td>\n",
       "      <td>4</td>\n",
       "      <td>3</td>\n",
       "      <td>4</td>\n",
       "      <td>1</td>\n",
       "      <td>4</td>\n",
       "      <td>3</td>\n",
       "      <td>4</td>\n",
       "      <td>1</td>\n",
       "      <td>4</td>\n",
       "      <td>3</td>\n",
       "      <td>4</td>\n",
       "      <td>3</td>\n",
       "      <td>4</td>\n",
       "      <td>1</td>\n",
       "      <td>4</td>\n",
       "    </tr>\n",
       "    <tr>\n",
       "      <th>CA</th>\n",
       "      <td>6</td>\n",
       "      <td>6</td>\n",
       "      <td>6</td>\n",
       "      <td>5</td>\n",
       "      <td>6</td>\n",
       "      <td>3</td>\n",
       "      <td>6</td>\n",
       "      <td>4</td>\n",
       "      <td>6</td>\n",
       "      <td>5</td>\n",
       "      <td>6</td>\n",
       "      <td>4</td>\n",
       "      <td>6</td>\n",
       "      <td>4</td>\n",
       "      <td>6</td>\n",
       "      <td>4</td>\n",
       "      <td>6</td>\n",
       "    </tr>\n",
       "    <tr>\n",
       "      <th>CO</th>\n",
       "      <td>2</td>\n",
       "      <td>2</td>\n",
       "      <td>2</td>\n",
       "      <td>2</td>\n",
       "      <td>2</td>\n",
       "      <td>2</td>\n",
       "      <td>2</td>\n",
       "      <td>1</td>\n",
       "      <td>2</td>\n",
       "      <td>1</td>\n",
       "      <td>2</td>\n",
       "      <td>2</td>\n",
       "      <td>2</td>\n",
       "      <td>2</td>\n",
       "      <td>2</td>\n",
       "      <td>1</td>\n",
       "      <td>2</td>\n",
       "    </tr>\n",
       "    <tr>\n",
       "      <th>CT</th>\n",
       "      <td>3</td>\n",
       "      <td>3</td>\n",
       "      <td>3</td>\n",
       "      <td>3</td>\n",
       "      <td>3</td>\n",
       "      <td>2</td>\n",
       "      <td>3</td>\n",
       "      <td>1</td>\n",
       "      <td>3</td>\n",
       "      <td>2</td>\n",
       "      <td>3</td>\n",
       "      <td>2</td>\n",
       "      <td>3</td>\n",
       "      <td>3</td>\n",
       "      <td>3</td>\n",
       "      <td>2</td>\n",
       "      <td>3</td>\n",
       "    </tr>\n",
       "  </tbody>\n",
       "</table>\n",
       "</div>"
      ],
      "text/plain": [
       "       Requesting N95  N95 Stock  Requesting Face Shield  Face Shield Stock  \\\n",
       "State                                                                         \n",
       "AL                  1          1                       1                  1   \n",
       "AZ                  4          4                       4                  3   \n",
       "CA                  6          6                       6                  5   \n",
       "CO                  2          2                       2                  2   \n",
       "CT                  3          3                       3                  3   \n",
       "\n",
       "       Requesting Booties  Booties Stock  Requesting Gloves  Gloves Stock  \\\n",
       "State                                                                       \n",
       "AL                      1              1                  1             1   \n",
       "AZ                      4              1                  4             3   \n",
       "CA                      6              3                  6             4   \n",
       "CO                      2              2                  2             1   \n",
       "CT                      3              2                  3             1   \n",
       "\n",
       "       Requesting Gown  Gown Stock  Requesting Sanitizer  Sanitizer Stock  \\\n",
       "State                                                                       \n",
       "AL                   1           1                     1                1   \n",
       "AZ                   4           1                     4                3   \n",
       "CA                   6           5                     6                4   \n",
       "CO                   2           1                     2                2   \n",
       "CT                   3           2                     3                2   \n",
       "\n",
       "       Requesting Wipes  Wipes Stock  Requesting Thermometer  \\\n",
       "State                                                          \n",
       "AL                    1            1                       1   \n",
       "AZ                    4            3                       4   \n",
       "CA                    6            4                       6   \n",
       "CO                    2            2                       2   \n",
       "CT                    3            3                       3   \n",
       "\n",
       "       Thermometer Stock  Zip  \n",
       "State                          \n",
       "AL                     1    1  \n",
       "AZ                     1    4  \n",
       "CA                     4    6  \n",
       "CO                     1    2  \n",
       "CT                     2    3  "
      ]
     },
     "execution_count": 239,
     "metadata": {},
     "output_type": "execute_result"
    }
   ],
   "source": [
    "# TODO\n",
    "# Calculate percentage in each state that is reporting no supply of materials \n",
    "no_supply_per_state_df['N95 Stock'] = item_stock_numberical_df[\n",
    "    item_stock_numberical_df['N95 Stock']  == 0].groupby(['State']).count()\n",
    "\n",
    "no_supply_per_state_df.head(5)"
   ]
  },
  {
   "cell_type": "markdown",
   "metadata": {},
   "source": [
    "### Check how many entries available per ppe supply"
   ]
  },
  {
   "cell_type": "code",
   "execution_count": 240,
   "metadata": {},
   "outputs": [
    {
     "data": {
      "text/html": [
       "<div>\n",
       "<style scoped>\n",
       "    .dataframe tbody tr th:only-of-type {\n",
       "        vertical-align: middle;\n",
       "    }\n",
       "\n",
       "    .dataframe tbody tr th {\n",
       "        vertical-align: top;\n",
       "    }\n",
       "\n",
       "    .dataframe thead th {\n",
       "        text-align: right;\n",
       "    }\n",
       "</style>\n",
       "<table border=\"1\" class=\"dataframe\">\n",
       "  <thead>\n",
       "    <tr style=\"text-align: right;\">\n",
       "      <th></th>\n",
       "      <th>N95 Stock</th>\n",
       "      <th>Face Shield Stock</th>\n",
       "      <th>Booties Stock</th>\n",
       "      <th>Gloves Stock</th>\n",
       "      <th>Gown Stock</th>\n",
       "      <th>Sanitizer Stock</th>\n",
       "      <th>Wipes Stock</th>\n",
       "      <th>Thermometer Stock</th>\n",
       "      <th>Requesting N95</th>\n",
       "      <th>N95 Stock Surveys</th>\n",
       "      <th>...</th>\n",
       "      <th>Gloves Stock Surveys</th>\n",
       "      <th>Requesting Gown</th>\n",
       "      <th>Gown Stock Surveys</th>\n",
       "      <th>Requesting Sanitizer</th>\n",
       "      <th>Sanitizer Stock Surveys</th>\n",
       "      <th>Requesting Wipes</th>\n",
       "      <th>Wipes Stock Surveys</th>\n",
       "      <th>Requesting Thermometer</th>\n",
       "      <th>Thermometer Stock Surveys</th>\n",
       "      <th>Zip</th>\n",
       "    </tr>\n",
       "    <tr>\n",
       "      <th>State</th>\n",
       "      <th></th>\n",
       "      <th></th>\n",
       "      <th></th>\n",
       "      <th></th>\n",
       "      <th></th>\n",
       "      <th></th>\n",
       "      <th></th>\n",
       "      <th></th>\n",
       "      <th></th>\n",
       "      <th></th>\n",
       "      <th></th>\n",
       "      <th></th>\n",
       "      <th></th>\n",
       "      <th></th>\n",
       "      <th></th>\n",
       "      <th></th>\n",
       "      <th></th>\n",
       "      <th></th>\n",
       "      <th></th>\n",
       "      <th></th>\n",
       "      <th></th>\n",
       "    </tr>\n",
       "  </thead>\n",
       "  <tbody>\n",
       "    <tr>\n",
       "      <th>AL</th>\n",
       "      <td>6.00</td>\n",
       "      <td>0.50</td>\n",
       "      <td>2.33</td>\n",
       "      <td>21.00</td>\n",
       "      <td>2.80</td>\n",
       "      <td>14.00</td>\n",
       "      <td>8.75</td>\n",
       "      <td>0.00</td>\n",
       "      <td>5</td>\n",
       "      <td>5</td>\n",
       "      <td>...</td>\n",
       "      <td>2</td>\n",
       "      <td>5</td>\n",
       "      <td>5</td>\n",
       "      <td>5</td>\n",
       "      <td>4</td>\n",
       "      <td>5</td>\n",
       "      <td>4</td>\n",
       "      <td>5</td>\n",
       "      <td>2</td>\n",
       "      <td>5</td>\n",
       "    </tr>\n",
       "    <tr>\n",
       "      <th>AR</th>\n",
       "      <td>11.67</td>\n",
       "      <td>9.33</td>\n",
       "      <td>11.67</td>\n",
       "      <td>17.50</td>\n",
       "      <td>7.00</td>\n",
       "      <td>10.00</td>\n",
       "      <td>10.50</td>\n",
       "      <td>14.00</td>\n",
       "      <td>3</td>\n",
       "      <td>3</td>\n",
       "      <td>...</td>\n",
       "      <td>2</td>\n",
       "      <td>3</td>\n",
       "      <td>2</td>\n",
       "      <td>3</td>\n",
       "      <td>3</td>\n",
       "      <td>3</td>\n",
       "      <td>2</td>\n",
       "      <td>3</td>\n",
       "      <td>2</td>\n",
       "      <td>3</td>\n",
       "    </tr>\n",
       "    <tr>\n",
       "      <th>AZ</th>\n",
       "      <td>9.80</td>\n",
       "      <td>9.33</td>\n",
       "      <td>16.33</td>\n",
       "      <td>14.00</td>\n",
       "      <td>13.29</td>\n",
       "      <td>10.11</td>\n",
       "      <td>8.78</td>\n",
       "      <td>9.33</td>\n",
       "      <td>12</td>\n",
       "      <td>10</td>\n",
       "      <td>...</td>\n",
       "      <td>6</td>\n",
       "      <td>11</td>\n",
       "      <td>7</td>\n",
       "      <td>11</td>\n",
       "      <td>9</td>\n",
       "      <td>11</td>\n",
       "      <td>9</td>\n",
       "      <td>11</td>\n",
       "      <td>3</td>\n",
       "      <td>12</td>\n",
       "    </tr>\n",
       "    <tr>\n",
       "      <th>CA</th>\n",
       "      <td>11.60</td>\n",
       "      <td>8.10</td>\n",
       "      <td>5.80</td>\n",
       "      <td>12.71</td>\n",
       "      <td>9.26</td>\n",
       "      <td>10.91</td>\n",
       "      <td>7.61</td>\n",
       "      <td>8.14</td>\n",
       "      <td>95</td>\n",
       "      <td>80</td>\n",
       "      <td>...</td>\n",
       "      <td>51</td>\n",
       "      <td>90</td>\n",
       "      <td>72</td>\n",
       "      <td>90</td>\n",
       "      <td>68</td>\n",
       "      <td>90</td>\n",
       "      <td>71</td>\n",
       "      <td>89</td>\n",
       "      <td>44</td>\n",
       "      <td>107</td>\n",
       "    </tr>\n",
       "    <tr>\n",
       "      <th>CO</th>\n",
       "      <td>9.10</td>\n",
       "      <td>5.10</td>\n",
       "      <td>7.00</td>\n",
       "      <td>19.25</td>\n",
       "      <td>10.12</td>\n",
       "      <td>7.50</td>\n",
       "      <td>7.00</td>\n",
       "      <td>12.00</td>\n",
       "      <td>14</td>\n",
       "      <td>10</td>\n",
       "      <td>...</td>\n",
       "      <td>8</td>\n",
       "      <td>13</td>\n",
       "      <td>8</td>\n",
       "      <td>13</td>\n",
       "      <td>8</td>\n",
       "      <td>13</td>\n",
       "      <td>9</td>\n",
       "      <td>13</td>\n",
       "      <td>7</td>\n",
       "      <td>17</td>\n",
       "    </tr>\n",
       "  </tbody>\n",
       "</table>\n",
       "<p>5 rows × 25 columns</p>\n",
       "</div>"
      ],
      "text/plain": [
       "       N95 Stock  Face Shield Stock  Booties Stock  Gloves Stock  Gown Stock  \\\n",
       "State                                                                          \n",
       "AL          6.00               0.50           2.33         21.00        2.80   \n",
       "AR         11.67               9.33          11.67         17.50        7.00   \n",
       "AZ          9.80               9.33          16.33         14.00       13.29   \n",
       "CA         11.60               8.10           5.80         12.71        9.26   \n",
       "CO          9.10               5.10           7.00         19.25       10.12   \n",
       "\n",
       "       Sanitizer Stock  Wipes Stock  Thermometer Stock  Requesting N95  \\\n",
       "State                                                                    \n",
       "AL               14.00         8.75               0.00               5   \n",
       "AR               10.00        10.50              14.00               3   \n",
       "AZ               10.11         8.78               9.33              12   \n",
       "CA               10.91         7.61               8.14              95   \n",
       "CO                7.50         7.00              12.00              14   \n",
       "\n",
       "       N95 Stock Surveys  ...  Gloves Stock Surveys  Requesting Gown  \\\n",
       "State                     ...                                          \n",
       "AL                     5  ...                     2                5   \n",
       "AR                     3  ...                     2                3   \n",
       "AZ                    10  ...                     6               11   \n",
       "CA                    80  ...                    51               90   \n",
       "CO                    10  ...                     8               13   \n",
       "\n",
       "       Gown Stock Surveys  Requesting Sanitizer  Sanitizer Stock Surveys  \\\n",
       "State                                                                      \n",
       "AL                      5                     5                        4   \n",
       "AR                      2                     3                        3   \n",
       "AZ                      7                    11                        9   \n",
       "CA                     72                    90                       68   \n",
       "CO                      8                    13                        8   \n",
       "\n",
       "       Requesting Wipes  Wipes Stock Surveys  Requesting Thermometer  \\\n",
       "State                                                                  \n",
       "AL                    5                    4                       5   \n",
       "AR                    3                    2                       3   \n",
       "AZ                   11                    9                      11   \n",
       "CA                   90                   71                      89   \n",
       "CO                   13                    9                      13   \n",
       "\n",
       "       Thermometer Stock Surveys  Zip  \n",
       "State                                  \n",
       "AL                             2    5  \n",
       "AR                             2    3  \n",
       "AZ                             3   12  \n",
       "CA                            44  107  \n",
       "CO                             7   17  \n",
       "\n",
       "[5 rows x 25 columns]"
      ]
     },
     "execution_count": 240,
     "metadata": {},
     "output_type": "execute_result"
    }
   ],
   "source": [
    "def join_mean_count_per_state(item_average_supply_per_state_df,\n",
    "                          count_supply_per_state_df, write_out_csv=True):\n",
    "    \n",
    "    # join the counts with the days available\n",
    "    supply_per_state_df = item_average_supply_per_state_df.join(\n",
    "        count_supply_per_state_df, on='State', \n",
    "        how='left', lsuffix='', rsuffix=' Surveys')\n",
    "    \n",
    "    # write out this data file to csv\n",
    "    if write_out_csv:\n",
    "        timestr = time.strftime(\"%Y%m%d\")\n",
    "        path = 'supply_per_state_df_' + timestr + '.csv'\n",
    "        supply_per_state_df.to_csv (path, index = False, header=True)\n",
    "        \n",
    "    # Drop any state that does not have 3 or more surveys\n",
    "    cutoff_survey_number = 1\n",
    "    indexNames = supply_per_state_df[ \n",
    "        supply_per_state_df['N95 Stock Surveys'] < cutoff_survey_number ].index\n",
    "\n",
    "    # Delete these row indexes from dataFrame\n",
    "    supply_per_state_df.drop(indexNames , inplace=True)\n",
    "    \n",
    "    return supply_per_state_df\n",
    "\n",
    "supply_per_state_df = join_mean_count_per_state(item_average_supply_per_state_df,\n",
    "                          count_supply_per_state_df, write_out_csv=True)\n",
    "supply_per_state_df.head(5)"
   ]
  },
  {
   "cell_type": "markdown",
   "metadata": {},
   "source": [
    "### Create Text label for plot"
   ]
  },
  {
   "cell_type": "code",
   "execution_count": 241,
   "metadata": {},
   "outputs": [
    {
     "data": {
      "text/html": [
       "<div>\n",
       "<style scoped>\n",
       "    .dataframe tbody tr th:only-of-type {\n",
       "        vertical-align: middle;\n",
       "    }\n",
       "\n",
       "    .dataframe tbody tr th {\n",
       "        vertical-align: top;\n",
       "    }\n",
       "\n",
       "    .dataframe thead th {\n",
       "        text-align: right;\n",
       "    }\n",
       "</style>\n",
       "<table border=\"1\" class=\"dataframe\">\n",
       "  <thead>\n",
       "    <tr style=\"text-align: right;\">\n",
       "      <th></th>\n",
       "      <th>State</th>\n",
       "      <th>N95 Stock</th>\n",
       "      <th>Face Shield Stock</th>\n",
       "      <th>Booties Stock</th>\n",
       "      <th>Gloves Stock</th>\n",
       "      <th>Gown Stock</th>\n",
       "      <th>Sanitizer Stock</th>\n",
       "      <th>Wipes Stock</th>\n",
       "      <th>Thermometer Stock</th>\n",
       "      <th>Requesting N95</th>\n",
       "      <th>...</th>\n",
       "      <th>Requesting Gown</th>\n",
       "      <th>Gown Stock Surveys</th>\n",
       "      <th>Requesting Sanitizer</th>\n",
       "      <th>Sanitizer Stock Surveys</th>\n",
       "      <th>Requesting Wipes</th>\n",
       "      <th>Wipes Stock Surveys</th>\n",
       "      <th>Requesting Thermometer</th>\n",
       "      <th>Thermometer Stock Surveys</th>\n",
       "      <th>Zip</th>\n",
       "      <th>text</th>\n",
       "    </tr>\n",
       "  </thead>\n",
       "  <tbody>\n",
       "    <tr>\n",
       "      <th>0</th>\n",
       "      <td>AL</td>\n",
       "      <td>6.0</td>\n",
       "      <td>0.5</td>\n",
       "      <td>2.33</td>\n",
       "      <td>21.0</td>\n",
       "      <td>2.8</td>\n",
       "      <td>14.0</td>\n",
       "      <td>8.75</td>\n",
       "      <td>0.0</td>\n",
       "      <td>5</td>\n",
       "      <td>...</td>\n",
       "      <td>5</td>\n",
       "      <td>5</td>\n",
       "      <td>5</td>\n",
       "      <td>4</td>\n",
       "      <td>5</td>\n",
       "      <td>4</td>\n",
       "      <td>5</td>\n",
       "      <td>2</td>\n",
       "      <td>5</td>\n",
       "      <td>AL&lt;br&gt;&lt;br&gt;Stock in Days: &lt;br&gt;N95: 6.0&lt;br&gt;Face ...</td>\n",
       "    </tr>\n",
       "    <tr>\n",
       "      <th>1</th>\n",
       "      <td>AR</td>\n",
       "      <td>11.67</td>\n",
       "      <td>9.33</td>\n",
       "      <td>11.67</td>\n",
       "      <td>17.5</td>\n",
       "      <td>7.0</td>\n",
       "      <td>10.0</td>\n",
       "      <td>10.5</td>\n",
       "      <td>14.0</td>\n",
       "      <td>3</td>\n",
       "      <td>...</td>\n",
       "      <td>3</td>\n",
       "      <td>2</td>\n",
       "      <td>3</td>\n",
       "      <td>3</td>\n",
       "      <td>3</td>\n",
       "      <td>2</td>\n",
       "      <td>3</td>\n",
       "      <td>2</td>\n",
       "      <td>3</td>\n",
       "      <td>AR&lt;br&gt;&lt;br&gt;Stock in Days: &lt;br&gt;N95: 11.67&lt;br&gt;Fac...</td>\n",
       "    </tr>\n",
       "  </tbody>\n",
       "</table>\n",
       "<p>2 rows × 27 columns</p>\n",
       "</div>"
      ],
      "text/plain": [
       "  State N95 Stock Face Shield Stock Booties Stock Gloves Stock Gown Stock  \\\n",
       "0    AL       6.0               0.5          2.33         21.0        2.8   \n",
       "1    AR     11.67              9.33         11.67         17.5        7.0   \n",
       "\n",
       "  Sanitizer Stock Wipes Stock Thermometer Stock Requesting N95  ...  \\\n",
       "0            14.0        8.75               0.0              5  ...   \n",
       "1            10.0        10.5              14.0              3  ...   \n",
       "\n",
       "  Requesting Gown Gown Stock Surveys Requesting Sanitizer  \\\n",
       "0               5                  5                    5   \n",
       "1               3                  2                    3   \n",
       "\n",
       "  Sanitizer Stock Surveys Requesting Wipes Wipes Stock Surveys  \\\n",
       "0                       4                5                   4   \n",
       "1                       3                3                   2   \n",
       "\n",
       "  Requesting Thermometer Thermometer Stock Surveys Zip  \\\n",
       "0                      5                         2   5   \n",
       "1                      3                         2   3   \n",
       "\n",
       "                                                text  \n",
       "0  AL<br><br>Stock in Days: <br>N95: 6.0<br>Face ...  \n",
       "1  AR<br><br>Stock in Days: <br>N95: 11.67<br>Fac...  \n",
       "\n",
       "[2 rows x 27 columns]"
      ]
     },
     "execution_count": 241,
     "metadata": {},
     "output_type": "execute_result"
    }
   ],
   "source": [
    "# encode as string for the plot\n",
    "supply_per_state_df = supply_per_state_df.astype(str)\n",
    "\n",
    "# reset the index so state can be called\n",
    "supply_per_state_df.reset_index(inplace=True)\n",
    "\n",
    "supply_per_state_df['text'] = supply_per_state_df['State'] + '<br><br>' + \\\n",
    "    'Stock in Days: ' + '<br>' + \\\n",
    "    'N95: ' + supply_per_state_df['N95 Stock'] + '<br>' + \\\n",
    "    'Face Shields: ' + supply_per_state_df['Face Shield Stock'] + '<br>' + \\\n",
    "    'Booties: ' + supply_per_state_df['Booties Stock'] + '<br>' + \\\n",
    "    'Gloves: ' + supply_per_state_df['Gloves Stock'] + '<br>' + \\\n",
    "    'Gowns: ' + supply_per_state_df['Gown Stock'] + '<br>' + \\\n",
    "    'Sanitizers: ' + supply_per_state_df['Sanitizer Stock'] + '<br>' + \\\n",
    "    'Wipes: ' + supply_per_state_df['Wipes Stock'] + '<br>' + \\\n",
    "    'Thermometers: ' + supply_per_state_df['Thermometer Stock'] + '<br><br>' + \\\n",
    "    'Survey Responses: ' + supply_per_state_df['N95 Stock Surveys']\n",
    "\n",
    "supply_per_state_df.head(2)"
   ]
  },
  {
   "cell_type": "markdown",
   "metadata": {},
   "source": [
    "### Supply by state"
   ]
  },
  {
   "cell_type": "code",
   "execution_count": 242,
   "metadata": {},
   "outputs": [
    {
     "data": {
      "application/vnd.plotly.v1+json": {
       "config": {
        "plotlyServerURL": "https://plot.ly"
       },
       "data": [
        {
         "autocolorscale": false,
         "colorbar": {
          "title": {
           "text": "N95 Supply (days)"
          }
         },
         "colorscale": [
          [
           0,
           "#bc2026"
          ],
          [
           0.2,
           "#ef4723"
          ],
          [
           0.4,
           "#f68e1e"
          ],
          [
           0.6,
           "#fecc0a"
          ],
          [
           0.8,
           "#7dbb42"
          ],
          [
           1,
           "#0e9246"
          ]
         ],
         "hoverinfo": "text",
         "locationmode": "USA-states",
         "locations": [
          "AL",
          "AR",
          "AZ",
          "CA",
          "CO",
          "CT",
          "DC",
          "FL",
          "GA",
          "HI",
          "IA",
          "ID",
          "IL",
          "IN",
          "KS",
          "KY",
          "LA",
          "MA",
          "MD",
          "ME",
          "MI",
          "MN",
          "MO",
          "MS",
          "NC",
          "ND",
          "NE",
          "NH",
          "NJ",
          "NM",
          "NV",
          "NY",
          "OH",
          "OK",
          "OR",
          "PA",
          "PR",
          "RI",
          "SC",
          "TN",
          "TX",
          "UT",
          "VA",
          "WA",
          "WI",
          "WV"
         ],
         "marker": {
          "line": {
           "color": "black",
           "width": 0.5
          },
          "opacity": 0.8
         },
         "text": [
          "AL<br><br>Stock in Days: <br>N95: 6.0<br>Face Shields: 0.5<br>Booties: 2.33<br>Gloves: 21.0<br>Gowns: 2.8<br>Sanitizers: 14.0<br>Wipes: 8.75<br>Thermometers: 0.0<br><br>Survey Responses: 5",
          "AR<br><br>Stock in Days: <br>N95: 11.67<br>Face Shields: 9.33<br>Booties: 11.67<br>Gloves: 17.5<br>Gowns: 7.0<br>Sanitizers: 10.0<br>Wipes: 10.5<br>Thermometers: 14.0<br><br>Survey Responses: 3",
          "AZ<br><br>Stock in Days: <br>N95: 9.8<br>Face Shields: 9.33<br>Booties: 16.33<br>Gloves: 14.0<br>Gowns: 13.29<br>Sanitizers: 10.11<br>Wipes: 8.78<br>Thermometers: 9.33<br><br>Survey Responses: 10",
          "CA<br><br>Stock in Days: <br>N95: 11.6<br>Face Shields: 8.1<br>Booties: 5.8<br>Gloves: 12.71<br>Gowns: 9.26<br>Sanitizers: 10.91<br>Wipes: 7.61<br>Thermometers: 8.14<br><br>Survey Responses: 80",
          "CO<br><br>Stock in Days: <br>N95: 9.1<br>Face Shields: 5.1<br>Booties: 7.0<br>Gloves: 19.25<br>Gowns: 10.12<br>Sanitizers: 7.5<br>Wipes: 7.0<br>Thermometers: 12.0<br><br>Survey Responses: 10",
          "CT<br><br>Stock in Days: <br>N95: 7.25<br>Face Shields: 5.29<br>Booties: 3.0<br>Gloves: 16.33<br>Gowns: 5.6<br>Sanitizers: 9.0<br>Wipes: 8.29<br>Thermometers: 5.25<br><br>Survey Responses: 8",
          "DC<br><br>Stock in Days: <br>N95: 14.0<br>Face Shields: 7.0<br>Booties: 14.0<br>Gloves: 17.5<br>Gowns: 8.4<br>Sanitizers: 14.67<br>Wipes: 14.0<br>Thermometers: 28.0<br><br>Survey Responses: 4",
          "FL<br><br>Stock in Days: <br>N95: 8.69<br>Face Shields: 6.28<br>Booties: 5.25<br>Gloves: 10.76<br>Gowns: 7.13<br>Sanitizers: 7.25<br>Wipes: 6.31<br>Thermometers: 5.06<br><br>Survey Responses: 42",
          "GA<br><br>Stock in Days: <br>N95: 5.89<br>Face Shields: 4.75<br>Booties: 5.8<br>Gloves: 11.0<br>Gowns: 6.25<br>Sanitizers: 6.6<br>Wipes: 5.91<br>Thermometers: 7.12<br><br>Survey Responses: 18",
          "HI<br><br>Stock in Days: <br>N95: 7.0<br>Face Shields: 7.0<br>Booties: 3.5<br>Gloves: 7.0<br>Gowns: 3.5<br>Sanitizers: 0.0<br>Wipes: 7.0<br>Thermometers: nan<br><br>Survey Responses: 2",
          "IA<br><br>Stock in Days: <br>N95: 7.0<br>Face Shields: 14.0<br>Booties: 7.0<br>Gloves: 10.5<br>Gowns: 10.5<br>Sanitizers: 8.75<br>Wipes: 10.0<br>Thermometers: 7.0<br><br>Survey Responses: 2",
          "ID<br><br>Stock in Days: <br>N95: 0.0<br>Face Shields: 0.0<br>Booties: nan<br>Gloves: 7.0<br>Gowns: 0.0<br>Sanitizers: 7.0<br>Wipes: 0.0<br>Thermometers: 2.0<br><br>Survey Responses: 1",
          "IL<br><br>Stock in Days: <br>N95: 9.18<br>Face Shields: 8.62<br>Booties: 5.6<br>Gloves: 12.0<br>Gowns: 10.53<br>Sanitizers: 8.22<br>Wipes: 9.13<br>Thermometers: 3.89<br><br>Survey Responses: 17",
          "IN<br><br>Stock in Days: <br>N95: 7.0<br>Face Shields: 7.57<br>Booties: 3.57<br>Gloves: 12.29<br>Gowns: 7.57<br>Sanitizers: 6.5<br>Wipes: 3.83<br>Thermometers: 3.57<br><br>Survey Responses: 8",
          "KS<br><br>Stock in Days: <br>N95: 15.0<br>Face Shields: 7.0<br>Booties: 2.0<br>Gloves: 14.0<br>Gowns: 10.5<br>Sanitizers: 0.0<br>Wipes: 7.0<br>Thermometers: 7.0<br><br>Survey Responses: 2",
          "KY<br><br>Stock in Days: <br>N95: 10.0<br>Face Shields: 0.0<br>Booties: 7.0<br>Gloves: 7.0<br>Gowns: 7.67<br>Sanitizers: 3.5<br>Wipes: 4.5<br>Thermometers: 0.0<br><br>Survey Responses: 3",
          "LA<br><br>Stock in Days: <br>N95: 11.0<br>Face Shields: 7.33<br>Booties: 9.33<br>Gloves: 7.0<br>Gowns: 11.2<br>Sanitizers: 7.4<br>Wipes: 7.0<br>Thermometers: 7.0<br><br>Survey Responses: 7",
          "MA<br><br>Stock in Days: <br>N95: 5.97<br>Face Shields: 6.13<br>Booties: 6.12<br>Gloves: 11.35<br>Gowns: 5.83<br>Sanitizers: 6.57<br>Wipes: 7.12<br>Thermometers: 9.05<br><br>Survey Responses: 33",
          "MD<br><br>Stock in Days: <br>N95: 11.38<br>Face Shields: 9.8<br>Booties: 7.33<br>Gloves: 15.4<br>Gowns: 8.8<br>Sanitizers: 11.62<br>Wipes: 10.0<br>Thermometers: 18.67<br><br>Survey Responses: 8",
          "ME<br><br>Stock in Days: <br>N95: 10.5<br>Face Shields: 7.0<br>Booties: 7.0<br>Gloves: 10.5<br>Gowns: 5.33<br>Sanitizers: 0.0<br>Wipes: 7.0<br>Thermometers: nan<br><br>Survey Responses: 2",
          "MI<br><br>Stock in Days: <br>N95: 8.0<br>Face Shields: 5.6<br>Booties: 14.0<br>Gloves: 15.75<br>Gowns: 15.17<br>Sanitizers: 16.8<br>Wipes: 21.0<br>Thermometers: 14.0<br><br>Survey Responses: 7",
          "MN<br><br>Stock in Days: <br>N95: 8.0<br>Face Shields: 6.17<br>Booties: 14.0<br>Gloves: 19.0<br>Gowns: 10.9<br>Sanitizers: 11.6<br>Wipes: 13.38<br>Thermometers: 15.8<br><br>Survey Responses: 9",
          "MO<br><br>Stock in Days: <br>N95: 4.67<br>Face Shields: 4.67<br>Booties: nan<br>Gloves: 7.5<br>Gowns: 8.75<br>Sanitizers: 10.2<br>Wipes: 7.0<br>Thermometers: 14.0<br><br>Survey Responses: 3",
          "MS<br><br>Stock in Days: <br>N95: 7.67<br>Face Shields: 4.67<br>Booties: 7.0<br>Gloves: 17.5<br>Gowns: 7.67<br>Sanitizers: 12.33<br>Wipes: 10.5<br>Thermometers: 10.5<br><br>Survey Responses: 3",
          "NC<br><br>Stock in Days: <br>N95: 8.56<br>Face Shields: 3.0<br>Booties: 0.0<br>Gloves: 16.8<br>Gowns: 8.5<br>Sanitizers: 12.6<br>Wipes: 8.8<br>Thermometers: 15.0<br><br>Survey Responses: 9",
          "ND<br><br>Stock in Days: <br>N95: 0.0<br>Face Shields: nan<br>Booties: nan<br>Gloves: 7.0<br>Gowns: nan<br>Sanitizers: 7.0<br>Wipes: 2.0<br>Thermometers: 0.0<br><br>Survey Responses: 1",
          "NE<br><br>Stock in Days: <br>N95: 7.0<br>Face Shields: nan<br>Booties: nan<br>Gloves: nan<br>Gowns: 0.0<br>Sanitizers: nan<br>Wipes: nan<br>Thermometers: nan<br><br>Survey Responses: 1",
          "NH<br><br>Stock in Days: <br>N95: 18.67<br>Face Shields: 10.5<br>Booties: nan<br>Gloves: 14.0<br>Gowns: 9.33<br>Sanitizers: 13.17<br>Wipes: 14.5<br>Thermometers: 21.0<br><br>Survey Responses: 6",
          "NJ<br><br>Stock in Days: <br>N95: 10.79<br>Face Shields: 5.73<br>Booties: 8.75<br>Gloves: 9.33<br>Gowns: 7.64<br>Sanitizers: 10.5<br>Wipes: 8.0<br>Thermometers: 4.67<br><br>Survey Responses: 14",
          "NM<br><br>Stock in Days: <br>N95: 7.0<br>Face Shields: 3.0<br>Booties: 3.5<br>Gloves: 7.0<br>Gowns: 7.0<br>Sanitizers: 7.0<br>Wipes: 7.0<br>Thermometers: 7.0<br><br>Survey Responses: 2",
          "NV<br><br>Stock in Days: <br>N95: 10.5<br>Face Shields: 28.0<br>Booties: 7.0<br>Gloves: 17.5<br>Gowns: 10.5<br>Sanitizers: 10.5<br>Wipes: 21.0<br>Thermometers: 14.0<br><br>Survey Responses: 2",
          "NY<br><br>Stock in Days: <br>N95: 8.77<br>Face Shields: 6.07<br>Booties: 5.19<br>Gloves: 9.94<br>Gowns: 7.23<br>Sanitizers: 8.05<br>Wipes: 6.8<br>Thermometers: 9.33<br><br>Survey Responses: 31",
          "OH<br><br>Stock in Days: <br>N95: 6.12<br>Face Shields: 3.75<br>Booties: 0.0<br>Gloves: 8.75<br>Gowns: 8.12<br>Sanitizers: 5.89<br>Wipes: 7.75<br>Thermometers: 1.0<br><br>Survey Responses: 8",
          "OK<br><br>Stock in Days: <br>N95: 6.67<br>Face Shields: 6.12<br>Booties: 5.25<br>Gloves: 8.75<br>Gowns: 8.0<br>Sanitizers: 6.62<br>Wipes: 6.17<br>Thermometers: 7.0<br><br>Survey Responses: 9",
          "OR<br><br>Stock in Days: <br>N95: 1.0<br>Face Shields: 1.0<br>Booties: 8.0<br>Gloves: 14.67<br>Gowns: 6.4<br>Sanitizers: 11.17<br>Wipes: 4.5<br>Thermometers: 0.67<br><br>Survey Responses: 4",
          "PA<br><br>Stock in Days: <br>N95: 11.81<br>Face Shields: 11.62<br>Booties: 8.5<br>Gloves: 18.38<br>Gowns: 9.64<br>Sanitizers: 11.63<br>Wipes: 8.89<br>Thermometers: 8.92<br><br>Survey Responses: 16",
          "PR<br><br>Stock in Days: <br>N95: 7.0<br>Face Shields: 7.0<br>Booties: 7.0<br>Gloves: 7.0<br>Gowns: 7.0<br>Sanitizers: nan<br>Wipes: 7.0<br>Thermometers: nan<br><br>Survey Responses: 1",
          "RI<br><br>Stock in Days: <br>N95: 14.0<br>Face Shields: 8.0<br>Booties: nan<br>Gloves: 10.5<br>Gowns: 10.5<br>Sanitizers: 17.5<br>Wipes: 17.5<br>Thermometers: 17.5<br><br>Survey Responses: 1",
          "SC<br><br>Stock in Days: <br>N95: 8.75<br>Face Shields: 12.75<br>Booties: 7.0<br>Gloves: 17.5<br>Gowns: 12.75<br>Sanitizers: 17.5<br>Wipes: 12.25<br>Thermometers: 11.67<br><br>Survey Responses: 4",
          "TN<br><br>Stock in Days: <br>N95: 4.6<br>Face Shields: 4.67<br>Booties: 3.5<br>Gloves: 7.44<br>Gowns: 5.11<br>Sanitizers: 6.57<br>Wipes: 4.89<br>Thermometers: 5.33<br><br>Survey Responses: 10",
          "TX<br><br>Stock in Days: <br>N95: 7.2<br>Face Shields: 7.0<br>Booties: 6.33<br>Gloves: 10.14<br>Gowns: 5.72<br>Sanitizers: 6.28<br>Wipes: 6.04<br>Thermometers: 12.18<br><br>Survey Responses: 30",
          "UT<br><br>Stock in Days: <br>N95: 2.0<br>Face Shields: 0.0<br>Booties: nan<br>Gloves: 7.0<br>Gowns: 7.0<br>Sanitizers: 0.0<br>Wipes: 0.0<br>Thermometers: 2.0<br><br>Survey Responses: 1",
          "VA<br><br>Stock in Days: <br>N95: 10.61<br>Face Shields: 8.75<br>Booties: 9.33<br>Gloves: 12.5<br>Gowns: 7.75<br>Sanitizers: 13.53<br>Wipes: 9.47<br>Thermometers: 5.25<br><br>Survey Responses: 18",
          "WA<br><br>Stock in Days: <br>N95: 8.5<br>Face Shields: 4.62<br>Booties: 4.67<br>Gloves: 12.33<br>Gowns: 7.88<br>Sanitizers: 8.83<br>Wipes: 6.17<br>Thermometers: 2.8<br><br>Survey Responses: 6",
          "WI<br><br>Stock in Days: <br>N95: 9.33<br>Face Shields: 8.4<br>Booties: 10.5<br>Gloves: 12.25<br>Gowns: 7.33<br>Sanitizers: 12.83<br>Wipes: 8.8<br>Thermometers: 5.25<br><br>Survey Responses: 6",
          "WV<br><br>Stock in Days: <br>N95: 16.33<br>Face Shields: 14.0<br>Booties: 14.0<br>Gloves: 17.5<br>Gowns: 17.5<br>Sanitizers: 15.75<br>Wipes: 16.33<br>Thermometers: 8.0<br><br>Survey Responses: 3"
         ],
         "type": "choropleth",
         "z": [
          "6.0",
          "11.67",
          "9.8",
          "11.6",
          "9.1",
          "7.25",
          "14.0",
          "8.69",
          "5.89",
          "7.0",
          "7.0",
          "0.0",
          "9.18",
          "7.0",
          "15.0",
          "10.0",
          "11.0",
          "5.97",
          "11.38",
          "10.5",
          "8.0",
          "8.0",
          "4.67",
          "7.67",
          "8.56",
          "0.0",
          "7.0",
          "18.67",
          "10.79",
          "7.0",
          "10.5",
          "8.77",
          "6.12",
          "6.67",
          "1.0",
          "11.81",
          "7.0",
          "14.0",
          "8.75",
          "4.6",
          "7.2",
          "2.0",
          "10.61",
          "8.5",
          "9.33",
          "16.33"
         ],
         "zmax": 14,
         "zmin": 0
        }
       ],
       "layout": {
        "geo": {
         "lakecolor": "rgb(255, 255, 255)",
         "projection": {
          "type": "albers usa"
         },
         "scope": "usa",
         "showlakes": true
        },
        "template": {
         "data": {
          "bar": [
           {
            "error_x": {
             "color": "#2a3f5f"
            },
            "error_y": {
             "color": "#2a3f5f"
            },
            "marker": {
             "line": {
              "color": "#E5ECF6",
              "width": 0.5
             }
            },
            "type": "bar"
           }
          ],
          "barpolar": [
           {
            "marker": {
             "line": {
              "color": "#E5ECF6",
              "width": 0.5
             }
            },
            "type": "barpolar"
           }
          ],
          "carpet": [
           {
            "aaxis": {
             "endlinecolor": "#2a3f5f",
             "gridcolor": "white",
             "linecolor": "white",
             "minorgridcolor": "white",
             "startlinecolor": "#2a3f5f"
            },
            "baxis": {
             "endlinecolor": "#2a3f5f",
             "gridcolor": "white",
             "linecolor": "white",
             "minorgridcolor": "white",
             "startlinecolor": "#2a3f5f"
            },
            "type": "carpet"
           }
          ],
          "choropleth": [
           {
            "colorbar": {
             "outlinewidth": 0,
             "ticks": ""
            },
            "type": "choropleth"
           }
          ],
          "contour": [
           {
            "colorbar": {
             "outlinewidth": 0,
             "ticks": ""
            },
            "colorscale": [
             [
              0,
              "#0d0887"
             ],
             [
              0.1111111111111111,
              "#46039f"
             ],
             [
              0.2222222222222222,
              "#7201a8"
             ],
             [
              0.3333333333333333,
              "#9c179e"
             ],
             [
              0.4444444444444444,
              "#bd3786"
             ],
             [
              0.5555555555555556,
              "#d8576b"
             ],
             [
              0.6666666666666666,
              "#ed7953"
             ],
             [
              0.7777777777777778,
              "#fb9f3a"
             ],
             [
              0.8888888888888888,
              "#fdca26"
             ],
             [
              1,
              "#f0f921"
             ]
            ],
            "type": "contour"
           }
          ],
          "contourcarpet": [
           {
            "colorbar": {
             "outlinewidth": 0,
             "ticks": ""
            },
            "type": "contourcarpet"
           }
          ],
          "heatmap": [
           {
            "colorbar": {
             "outlinewidth": 0,
             "ticks": ""
            },
            "colorscale": [
             [
              0,
              "#0d0887"
             ],
             [
              0.1111111111111111,
              "#46039f"
             ],
             [
              0.2222222222222222,
              "#7201a8"
             ],
             [
              0.3333333333333333,
              "#9c179e"
             ],
             [
              0.4444444444444444,
              "#bd3786"
             ],
             [
              0.5555555555555556,
              "#d8576b"
             ],
             [
              0.6666666666666666,
              "#ed7953"
             ],
             [
              0.7777777777777778,
              "#fb9f3a"
             ],
             [
              0.8888888888888888,
              "#fdca26"
             ],
             [
              1,
              "#f0f921"
             ]
            ],
            "type": "heatmap"
           }
          ],
          "heatmapgl": [
           {
            "colorbar": {
             "outlinewidth": 0,
             "ticks": ""
            },
            "colorscale": [
             [
              0,
              "#0d0887"
             ],
             [
              0.1111111111111111,
              "#46039f"
             ],
             [
              0.2222222222222222,
              "#7201a8"
             ],
             [
              0.3333333333333333,
              "#9c179e"
             ],
             [
              0.4444444444444444,
              "#bd3786"
             ],
             [
              0.5555555555555556,
              "#d8576b"
             ],
             [
              0.6666666666666666,
              "#ed7953"
             ],
             [
              0.7777777777777778,
              "#fb9f3a"
             ],
             [
              0.8888888888888888,
              "#fdca26"
             ],
             [
              1,
              "#f0f921"
             ]
            ],
            "type": "heatmapgl"
           }
          ],
          "histogram": [
           {
            "marker": {
             "colorbar": {
              "outlinewidth": 0,
              "ticks": ""
             }
            },
            "type": "histogram"
           }
          ],
          "histogram2d": [
           {
            "colorbar": {
             "outlinewidth": 0,
             "ticks": ""
            },
            "colorscale": [
             [
              0,
              "#0d0887"
             ],
             [
              0.1111111111111111,
              "#46039f"
             ],
             [
              0.2222222222222222,
              "#7201a8"
             ],
             [
              0.3333333333333333,
              "#9c179e"
             ],
             [
              0.4444444444444444,
              "#bd3786"
             ],
             [
              0.5555555555555556,
              "#d8576b"
             ],
             [
              0.6666666666666666,
              "#ed7953"
             ],
             [
              0.7777777777777778,
              "#fb9f3a"
             ],
             [
              0.8888888888888888,
              "#fdca26"
             ],
             [
              1,
              "#f0f921"
             ]
            ],
            "type": "histogram2d"
           }
          ],
          "histogram2dcontour": [
           {
            "colorbar": {
             "outlinewidth": 0,
             "ticks": ""
            },
            "colorscale": [
             [
              0,
              "#0d0887"
             ],
             [
              0.1111111111111111,
              "#46039f"
             ],
             [
              0.2222222222222222,
              "#7201a8"
             ],
             [
              0.3333333333333333,
              "#9c179e"
             ],
             [
              0.4444444444444444,
              "#bd3786"
             ],
             [
              0.5555555555555556,
              "#d8576b"
             ],
             [
              0.6666666666666666,
              "#ed7953"
             ],
             [
              0.7777777777777778,
              "#fb9f3a"
             ],
             [
              0.8888888888888888,
              "#fdca26"
             ],
             [
              1,
              "#f0f921"
             ]
            ],
            "type": "histogram2dcontour"
           }
          ],
          "mesh3d": [
           {
            "colorbar": {
             "outlinewidth": 0,
             "ticks": ""
            },
            "type": "mesh3d"
           }
          ],
          "parcoords": [
           {
            "line": {
             "colorbar": {
              "outlinewidth": 0,
              "ticks": ""
             }
            },
            "type": "parcoords"
           }
          ],
          "pie": [
           {
            "automargin": true,
            "type": "pie"
           }
          ],
          "scatter": [
           {
            "marker": {
             "colorbar": {
              "outlinewidth": 0,
              "ticks": ""
             }
            },
            "type": "scatter"
           }
          ],
          "scatter3d": [
           {
            "line": {
             "colorbar": {
              "outlinewidth": 0,
              "ticks": ""
             }
            },
            "marker": {
             "colorbar": {
              "outlinewidth": 0,
              "ticks": ""
             }
            },
            "type": "scatter3d"
           }
          ],
          "scattercarpet": [
           {
            "marker": {
             "colorbar": {
              "outlinewidth": 0,
              "ticks": ""
             }
            },
            "type": "scattercarpet"
           }
          ],
          "scattergeo": [
           {
            "marker": {
             "colorbar": {
              "outlinewidth": 0,
              "ticks": ""
             }
            },
            "type": "scattergeo"
           }
          ],
          "scattergl": [
           {
            "marker": {
             "colorbar": {
              "outlinewidth": 0,
              "ticks": ""
             }
            },
            "type": "scattergl"
           }
          ],
          "scattermapbox": [
           {
            "marker": {
             "colorbar": {
              "outlinewidth": 0,
              "ticks": ""
             }
            },
            "type": "scattermapbox"
           }
          ],
          "scatterpolar": [
           {
            "marker": {
             "colorbar": {
              "outlinewidth": 0,
              "ticks": ""
             }
            },
            "type": "scatterpolar"
           }
          ],
          "scatterpolargl": [
           {
            "marker": {
             "colorbar": {
              "outlinewidth": 0,
              "ticks": ""
             }
            },
            "type": "scatterpolargl"
           }
          ],
          "scatterternary": [
           {
            "marker": {
             "colorbar": {
              "outlinewidth": 0,
              "ticks": ""
             }
            },
            "type": "scatterternary"
           }
          ],
          "surface": [
           {
            "colorbar": {
             "outlinewidth": 0,
             "ticks": ""
            },
            "colorscale": [
             [
              0,
              "#0d0887"
             ],
             [
              0.1111111111111111,
              "#46039f"
             ],
             [
              0.2222222222222222,
              "#7201a8"
             ],
             [
              0.3333333333333333,
              "#9c179e"
             ],
             [
              0.4444444444444444,
              "#bd3786"
             ],
             [
              0.5555555555555556,
              "#d8576b"
             ],
             [
              0.6666666666666666,
              "#ed7953"
             ],
             [
              0.7777777777777778,
              "#fb9f3a"
             ],
             [
              0.8888888888888888,
              "#fdca26"
             ],
             [
              1,
              "#f0f921"
             ]
            ],
            "type": "surface"
           }
          ],
          "table": [
           {
            "cells": {
             "fill": {
              "color": "#EBF0F8"
             },
             "line": {
              "color": "white"
             }
            },
            "header": {
             "fill": {
              "color": "#C8D4E3"
             },
             "line": {
              "color": "white"
             }
            },
            "type": "table"
           }
          ]
         },
         "layout": {
          "annotationdefaults": {
           "arrowcolor": "#2a3f5f",
           "arrowhead": 0,
           "arrowwidth": 1
          },
          "coloraxis": {
           "colorbar": {
            "outlinewidth": 0,
            "ticks": ""
           }
          },
          "colorscale": {
           "diverging": [
            [
             0,
             "#8e0152"
            ],
            [
             0.1,
             "#c51b7d"
            ],
            [
             0.2,
             "#de77ae"
            ],
            [
             0.3,
             "#f1b6da"
            ],
            [
             0.4,
             "#fde0ef"
            ],
            [
             0.5,
             "#f7f7f7"
            ],
            [
             0.6,
             "#e6f5d0"
            ],
            [
             0.7,
             "#b8e186"
            ],
            [
             0.8,
             "#7fbc41"
            ],
            [
             0.9,
             "#4d9221"
            ],
            [
             1,
             "#276419"
            ]
           ],
           "sequential": [
            [
             0,
             "#0d0887"
            ],
            [
             0.1111111111111111,
             "#46039f"
            ],
            [
             0.2222222222222222,
             "#7201a8"
            ],
            [
             0.3333333333333333,
             "#9c179e"
            ],
            [
             0.4444444444444444,
             "#bd3786"
            ],
            [
             0.5555555555555556,
             "#d8576b"
            ],
            [
             0.6666666666666666,
             "#ed7953"
            ],
            [
             0.7777777777777778,
             "#fb9f3a"
            ],
            [
             0.8888888888888888,
             "#fdca26"
            ],
            [
             1,
             "#f0f921"
            ]
           ],
           "sequentialminus": [
            [
             0,
             "#0d0887"
            ],
            [
             0.1111111111111111,
             "#46039f"
            ],
            [
             0.2222222222222222,
             "#7201a8"
            ],
            [
             0.3333333333333333,
             "#9c179e"
            ],
            [
             0.4444444444444444,
             "#bd3786"
            ],
            [
             0.5555555555555556,
             "#d8576b"
            ],
            [
             0.6666666666666666,
             "#ed7953"
            ],
            [
             0.7777777777777778,
             "#fb9f3a"
            ],
            [
             0.8888888888888888,
             "#fdca26"
            ],
            [
             1,
             "#f0f921"
            ]
           ]
          },
          "colorway": [
           "#636efa",
           "#EF553B",
           "#00cc96",
           "#ab63fa",
           "#FFA15A",
           "#19d3f3",
           "#FF6692",
           "#B6E880",
           "#FF97FF",
           "#FECB52"
          ],
          "font": {
           "color": "#2a3f5f"
          },
          "geo": {
           "bgcolor": "white",
           "lakecolor": "white",
           "landcolor": "#E5ECF6",
           "showlakes": true,
           "showland": true,
           "subunitcolor": "white"
          },
          "hoverlabel": {
           "align": "left"
          },
          "hovermode": "closest",
          "mapbox": {
           "style": "light"
          },
          "paper_bgcolor": "white",
          "plot_bgcolor": "#E5ECF6",
          "polar": {
           "angularaxis": {
            "gridcolor": "white",
            "linecolor": "white",
            "ticks": ""
           },
           "bgcolor": "#E5ECF6",
           "radialaxis": {
            "gridcolor": "white",
            "linecolor": "white",
            "ticks": ""
           }
          },
          "scene": {
           "xaxis": {
            "backgroundcolor": "#E5ECF6",
            "gridcolor": "white",
            "gridwidth": 2,
            "linecolor": "white",
            "showbackground": true,
            "ticks": "",
            "zerolinecolor": "white"
           },
           "yaxis": {
            "backgroundcolor": "#E5ECF6",
            "gridcolor": "white",
            "gridwidth": 2,
            "linecolor": "white",
            "showbackground": true,
            "ticks": "",
            "zerolinecolor": "white"
           },
           "zaxis": {
            "backgroundcolor": "#E5ECF6",
            "gridcolor": "white",
            "gridwidth": 2,
            "linecolor": "white",
            "showbackground": true,
            "ticks": "",
            "zerolinecolor": "white"
           }
          },
          "shapedefaults": {
           "line": {
            "color": "#2a3f5f"
           }
          },
          "ternary": {
           "aaxis": {
            "gridcolor": "white",
            "linecolor": "white",
            "ticks": ""
           },
           "baxis": {
            "gridcolor": "white",
            "linecolor": "white",
            "ticks": ""
           },
           "bgcolor": "#E5ECF6",
           "caxis": {
            "gridcolor": "white",
            "linecolor": "white",
            "ticks": ""
           }
          },
          "title": {
           "x": 0.05
          },
          "xaxis": {
           "automargin": true,
           "gridcolor": "white",
           "linecolor": "white",
           "ticks": "",
           "title": {
            "standoff": 15
           },
           "zerolinecolor": "white",
           "zerolinewidth": 2
          },
          "yaxis": {
           "automargin": true,
           "gridcolor": "white",
           "linecolor": "white",
           "ticks": "",
           "title": {
            "standoff": 15
           },
           "zerolinecolor": "white",
           "zerolinewidth": 2
          }
         }
        },
        "title": {
         "text": "Supply of PPE (N95s) in Days - Organizations Reaching out to GetUsPPE.org"
        }
       }
      },
      "text/html": [
       "<div>\n",
       "        \n",
       "        \n",
       "            <div id=\"e7e13e20-6749-4113-a30b-f78b1a5b84b6\" class=\"plotly-graph-div\" style=\"height:525px; width:100%;\"></div>\n",
       "            <script type=\"text/javascript\">\n",
       "                require([\"plotly\"], function(Plotly) {\n",
       "                    window.PLOTLYENV=window.PLOTLYENV || {};\n",
       "                    \n",
       "                if (document.getElementById(\"e7e13e20-6749-4113-a30b-f78b1a5b84b6\")) {\n",
       "                    Plotly.newPlot(\n",
       "                        'e7e13e20-6749-4113-a30b-f78b1a5b84b6',\n",
       "                        [{\"autocolorscale\": false, \"colorbar\": {\"title\": {\"text\": \"N95 Supply (days)\"}}, \"colorscale\": [[0.0, \"#bc2026\"], [0.2, \"#ef4723\"], [0.4, \"#f68e1e\"], [0.6, \"#fecc0a\"], [0.8, \"#7dbb42\"], [1.0, \"#0e9246\"]], \"hoverinfo\": \"text\", \"locationmode\": \"USA-states\", \"locations\": [\"AL\", \"AR\", \"AZ\", \"CA\", \"CO\", \"CT\", \"DC\", \"FL\", \"GA\", \"HI\", \"IA\", \"ID\", \"IL\", \"IN\", \"KS\", \"KY\", \"LA\", \"MA\", \"MD\", \"ME\", \"MI\", \"MN\", \"MO\", \"MS\", \"NC\", \"ND\", \"NE\", \"NH\", \"NJ\", \"NM\", \"NV\", \"NY\", \"OH\", \"OK\", \"OR\", \"PA\", \"PR\", \"RI\", \"SC\", \"TN\", \"TX\", \"UT\", \"VA\", \"WA\", \"WI\", \"WV\"], \"marker\": {\"line\": {\"color\": \"black\", \"width\": 0.5}, \"opacity\": 0.8}, \"text\": [\"AL<br><br>Stock in Days: <br>N95: 6.0<br>Face Shields: 0.5<br>Booties: 2.33<br>Gloves: 21.0<br>Gowns: 2.8<br>Sanitizers: 14.0<br>Wipes: 8.75<br>Thermometers: 0.0<br><br>Survey Responses: 5\", \"AR<br><br>Stock in Days: <br>N95: 11.67<br>Face Shields: 9.33<br>Booties: 11.67<br>Gloves: 17.5<br>Gowns: 7.0<br>Sanitizers: 10.0<br>Wipes: 10.5<br>Thermometers: 14.0<br><br>Survey Responses: 3\", \"AZ<br><br>Stock in Days: <br>N95: 9.8<br>Face Shields: 9.33<br>Booties: 16.33<br>Gloves: 14.0<br>Gowns: 13.29<br>Sanitizers: 10.11<br>Wipes: 8.78<br>Thermometers: 9.33<br><br>Survey Responses: 10\", \"CA<br><br>Stock in Days: <br>N95: 11.6<br>Face Shields: 8.1<br>Booties: 5.8<br>Gloves: 12.71<br>Gowns: 9.26<br>Sanitizers: 10.91<br>Wipes: 7.61<br>Thermometers: 8.14<br><br>Survey Responses: 80\", \"CO<br><br>Stock in Days: <br>N95: 9.1<br>Face Shields: 5.1<br>Booties: 7.0<br>Gloves: 19.25<br>Gowns: 10.12<br>Sanitizers: 7.5<br>Wipes: 7.0<br>Thermometers: 12.0<br><br>Survey Responses: 10\", \"CT<br><br>Stock in Days: <br>N95: 7.25<br>Face Shields: 5.29<br>Booties: 3.0<br>Gloves: 16.33<br>Gowns: 5.6<br>Sanitizers: 9.0<br>Wipes: 8.29<br>Thermometers: 5.25<br><br>Survey Responses: 8\", \"DC<br><br>Stock in Days: <br>N95: 14.0<br>Face Shields: 7.0<br>Booties: 14.0<br>Gloves: 17.5<br>Gowns: 8.4<br>Sanitizers: 14.67<br>Wipes: 14.0<br>Thermometers: 28.0<br><br>Survey Responses: 4\", \"FL<br><br>Stock in Days: <br>N95: 8.69<br>Face Shields: 6.28<br>Booties: 5.25<br>Gloves: 10.76<br>Gowns: 7.13<br>Sanitizers: 7.25<br>Wipes: 6.31<br>Thermometers: 5.06<br><br>Survey Responses: 42\", \"GA<br><br>Stock in Days: <br>N95: 5.89<br>Face Shields: 4.75<br>Booties: 5.8<br>Gloves: 11.0<br>Gowns: 6.25<br>Sanitizers: 6.6<br>Wipes: 5.91<br>Thermometers: 7.12<br><br>Survey Responses: 18\", \"HI<br><br>Stock in Days: <br>N95: 7.0<br>Face Shields: 7.0<br>Booties: 3.5<br>Gloves: 7.0<br>Gowns: 3.5<br>Sanitizers: 0.0<br>Wipes: 7.0<br>Thermometers: nan<br><br>Survey Responses: 2\", \"IA<br><br>Stock in Days: <br>N95: 7.0<br>Face Shields: 14.0<br>Booties: 7.0<br>Gloves: 10.5<br>Gowns: 10.5<br>Sanitizers: 8.75<br>Wipes: 10.0<br>Thermometers: 7.0<br><br>Survey Responses: 2\", \"ID<br><br>Stock in Days: <br>N95: 0.0<br>Face Shields: 0.0<br>Booties: nan<br>Gloves: 7.0<br>Gowns: 0.0<br>Sanitizers: 7.0<br>Wipes: 0.0<br>Thermometers: 2.0<br><br>Survey Responses: 1\", \"IL<br><br>Stock in Days: <br>N95: 9.18<br>Face Shields: 8.62<br>Booties: 5.6<br>Gloves: 12.0<br>Gowns: 10.53<br>Sanitizers: 8.22<br>Wipes: 9.13<br>Thermometers: 3.89<br><br>Survey Responses: 17\", \"IN<br><br>Stock in Days: <br>N95: 7.0<br>Face Shields: 7.57<br>Booties: 3.57<br>Gloves: 12.29<br>Gowns: 7.57<br>Sanitizers: 6.5<br>Wipes: 3.83<br>Thermometers: 3.57<br><br>Survey Responses: 8\", \"KS<br><br>Stock in Days: <br>N95: 15.0<br>Face Shields: 7.0<br>Booties: 2.0<br>Gloves: 14.0<br>Gowns: 10.5<br>Sanitizers: 0.0<br>Wipes: 7.0<br>Thermometers: 7.0<br><br>Survey Responses: 2\", \"KY<br><br>Stock in Days: <br>N95: 10.0<br>Face Shields: 0.0<br>Booties: 7.0<br>Gloves: 7.0<br>Gowns: 7.67<br>Sanitizers: 3.5<br>Wipes: 4.5<br>Thermometers: 0.0<br><br>Survey Responses: 3\", \"LA<br><br>Stock in Days: <br>N95: 11.0<br>Face Shields: 7.33<br>Booties: 9.33<br>Gloves: 7.0<br>Gowns: 11.2<br>Sanitizers: 7.4<br>Wipes: 7.0<br>Thermometers: 7.0<br><br>Survey Responses: 7\", \"MA<br><br>Stock in Days: <br>N95: 5.97<br>Face Shields: 6.13<br>Booties: 6.12<br>Gloves: 11.35<br>Gowns: 5.83<br>Sanitizers: 6.57<br>Wipes: 7.12<br>Thermometers: 9.05<br><br>Survey Responses: 33\", \"MD<br><br>Stock in Days: <br>N95: 11.38<br>Face Shields: 9.8<br>Booties: 7.33<br>Gloves: 15.4<br>Gowns: 8.8<br>Sanitizers: 11.62<br>Wipes: 10.0<br>Thermometers: 18.67<br><br>Survey Responses: 8\", \"ME<br><br>Stock in Days: <br>N95: 10.5<br>Face Shields: 7.0<br>Booties: 7.0<br>Gloves: 10.5<br>Gowns: 5.33<br>Sanitizers: 0.0<br>Wipes: 7.0<br>Thermometers: nan<br><br>Survey Responses: 2\", \"MI<br><br>Stock in Days: <br>N95: 8.0<br>Face Shields: 5.6<br>Booties: 14.0<br>Gloves: 15.75<br>Gowns: 15.17<br>Sanitizers: 16.8<br>Wipes: 21.0<br>Thermometers: 14.0<br><br>Survey Responses: 7\", \"MN<br><br>Stock in Days: <br>N95: 8.0<br>Face Shields: 6.17<br>Booties: 14.0<br>Gloves: 19.0<br>Gowns: 10.9<br>Sanitizers: 11.6<br>Wipes: 13.38<br>Thermometers: 15.8<br><br>Survey Responses: 9\", \"MO<br><br>Stock in Days: <br>N95: 4.67<br>Face Shields: 4.67<br>Booties: nan<br>Gloves: 7.5<br>Gowns: 8.75<br>Sanitizers: 10.2<br>Wipes: 7.0<br>Thermometers: 14.0<br><br>Survey Responses: 3\", \"MS<br><br>Stock in Days: <br>N95: 7.67<br>Face Shields: 4.67<br>Booties: 7.0<br>Gloves: 17.5<br>Gowns: 7.67<br>Sanitizers: 12.33<br>Wipes: 10.5<br>Thermometers: 10.5<br><br>Survey Responses: 3\", \"NC<br><br>Stock in Days: <br>N95: 8.56<br>Face Shields: 3.0<br>Booties: 0.0<br>Gloves: 16.8<br>Gowns: 8.5<br>Sanitizers: 12.6<br>Wipes: 8.8<br>Thermometers: 15.0<br><br>Survey Responses: 9\", \"ND<br><br>Stock in Days: <br>N95: 0.0<br>Face Shields: nan<br>Booties: nan<br>Gloves: 7.0<br>Gowns: nan<br>Sanitizers: 7.0<br>Wipes: 2.0<br>Thermometers: 0.0<br><br>Survey Responses: 1\", \"NE<br><br>Stock in Days: <br>N95: 7.0<br>Face Shields: nan<br>Booties: nan<br>Gloves: nan<br>Gowns: 0.0<br>Sanitizers: nan<br>Wipes: nan<br>Thermometers: nan<br><br>Survey Responses: 1\", \"NH<br><br>Stock in Days: <br>N95: 18.67<br>Face Shields: 10.5<br>Booties: nan<br>Gloves: 14.0<br>Gowns: 9.33<br>Sanitizers: 13.17<br>Wipes: 14.5<br>Thermometers: 21.0<br><br>Survey Responses: 6\", \"NJ<br><br>Stock in Days: <br>N95: 10.79<br>Face Shields: 5.73<br>Booties: 8.75<br>Gloves: 9.33<br>Gowns: 7.64<br>Sanitizers: 10.5<br>Wipes: 8.0<br>Thermometers: 4.67<br><br>Survey Responses: 14\", \"NM<br><br>Stock in Days: <br>N95: 7.0<br>Face Shields: 3.0<br>Booties: 3.5<br>Gloves: 7.0<br>Gowns: 7.0<br>Sanitizers: 7.0<br>Wipes: 7.0<br>Thermometers: 7.0<br><br>Survey Responses: 2\", \"NV<br><br>Stock in Days: <br>N95: 10.5<br>Face Shields: 28.0<br>Booties: 7.0<br>Gloves: 17.5<br>Gowns: 10.5<br>Sanitizers: 10.5<br>Wipes: 21.0<br>Thermometers: 14.0<br><br>Survey Responses: 2\", \"NY<br><br>Stock in Days: <br>N95: 8.77<br>Face Shields: 6.07<br>Booties: 5.19<br>Gloves: 9.94<br>Gowns: 7.23<br>Sanitizers: 8.05<br>Wipes: 6.8<br>Thermometers: 9.33<br><br>Survey Responses: 31\", \"OH<br><br>Stock in Days: <br>N95: 6.12<br>Face Shields: 3.75<br>Booties: 0.0<br>Gloves: 8.75<br>Gowns: 8.12<br>Sanitizers: 5.89<br>Wipes: 7.75<br>Thermometers: 1.0<br><br>Survey Responses: 8\", \"OK<br><br>Stock in Days: <br>N95: 6.67<br>Face Shields: 6.12<br>Booties: 5.25<br>Gloves: 8.75<br>Gowns: 8.0<br>Sanitizers: 6.62<br>Wipes: 6.17<br>Thermometers: 7.0<br><br>Survey Responses: 9\", \"OR<br><br>Stock in Days: <br>N95: 1.0<br>Face Shields: 1.0<br>Booties: 8.0<br>Gloves: 14.67<br>Gowns: 6.4<br>Sanitizers: 11.17<br>Wipes: 4.5<br>Thermometers: 0.67<br><br>Survey Responses: 4\", \"PA<br><br>Stock in Days: <br>N95: 11.81<br>Face Shields: 11.62<br>Booties: 8.5<br>Gloves: 18.38<br>Gowns: 9.64<br>Sanitizers: 11.63<br>Wipes: 8.89<br>Thermometers: 8.92<br><br>Survey Responses: 16\", \"PR<br><br>Stock in Days: <br>N95: 7.0<br>Face Shields: 7.0<br>Booties: 7.0<br>Gloves: 7.0<br>Gowns: 7.0<br>Sanitizers: nan<br>Wipes: 7.0<br>Thermometers: nan<br><br>Survey Responses: 1\", \"RI<br><br>Stock in Days: <br>N95: 14.0<br>Face Shields: 8.0<br>Booties: nan<br>Gloves: 10.5<br>Gowns: 10.5<br>Sanitizers: 17.5<br>Wipes: 17.5<br>Thermometers: 17.5<br><br>Survey Responses: 1\", \"SC<br><br>Stock in Days: <br>N95: 8.75<br>Face Shields: 12.75<br>Booties: 7.0<br>Gloves: 17.5<br>Gowns: 12.75<br>Sanitizers: 17.5<br>Wipes: 12.25<br>Thermometers: 11.67<br><br>Survey Responses: 4\", \"TN<br><br>Stock in Days: <br>N95: 4.6<br>Face Shields: 4.67<br>Booties: 3.5<br>Gloves: 7.44<br>Gowns: 5.11<br>Sanitizers: 6.57<br>Wipes: 4.89<br>Thermometers: 5.33<br><br>Survey Responses: 10\", \"TX<br><br>Stock in Days: <br>N95: 7.2<br>Face Shields: 7.0<br>Booties: 6.33<br>Gloves: 10.14<br>Gowns: 5.72<br>Sanitizers: 6.28<br>Wipes: 6.04<br>Thermometers: 12.18<br><br>Survey Responses: 30\", \"UT<br><br>Stock in Days: <br>N95: 2.0<br>Face Shields: 0.0<br>Booties: nan<br>Gloves: 7.0<br>Gowns: 7.0<br>Sanitizers: 0.0<br>Wipes: 0.0<br>Thermometers: 2.0<br><br>Survey Responses: 1\", \"VA<br><br>Stock in Days: <br>N95: 10.61<br>Face Shields: 8.75<br>Booties: 9.33<br>Gloves: 12.5<br>Gowns: 7.75<br>Sanitizers: 13.53<br>Wipes: 9.47<br>Thermometers: 5.25<br><br>Survey Responses: 18\", \"WA<br><br>Stock in Days: <br>N95: 8.5<br>Face Shields: 4.62<br>Booties: 4.67<br>Gloves: 12.33<br>Gowns: 7.88<br>Sanitizers: 8.83<br>Wipes: 6.17<br>Thermometers: 2.8<br><br>Survey Responses: 6\", \"WI<br><br>Stock in Days: <br>N95: 9.33<br>Face Shields: 8.4<br>Booties: 10.5<br>Gloves: 12.25<br>Gowns: 7.33<br>Sanitizers: 12.83<br>Wipes: 8.8<br>Thermometers: 5.25<br><br>Survey Responses: 6\", \"WV<br><br>Stock in Days: <br>N95: 16.33<br>Face Shields: 14.0<br>Booties: 14.0<br>Gloves: 17.5<br>Gowns: 17.5<br>Sanitizers: 15.75<br>Wipes: 16.33<br>Thermometers: 8.0<br><br>Survey Responses: 3\"], \"type\": \"choropleth\", \"z\": [\"6.0\", \"11.67\", \"9.8\", \"11.6\", \"9.1\", \"7.25\", \"14.0\", \"8.69\", \"5.89\", \"7.0\", \"7.0\", \"0.0\", \"9.18\", \"7.0\", \"15.0\", \"10.0\", \"11.0\", \"5.97\", \"11.38\", \"10.5\", \"8.0\", \"8.0\", \"4.67\", \"7.67\", \"8.56\", \"0.0\", \"7.0\", \"18.67\", \"10.79\", \"7.0\", \"10.5\", \"8.77\", \"6.12\", \"6.67\", \"1.0\", \"11.81\", \"7.0\", \"14.0\", \"8.75\", \"4.6\", \"7.2\", \"2.0\", \"10.61\", \"8.5\", \"9.33\", \"16.33\"], \"zmax\": 14, \"zmin\": 0}],\n",
       "                        {\"geo\": {\"lakecolor\": \"rgb(255, 255, 255)\", \"projection\": {\"type\": \"albers usa\"}, \"scope\": \"usa\", \"showlakes\": true}, \"template\": {\"data\": {\"bar\": [{\"error_x\": {\"color\": \"#2a3f5f\"}, \"error_y\": {\"color\": \"#2a3f5f\"}, \"marker\": {\"line\": {\"color\": \"#E5ECF6\", \"width\": 0.5}}, \"type\": \"bar\"}], \"barpolar\": [{\"marker\": {\"line\": {\"color\": \"#E5ECF6\", \"width\": 0.5}}, \"type\": \"barpolar\"}], \"carpet\": [{\"aaxis\": {\"endlinecolor\": \"#2a3f5f\", \"gridcolor\": \"white\", \"linecolor\": \"white\", \"minorgridcolor\": \"white\", \"startlinecolor\": \"#2a3f5f\"}, \"baxis\": {\"endlinecolor\": \"#2a3f5f\", \"gridcolor\": \"white\", \"linecolor\": \"white\", \"minorgridcolor\": \"white\", \"startlinecolor\": \"#2a3f5f\"}, \"type\": \"carpet\"}], \"choropleth\": [{\"colorbar\": {\"outlinewidth\": 0, \"ticks\": \"\"}, \"type\": \"choropleth\"}], \"contour\": [{\"colorbar\": {\"outlinewidth\": 0, \"ticks\": \"\"}, \"colorscale\": [[0.0, \"#0d0887\"], [0.1111111111111111, \"#46039f\"], [0.2222222222222222, \"#7201a8\"], [0.3333333333333333, \"#9c179e\"], [0.4444444444444444, \"#bd3786\"], [0.5555555555555556, \"#d8576b\"], [0.6666666666666666, \"#ed7953\"], [0.7777777777777778, \"#fb9f3a\"], [0.8888888888888888, \"#fdca26\"], [1.0, \"#f0f921\"]], \"type\": \"contour\"}], \"contourcarpet\": [{\"colorbar\": {\"outlinewidth\": 0, \"ticks\": \"\"}, \"type\": \"contourcarpet\"}], \"heatmap\": [{\"colorbar\": {\"outlinewidth\": 0, \"ticks\": \"\"}, \"colorscale\": [[0.0, \"#0d0887\"], [0.1111111111111111, \"#46039f\"], [0.2222222222222222, \"#7201a8\"], [0.3333333333333333, \"#9c179e\"], [0.4444444444444444, \"#bd3786\"], [0.5555555555555556, \"#d8576b\"], [0.6666666666666666, \"#ed7953\"], [0.7777777777777778, \"#fb9f3a\"], [0.8888888888888888, \"#fdca26\"], [1.0, \"#f0f921\"]], \"type\": \"heatmap\"}], \"heatmapgl\": [{\"colorbar\": {\"outlinewidth\": 0, \"ticks\": \"\"}, \"colorscale\": [[0.0, \"#0d0887\"], [0.1111111111111111, \"#46039f\"], [0.2222222222222222, \"#7201a8\"], [0.3333333333333333, \"#9c179e\"], [0.4444444444444444, \"#bd3786\"], [0.5555555555555556, \"#d8576b\"], [0.6666666666666666, \"#ed7953\"], [0.7777777777777778, \"#fb9f3a\"], [0.8888888888888888, \"#fdca26\"], [1.0, \"#f0f921\"]], \"type\": \"heatmapgl\"}], \"histogram\": [{\"marker\": {\"colorbar\": {\"outlinewidth\": 0, \"ticks\": \"\"}}, \"type\": \"histogram\"}], \"histogram2d\": [{\"colorbar\": {\"outlinewidth\": 0, \"ticks\": \"\"}, \"colorscale\": [[0.0, \"#0d0887\"], [0.1111111111111111, \"#46039f\"], [0.2222222222222222, \"#7201a8\"], [0.3333333333333333, \"#9c179e\"], [0.4444444444444444, \"#bd3786\"], [0.5555555555555556, \"#d8576b\"], [0.6666666666666666, \"#ed7953\"], [0.7777777777777778, \"#fb9f3a\"], [0.8888888888888888, \"#fdca26\"], [1.0, \"#f0f921\"]], \"type\": \"histogram2d\"}], \"histogram2dcontour\": [{\"colorbar\": {\"outlinewidth\": 0, \"ticks\": \"\"}, \"colorscale\": [[0.0, \"#0d0887\"], [0.1111111111111111, \"#46039f\"], [0.2222222222222222, \"#7201a8\"], [0.3333333333333333, \"#9c179e\"], [0.4444444444444444, \"#bd3786\"], [0.5555555555555556, \"#d8576b\"], [0.6666666666666666, \"#ed7953\"], [0.7777777777777778, \"#fb9f3a\"], [0.8888888888888888, \"#fdca26\"], [1.0, \"#f0f921\"]], \"type\": \"histogram2dcontour\"}], \"mesh3d\": [{\"colorbar\": {\"outlinewidth\": 0, \"ticks\": \"\"}, \"type\": \"mesh3d\"}], \"parcoords\": [{\"line\": {\"colorbar\": {\"outlinewidth\": 0, \"ticks\": \"\"}}, \"type\": \"parcoords\"}], \"pie\": [{\"automargin\": true, \"type\": \"pie\"}], \"scatter\": [{\"marker\": {\"colorbar\": {\"outlinewidth\": 0, \"ticks\": \"\"}}, \"type\": \"scatter\"}], \"scatter3d\": [{\"line\": {\"colorbar\": {\"outlinewidth\": 0, \"ticks\": \"\"}}, \"marker\": {\"colorbar\": {\"outlinewidth\": 0, \"ticks\": \"\"}}, \"type\": \"scatter3d\"}], \"scattercarpet\": [{\"marker\": {\"colorbar\": {\"outlinewidth\": 0, \"ticks\": \"\"}}, \"type\": \"scattercarpet\"}], \"scattergeo\": [{\"marker\": {\"colorbar\": {\"outlinewidth\": 0, \"ticks\": \"\"}}, \"type\": \"scattergeo\"}], \"scattergl\": [{\"marker\": {\"colorbar\": {\"outlinewidth\": 0, \"ticks\": \"\"}}, \"type\": \"scattergl\"}], \"scattermapbox\": [{\"marker\": {\"colorbar\": {\"outlinewidth\": 0, \"ticks\": \"\"}}, \"type\": \"scattermapbox\"}], \"scatterpolar\": [{\"marker\": {\"colorbar\": {\"outlinewidth\": 0, \"ticks\": \"\"}}, \"type\": \"scatterpolar\"}], \"scatterpolargl\": [{\"marker\": {\"colorbar\": {\"outlinewidth\": 0, \"ticks\": \"\"}}, \"type\": \"scatterpolargl\"}], \"scatterternary\": [{\"marker\": {\"colorbar\": {\"outlinewidth\": 0, \"ticks\": \"\"}}, \"type\": \"scatterternary\"}], \"surface\": [{\"colorbar\": {\"outlinewidth\": 0, \"ticks\": \"\"}, \"colorscale\": [[0.0, \"#0d0887\"], [0.1111111111111111, \"#46039f\"], [0.2222222222222222, \"#7201a8\"], [0.3333333333333333, \"#9c179e\"], [0.4444444444444444, \"#bd3786\"], [0.5555555555555556, \"#d8576b\"], [0.6666666666666666, \"#ed7953\"], [0.7777777777777778, \"#fb9f3a\"], [0.8888888888888888, \"#fdca26\"], [1.0, \"#f0f921\"]], \"type\": \"surface\"}], \"table\": [{\"cells\": {\"fill\": {\"color\": \"#EBF0F8\"}, \"line\": {\"color\": \"white\"}}, \"header\": {\"fill\": {\"color\": \"#C8D4E3\"}, \"line\": {\"color\": \"white\"}}, \"type\": \"table\"}]}, \"layout\": {\"annotationdefaults\": {\"arrowcolor\": \"#2a3f5f\", \"arrowhead\": 0, \"arrowwidth\": 1}, \"coloraxis\": {\"colorbar\": {\"outlinewidth\": 0, \"ticks\": \"\"}}, \"colorscale\": {\"diverging\": [[0, \"#8e0152\"], [0.1, \"#c51b7d\"], [0.2, \"#de77ae\"], [0.3, \"#f1b6da\"], [0.4, \"#fde0ef\"], [0.5, \"#f7f7f7\"], [0.6, \"#e6f5d0\"], [0.7, \"#b8e186\"], [0.8, \"#7fbc41\"], [0.9, \"#4d9221\"], [1, \"#276419\"]], \"sequential\": [[0.0, \"#0d0887\"], [0.1111111111111111, \"#46039f\"], [0.2222222222222222, \"#7201a8\"], [0.3333333333333333, \"#9c179e\"], [0.4444444444444444, \"#bd3786\"], [0.5555555555555556, \"#d8576b\"], [0.6666666666666666, \"#ed7953\"], [0.7777777777777778, \"#fb9f3a\"], [0.8888888888888888, \"#fdca26\"], [1.0, \"#f0f921\"]], \"sequentialminus\": [[0.0, \"#0d0887\"], [0.1111111111111111, \"#46039f\"], [0.2222222222222222, \"#7201a8\"], [0.3333333333333333, \"#9c179e\"], [0.4444444444444444, \"#bd3786\"], [0.5555555555555556, \"#d8576b\"], [0.6666666666666666, \"#ed7953\"], [0.7777777777777778, \"#fb9f3a\"], [0.8888888888888888, \"#fdca26\"], [1.0, \"#f0f921\"]]}, \"colorway\": [\"#636efa\", \"#EF553B\", \"#00cc96\", \"#ab63fa\", \"#FFA15A\", \"#19d3f3\", \"#FF6692\", \"#B6E880\", \"#FF97FF\", \"#FECB52\"], \"font\": {\"color\": \"#2a3f5f\"}, \"geo\": {\"bgcolor\": \"white\", \"lakecolor\": \"white\", \"landcolor\": \"#E5ECF6\", \"showlakes\": true, \"showland\": true, \"subunitcolor\": \"white\"}, \"hoverlabel\": {\"align\": \"left\"}, \"hovermode\": \"closest\", \"mapbox\": {\"style\": \"light\"}, \"paper_bgcolor\": \"white\", \"plot_bgcolor\": \"#E5ECF6\", \"polar\": {\"angularaxis\": {\"gridcolor\": \"white\", \"linecolor\": \"white\", \"ticks\": \"\"}, \"bgcolor\": \"#E5ECF6\", \"radialaxis\": {\"gridcolor\": \"white\", \"linecolor\": \"white\", \"ticks\": \"\"}}, \"scene\": {\"xaxis\": {\"backgroundcolor\": \"#E5ECF6\", \"gridcolor\": \"white\", \"gridwidth\": 2, \"linecolor\": \"white\", \"showbackground\": true, \"ticks\": \"\", \"zerolinecolor\": \"white\"}, \"yaxis\": {\"backgroundcolor\": \"#E5ECF6\", \"gridcolor\": \"white\", \"gridwidth\": 2, \"linecolor\": \"white\", \"showbackground\": true, \"ticks\": \"\", \"zerolinecolor\": \"white\"}, \"zaxis\": {\"backgroundcolor\": \"#E5ECF6\", \"gridcolor\": \"white\", \"gridwidth\": 2, \"linecolor\": \"white\", \"showbackground\": true, \"ticks\": \"\", \"zerolinecolor\": \"white\"}}, \"shapedefaults\": {\"line\": {\"color\": \"#2a3f5f\"}}, \"ternary\": {\"aaxis\": {\"gridcolor\": \"white\", \"linecolor\": \"white\", \"ticks\": \"\"}, \"baxis\": {\"gridcolor\": \"white\", \"linecolor\": \"white\", \"ticks\": \"\"}, \"bgcolor\": \"#E5ECF6\", \"caxis\": {\"gridcolor\": \"white\", \"linecolor\": \"white\", \"ticks\": \"\"}}, \"title\": {\"x\": 0.05}, \"xaxis\": {\"automargin\": true, \"gridcolor\": \"white\", \"linecolor\": \"white\", \"ticks\": \"\", \"title\": {\"standoff\": 15}, \"zerolinecolor\": \"white\", \"zerolinewidth\": 2}, \"yaxis\": {\"automargin\": true, \"gridcolor\": \"white\", \"linecolor\": \"white\", \"ticks\": \"\", \"title\": {\"standoff\": 15}, \"zerolinecolor\": \"white\", \"zerolinewidth\": 2}}}, \"title\": {\"text\": \"Supply of PPE (N95s) in Days - Organizations Reaching out to GetUsPPE.org\"}},\n",
       "                        {\"responsive\": true}\n",
       "                    ).then(function(){\n",
       "                            \n",
       "var gd = document.getElementById('e7e13e20-6749-4113-a30b-f78b1a5b84b6');\n",
       "var x = new MutationObserver(function (mutations, observer) {{\n",
       "        var display = window.getComputedStyle(gd).display;\n",
       "        if (!display || display === 'none') {{\n",
       "            console.log([gd, 'removed!']);\n",
       "            Plotly.purge(gd);\n",
       "            observer.disconnect();\n",
       "        }}\n",
       "}});\n",
       "\n",
       "// Listen for the removal of the full notebook cells\n",
       "var notebookContainer = gd.closest('#notebook-container');\n",
       "if (notebookContainer) {{\n",
       "    x.observe(notebookContainer, {childList: true});\n",
       "}}\n",
       "\n",
       "// Listen for the clearing of the current output cell\n",
       "var outputEl = gd.closest('.output');\n",
       "if (outputEl) {{\n",
       "    x.observe(outputEl, {childList: true});\n",
       "}}\n",
       "\n",
       "                        })\n",
       "                };\n",
       "                });\n",
       "            </script>\n",
       "        </div>"
      ]
     },
     "metadata": {},
     "output_type": "display_data"
    }
   ],
   "source": [
    "fig = go.Figure(data=go.Choropleth(\n",
    "    locations=supply_per_state_df['State'],\n",
    "    z=supply_per_state_df['N95 Stock'],\n",
    "    locationmode='USA-states',\n",
    "    colorscale=['#bc2026','#ef4723','#f68e1e','#fecc0a','#7dbb42','#0e9246'],\n",
    "    autocolorscale=False,\n",
    "    text=supply_per_state_df['text'], # hover text\n",
    "    marker_line_color='black', # line markers between states\n",
    "    marker_opacity=0.8, \n",
    "    marker_line_width=0.5,\n",
    "    zmin=0,\n",
    "    zmax=14,\n",
    "    colorbar_title=\"N95 Supply (days)\",\n",
    "    hoverinfo='text'\n",
    "))\n",
    "\n",
    "fig.update_layout(\n",
    "    title_text='Supply of PPE (N95s) in Days - Organizations Reaching out to GetUsPPE.org',\n",
    "    geo = dict(\n",
    "        scope='usa',\n",
    "        projection=go.layout.geo.Projection(type = 'albers usa'),\n",
    "        showlakes=True, # lakes\n",
    "        lakecolor='rgb(255, 255, 255)'),\n",
    ")\n",
    "\n",
    "# Download the figure From Sunny Mui\n",
    "go.Figure.write_html(fig, file='Available Supply of N95 in Days.html',\n",
    "                     config={'responsive': True}, include_plotlyjs='cdn')\n",
    "\n",
    "# Show the fig\n",
    "fig.show()"
   ]
  },
  {
   "cell_type": "code",
   "execution_count": 243,
   "metadata": {},
   "outputs": [
    {
     "data": {
      "application/vnd.plotly.v1+json": {
       "config": {
        "plotlyServerURL": "https://plot.ly"
       },
       "data": [
        {
         "autocolorscale": false,
         "colorbar": {
          "title": {
           "text": "Face Shield Supply (days)"
          }
         },
         "colorscale": [
          [
           0,
           "#bc2026"
          ],
          [
           0.2,
           "#ef4723"
          ],
          [
           0.4,
           "#f68e1e"
          ],
          [
           0.6,
           "#fecc0a"
          ],
          [
           0.8,
           "#7dbb42"
          ],
          [
           1,
           "#0e9246"
          ]
         ],
         "hoverinfo": "text",
         "locationmode": "USA-states",
         "locations": [
          "AL",
          "AR",
          "AZ",
          "CA",
          "CO",
          "CT",
          "DC",
          "FL",
          "GA",
          "HI",
          "IA",
          "ID",
          "IL",
          "IN",
          "KS",
          "KY",
          "LA",
          "MA",
          "MD",
          "ME",
          "MI",
          "MN",
          "MO",
          "MS",
          "NC",
          "ND",
          "NE",
          "NH",
          "NJ",
          "NM",
          "NV",
          "NY",
          "OH",
          "OK",
          "OR",
          "PA",
          "PR",
          "RI",
          "SC",
          "TN",
          "TX",
          "UT",
          "VA",
          "WA",
          "WI",
          "WV"
         ],
         "marker": {
          "line": {
           "color": "black",
           "width": 0.5
          },
          "opacity": 0.8
         },
         "text": [
          "AL<br><br>Stock in Days: <br>N95: 6.0<br>Face Shields: 0.5<br>Booties: 2.33<br>Gloves: 21.0<br>Gowns: 2.8<br>Sanitizers: 14.0<br>Wipes: 8.75<br>Thermometers: 0.0<br><br>Survey Responses: 5",
          "AR<br><br>Stock in Days: <br>N95: 11.67<br>Face Shields: 9.33<br>Booties: 11.67<br>Gloves: 17.5<br>Gowns: 7.0<br>Sanitizers: 10.0<br>Wipes: 10.5<br>Thermometers: 14.0<br><br>Survey Responses: 3",
          "AZ<br><br>Stock in Days: <br>N95: 9.8<br>Face Shields: 9.33<br>Booties: 16.33<br>Gloves: 14.0<br>Gowns: 13.29<br>Sanitizers: 10.11<br>Wipes: 8.78<br>Thermometers: 9.33<br><br>Survey Responses: 10",
          "CA<br><br>Stock in Days: <br>N95: 11.6<br>Face Shields: 8.1<br>Booties: 5.8<br>Gloves: 12.71<br>Gowns: 9.26<br>Sanitizers: 10.91<br>Wipes: 7.61<br>Thermometers: 8.14<br><br>Survey Responses: 80",
          "CO<br><br>Stock in Days: <br>N95: 9.1<br>Face Shields: 5.1<br>Booties: 7.0<br>Gloves: 19.25<br>Gowns: 10.12<br>Sanitizers: 7.5<br>Wipes: 7.0<br>Thermometers: 12.0<br><br>Survey Responses: 10",
          "CT<br><br>Stock in Days: <br>N95: 7.25<br>Face Shields: 5.29<br>Booties: 3.0<br>Gloves: 16.33<br>Gowns: 5.6<br>Sanitizers: 9.0<br>Wipes: 8.29<br>Thermometers: 5.25<br><br>Survey Responses: 8",
          "DC<br><br>Stock in Days: <br>N95: 14.0<br>Face Shields: 7.0<br>Booties: 14.0<br>Gloves: 17.5<br>Gowns: 8.4<br>Sanitizers: 14.67<br>Wipes: 14.0<br>Thermometers: 28.0<br><br>Survey Responses: 4",
          "FL<br><br>Stock in Days: <br>N95: 8.69<br>Face Shields: 6.28<br>Booties: 5.25<br>Gloves: 10.76<br>Gowns: 7.13<br>Sanitizers: 7.25<br>Wipes: 6.31<br>Thermometers: 5.06<br><br>Survey Responses: 42",
          "GA<br><br>Stock in Days: <br>N95: 5.89<br>Face Shields: 4.75<br>Booties: 5.8<br>Gloves: 11.0<br>Gowns: 6.25<br>Sanitizers: 6.6<br>Wipes: 5.91<br>Thermometers: 7.12<br><br>Survey Responses: 18",
          "HI<br><br>Stock in Days: <br>N95: 7.0<br>Face Shields: 7.0<br>Booties: 3.5<br>Gloves: 7.0<br>Gowns: 3.5<br>Sanitizers: 0.0<br>Wipes: 7.0<br>Thermometers: nan<br><br>Survey Responses: 2",
          "IA<br><br>Stock in Days: <br>N95: 7.0<br>Face Shields: 14.0<br>Booties: 7.0<br>Gloves: 10.5<br>Gowns: 10.5<br>Sanitizers: 8.75<br>Wipes: 10.0<br>Thermometers: 7.0<br><br>Survey Responses: 2",
          "ID<br><br>Stock in Days: <br>N95: 0.0<br>Face Shields: 0.0<br>Booties: nan<br>Gloves: 7.0<br>Gowns: 0.0<br>Sanitizers: 7.0<br>Wipes: 0.0<br>Thermometers: 2.0<br><br>Survey Responses: 1",
          "IL<br><br>Stock in Days: <br>N95: 9.18<br>Face Shields: 8.62<br>Booties: 5.6<br>Gloves: 12.0<br>Gowns: 10.53<br>Sanitizers: 8.22<br>Wipes: 9.13<br>Thermometers: 3.89<br><br>Survey Responses: 17",
          "IN<br><br>Stock in Days: <br>N95: 7.0<br>Face Shields: 7.57<br>Booties: 3.57<br>Gloves: 12.29<br>Gowns: 7.57<br>Sanitizers: 6.5<br>Wipes: 3.83<br>Thermometers: 3.57<br><br>Survey Responses: 8",
          "KS<br><br>Stock in Days: <br>N95: 15.0<br>Face Shields: 7.0<br>Booties: 2.0<br>Gloves: 14.0<br>Gowns: 10.5<br>Sanitizers: 0.0<br>Wipes: 7.0<br>Thermometers: 7.0<br><br>Survey Responses: 2",
          "KY<br><br>Stock in Days: <br>N95: 10.0<br>Face Shields: 0.0<br>Booties: 7.0<br>Gloves: 7.0<br>Gowns: 7.67<br>Sanitizers: 3.5<br>Wipes: 4.5<br>Thermometers: 0.0<br><br>Survey Responses: 3",
          "LA<br><br>Stock in Days: <br>N95: 11.0<br>Face Shields: 7.33<br>Booties: 9.33<br>Gloves: 7.0<br>Gowns: 11.2<br>Sanitizers: 7.4<br>Wipes: 7.0<br>Thermometers: 7.0<br><br>Survey Responses: 7",
          "MA<br><br>Stock in Days: <br>N95: 5.97<br>Face Shields: 6.13<br>Booties: 6.12<br>Gloves: 11.35<br>Gowns: 5.83<br>Sanitizers: 6.57<br>Wipes: 7.12<br>Thermometers: 9.05<br><br>Survey Responses: 33",
          "MD<br><br>Stock in Days: <br>N95: 11.38<br>Face Shields: 9.8<br>Booties: 7.33<br>Gloves: 15.4<br>Gowns: 8.8<br>Sanitizers: 11.62<br>Wipes: 10.0<br>Thermometers: 18.67<br><br>Survey Responses: 8",
          "ME<br><br>Stock in Days: <br>N95: 10.5<br>Face Shields: 7.0<br>Booties: 7.0<br>Gloves: 10.5<br>Gowns: 5.33<br>Sanitizers: 0.0<br>Wipes: 7.0<br>Thermometers: nan<br><br>Survey Responses: 2",
          "MI<br><br>Stock in Days: <br>N95: 8.0<br>Face Shields: 5.6<br>Booties: 14.0<br>Gloves: 15.75<br>Gowns: 15.17<br>Sanitizers: 16.8<br>Wipes: 21.0<br>Thermometers: 14.0<br><br>Survey Responses: 7",
          "MN<br><br>Stock in Days: <br>N95: 8.0<br>Face Shields: 6.17<br>Booties: 14.0<br>Gloves: 19.0<br>Gowns: 10.9<br>Sanitizers: 11.6<br>Wipes: 13.38<br>Thermometers: 15.8<br><br>Survey Responses: 9",
          "MO<br><br>Stock in Days: <br>N95: 4.67<br>Face Shields: 4.67<br>Booties: nan<br>Gloves: 7.5<br>Gowns: 8.75<br>Sanitizers: 10.2<br>Wipes: 7.0<br>Thermometers: 14.0<br><br>Survey Responses: 3",
          "MS<br><br>Stock in Days: <br>N95: 7.67<br>Face Shields: 4.67<br>Booties: 7.0<br>Gloves: 17.5<br>Gowns: 7.67<br>Sanitizers: 12.33<br>Wipes: 10.5<br>Thermometers: 10.5<br><br>Survey Responses: 3",
          "NC<br><br>Stock in Days: <br>N95: 8.56<br>Face Shields: 3.0<br>Booties: 0.0<br>Gloves: 16.8<br>Gowns: 8.5<br>Sanitizers: 12.6<br>Wipes: 8.8<br>Thermometers: 15.0<br><br>Survey Responses: 9",
          "ND<br><br>Stock in Days: <br>N95: 0.0<br>Face Shields: nan<br>Booties: nan<br>Gloves: 7.0<br>Gowns: nan<br>Sanitizers: 7.0<br>Wipes: 2.0<br>Thermometers: 0.0<br><br>Survey Responses: 1",
          "NE<br><br>Stock in Days: <br>N95: 7.0<br>Face Shields: nan<br>Booties: nan<br>Gloves: nan<br>Gowns: 0.0<br>Sanitizers: nan<br>Wipes: nan<br>Thermometers: nan<br><br>Survey Responses: 1",
          "NH<br><br>Stock in Days: <br>N95: 18.67<br>Face Shields: 10.5<br>Booties: nan<br>Gloves: 14.0<br>Gowns: 9.33<br>Sanitizers: 13.17<br>Wipes: 14.5<br>Thermometers: 21.0<br><br>Survey Responses: 6",
          "NJ<br><br>Stock in Days: <br>N95: 10.79<br>Face Shields: 5.73<br>Booties: 8.75<br>Gloves: 9.33<br>Gowns: 7.64<br>Sanitizers: 10.5<br>Wipes: 8.0<br>Thermometers: 4.67<br><br>Survey Responses: 14",
          "NM<br><br>Stock in Days: <br>N95: 7.0<br>Face Shields: 3.0<br>Booties: 3.5<br>Gloves: 7.0<br>Gowns: 7.0<br>Sanitizers: 7.0<br>Wipes: 7.0<br>Thermometers: 7.0<br><br>Survey Responses: 2",
          "NV<br><br>Stock in Days: <br>N95: 10.5<br>Face Shields: 28.0<br>Booties: 7.0<br>Gloves: 17.5<br>Gowns: 10.5<br>Sanitizers: 10.5<br>Wipes: 21.0<br>Thermometers: 14.0<br><br>Survey Responses: 2",
          "NY<br><br>Stock in Days: <br>N95: 8.77<br>Face Shields: 6.07<br>Booties: 5.19<br>Gloves: 9.94<br>Gowns: 7.23<br>Sanitizers: 8.05<br>Wipes: 6.8<br>Thermometers: 9.33<br><br>Survey Responses: 31",
          "OH<br><br>Stock in Days: <br>N95: 6.12<br>Face Shields: 3.75<br>Booties: 0.0<br>Gloves: 8.75<br>Gowns: 8.12<br>Sanitizers: 5.89<br>Wipes: 7.75<br>Thermometers: 1.0<br><br>Survey Responses: 8",
          "OK<br><br>Stock in Days: <br>N95: 6.67<br>Face Shields: 6.12<br>Booties: 5.25<br>Gloves: 8.75<br>Gowns: 8.0<br>Sanitizers: 6.62<br>Wipes: 6.17<br>Thermometers: 7.0<br><br>Survey Responses: 9",
          "OR<br><br>Stock in Days: <br>N95: 1.0<br>Face Shields: 1.0<br>Booties: 8.0<br>Gloves: 14.67<br>Gowns: 6.4<br>Sanitizers: 11.17<br>Wipes: 4.5<br>Thermometers: 0.67<br><br>Survey Responses: 4",
          "PA<br><br>Stock in Days: <br>N95: 11.81<br>Face Shields: 11.62<br>Booties: 8.5<br>Gloves: 18.38<br>Gowns: 9.64<br>Sanitizers: 11.63<br>Wipes: 8.89<br>Thermometers: 8.92<br><br>Survey Responses: 16",
          "PR<br><br>Stock in Days: <br>N95: 7.0<br>Face Shields: 7.0<br>Booties: 7.0<br>Gloves: 7.0<br>Gowns: 7.0<br>Sanitizers: nan<br>Wipes: 7.0<br>Thermometers: nan<br><br>Survey Responses: 1",
          "RI<br><br>Stock in Days: <br>N95: 14.0<br>Face Shields: 8.0<br>Booties: nan<br>Gloves: 10.5<br>Gowns: 10.5<br>Sanitizers: 17.5<br>Wipes: 17.5<br>Thermometers: 17.5<br><br>Survey Responses: 1",
          "SC<br><br>Stock in Days: <br>N95: 8.75<br>Face Shields: 12.75<br>Booties: 7.0<br>Gloves: 17.5<br>Gowns: 12.75<br>Sanitizers: 17.5<br>Wipes: 12.25<br>Thermometers: 11.67<br><br>Survey Responses: 4",
          "TN<br><br>Stock in Days: <br>N95: 4.6<br>Face Shields: 4.67<br>Booties: 3.5<br>Gloves: 7.44<br>Gowns: 5.11<br>Sanitizers: 6.57<br>Wipes: 4.89<br>Thermometers: 5.33<br><br>Survey Responses: 10",
          "TX<br><br>Stock in Days: <br>N95: 7.2<br>Face Shields: 7.0<br>Booties: 6.33<br>Gloves: 10.14<br>Gowns: 5.72<br>Sanitizers: 6.28<br>Wipes: 6.04<br>Thermometers: 12.18<br><br>Survey Responses: 30",
          "UT<br><br>Stock in Days: <br>N95: 2.0<br>Face Shields: 0.0<br>Booties: nan<br>Gloves: 7.0<br>Gowns: 7.0<br>Sanitizers: 0.0<br>Wipes: 0.0<br>Thermometers: 2.0<br><br>Survey Responses: 1",
          "VA<br><br>Stock in Days: <br>N95: 10.61<br>Face Shields: 8.75<br>Booties: 9.33<br>Gloves: 12.5<br>Gowns: 7.75<br>Sanitizers: 13.53<br>Wipes: 9.47<br>Thermometers: 5.25<br><br>Survey Responses: 18",
          "WA<br><br>Stock in Days: <br>N95: 8.5<br>Face Shields: 4.62<br>Booties: 4.67<br>Gloves: 12.33<br>Gowns: 7.88<br>Sanitizers: 8.83<br>Wipes: 6.17<br>Thermometers: 2.8<br><br>Survey Responses: 6",
          "WI<br><br>Stock in Days: <br>N95: 9.33<br>Face Shields: 8.4<br>Booties: 10.5<br>Gloves: 12.25<br>Gowns: 7.33<br>Sanitizers: 12.83<br>Wipes: 8.8<br>Thermometers: 5.25<br><br>Survey Responses: 6",
          "WV<br><br>Stock in Days: <br>N95: 16.33<br>Face Shields: 14.0<br>Booties: 14.0<br>Gloves: 17.5<br>Gowns: 17.5<br>Sanitizers: 15.75<br>Wipes: 16.33<br>Thermometers: 8.0<br><br>Survey Responses: 3"
         ],
         "type": "choropleth",
         "z": [
          "0.5",
          "9.33",
          "9.33",
          "8.1",
          "5.1",
          "5.29",
          "7.0",
          "6.28",
          "4.75",
          "7.0",
          "14.0",
          "0.0",
          "8.62",
          "7.57",
          "7.0",
          "0.0",
          "7.33",
          "6.13",
          "9.8",
          "7.0",
          "5.6",
          "6.17",
          "4.67",
          "4.67",
          "3.0",
          "nan",
          "nan",
          "10.5",
          "5.73",
          "3.0",
          "28.0",
          "6.07",
          "3.75",
          "6.12",
          "1.0",
          "11.62",
          "7.0",
          "8.0",
          "12.75",
          "4.67",
          "7.0",
          "0.0",
          "8.75",
          "4.62",
          "8.4",
          "14.0"
         ],
         "zmax": 14,
         "zmin": 0
        }
       ],
       "layout": {
        "geo": {
         "lakecolor": "rgb(255, 255, 255)",
         "projection": {
          "type": "albers usa"
         },
         "scope": "usa",
         "showlakes": true
        },
        "template": {
         "data": {
          "bar": [
           {
            "error_x": {
             "color": "#2a3f5f"
            },
            "error_y": {
             "color": "#2a3f5f"
            },
            "marker": {
             "line": {
              "color": "#E5ECF6",
              "width": 0.5
             }
            },
            "type": "bar"
           }
          ],
          "barpolar": [
           {
            "marker": {
             "line": {
              "color": "#E5ECF6",
              "width": 0.5
             }
            },
            "type": "barpolar"
           }
          ],
          "carpet": [
           {
            "aaxis": {
             "endlinecolor": "#2a3f5f",
             "gridcolor": "white",
             "linecolor": "white",
             "minorgridcolor": "white",
             "startlinecolor": "#2a3f5f"
            },
            "baxis": {
             "endlinecolor": "#2a3f5f",
             "gridcolor": "white",
             "linecolor": "white",
             "minorgridcolor": "white",
             "startlinecolor": "#2a3f5f"
            },
            "type": "carpet"
           }
          ],
          "choropleth": [
           {
            "colorbar": {
             "outlinewidth": 0,
             "ticks": ""
            },
            "type": "choropleth"
           }
          ],
          "contour": [
           {
            "colorbar": {
             "outlinewidth": 0,
             "ticks": ""
            },
            "colorscale": [
             [
              0,
              "#0d0887"
             ],
             [
              0.1111111111111111,
              "#46039f"
             ],
             [
              0.2222222222222222,
              "#7201a8"
             ],
             [
              0.3333333333333333,
              "#9c179e"
             ],
             [
              0.4444444444444444,
              "#bd3786"
             ],
             [
              0.5555555555555556,
              "#d8576b"
             ],
             [
              0.6666666666666666,
              "#ed7953"
             ],
             [
              0.7777777777777778,
              "#fb9f3a"
             ],
             [
              0.8888888888888888,
              "#fdca26"
             ],
             [
              1,
              "#f0f921"
             ]
            ],
            "type": "contour"
           }
          ],
          "contourcarpet": [
           {
            "colorbar": {
             "outlinewidth": 0,
             "ticks": ""
            },
            "type": "contourcarpet"
           }
          ],
          "heatmap": [
           {
            "colorbar": {
             "outlinewidth": 0,
             "ticks": ""
            },
            "colorscale": [
             [
              0,
              "#0d0887"
             ],
             [
              0.1111111111111111,
              "#46039f"
             ],
             [
              0.2222222222222222,
              "#7201a8"
             ],
             [
              0.3333333333333333,
              "#9c179e"
             ],
             [
              0.4444444444444444,
              "#bd3786"
             ],
             [
              0.5555555555555556,
              "#d8576b"
             ],
             [
              0.6666666666666666,
              "#ed7953"
             ],
             [
              0.7777777777777778,
              "#fb9f3a"
             ],
             [
              0.8888888888888888,
              "#fdca26"
             ],
             [
              1,
              "#f0f921"
             ]
            ],
            "type": "heatmap"
           }
          ],
          "heatmapgl": [
           {
            "colorbar": {
             "outlinewidth": 0,
             "ticks": ""
            },
            "colorscale": [
             [
              0,
              "#0d0887"
             ],
             [
              0.1111111111111111,
              "#46039f"
             ],
             [
              0.2222222222222222,
              "#7201a8"
             ],
             [
              0.3333333333333333,
              "#9c179e"
             ],
             [
              0.4444444444444444,
              "#bd3786"
             ],
             [
              0.5555555555555556,
              "#d8576b"
             ],
             [
              0.6666666666666666,
              "#ed7953"
             ],
             [
              0.7777777777777778,
              "#fb9f3a"
             ],
             [
              0.8888888888888888,
              "#fdca26"
             ],
             [
              1,
              "#f0f921"
             ]
            ],
            "type": "heatmapgl"
           }
          ],
          "histogram": [
           {
            "marker": {
             "colorbar": {
              "outlinewidth": 0,
              "ticks": ""
             }
            },
            "type": "histogram"
           }
          ],
          "histogram2d": [
           {
            "colorbar": {
             "outlinewidth": 0,
             "ticks": ""
            },
            "colorscale": [
             [
              0,
              "#0d0887"
             ],
             [
              0.1111111111111111,
              "#46039f"
             ],
             [
              0.2222222222222222,
              "#7201a8"
             ],
             [
              0.3333333333333333,
              "#9c179e"
             ],
             [
              0.4444444444444444,
              "#bd3786"
             ],
             [
              0.5555555555555556,
              "#d8576b"
             ],
             [
              0.6666666666666666,
              "#ed7953"
             ],
             [
              0.7777777777777778,
              "#fb9f3a"
             ],
             [
              0.8888888888888888,
              "#fdca26"
             ],
             [
              1,
              "#f0f921"
             ]
            ],
            "type": "histogram2d"
           }
          ],
          "histogram2dcontour": [
           {
            "colorbar": {
             "outlinewidth": 0,
             "ticks": ""
            },
            "colorscale": [
             [
              0,
              "#0d0887"
             ],
             [
              0.1111111111111111,
              "#46039f"
             ],
             [
              0.2222222222222222,
              "#7201a8"
             ],
             [
              0.3333333333333333,
              "#9c179e"
             ],
             [
              0.4444444444444444,
              "#bd3786"
             ],
             [
              0.5555555555555556,
              "#d8576b"
             ],
             [
              0.6666666666666666,
              "#ed7953"
             ],
             [
              0.7777777777777778,
              "#fb9f3a"
             ],
             [
              0.8888888888888888,
              "#fdca26"
             ],
             [
              1,
              "#f0f921"
             ]
            ],
            "type": "histogram2dcontour"
           }
          ],
          "mesh3d": [
           {
            "colorbar": {
             "outlinewidth": 0,
             "ticks": ""
            },
            "type": "mesh3d"
           }
          ],
          "parcoords": [
           {
            "line": {
             "colorbar": {
              "outlinewidth": 0,
              "ticks": ""
             }
            },
            "type": "parcoords"
           }
          ],
          "pie": [
           {
            "automargin": true,
            "type": "pie"
           }
          ],
          "scatter": [
           {
            "marker": {
             "colorbar": {
              "outlinewidth": 0,
              "ticks": ""
             }
            },
            "type": "scatter"
           }
          ],
          "scatter3d": [
           {
            "line": {
             "colorbar": {
              "outlinewidth": 0,
              "ticks": ""
             }
            },
            "marker": {
             "colorbar": {
              "outlinewidth": 0,
              "ticks": ""
             }
            },
            "type": "scatter3d"
           }
          ],
          "scattercarpet": [
           {
            "marker": {
             "colorbar": {
              "outlinewidth": 0,
              "ticks": ""
             }
            },
            "type": "scattercarpet"
           }
          ],
          "scattergeo": [
           {
            "marker": {
             "colorbar": {
              "outlinewidth": 0,
              "ticks": ""
             }
            },
            "type": "scattergeo"
           }
          ],
          "scattergl": [
           {
            "marker": {
             "colorbar": {
              "outlinewidth": 0,
              "ticks": ""
             }
            },
            "type": "scattergl"
           }
          ],
          "scattermapbox": [
           {
            "marker": {
             "colorbar": {
              "outlinewidth": 0,
              "ticks": ""
             }
            },
            "type": "scattermapbox"
           }
          ],
          "scatterpolar": [
           {
            "marker": {
             "colorbar": {
              "outlinewidth": 0,
              "ticks": ""
             }
            },
            "type": "scatterpolar"
           }
          ],
          "scatterpolargl": [
           {
            "marker": {
             "colorbar": {
              "outlinewidth": 0,
              "ticks": ""
             }
            },
            "type": "scatterpolargl"
           }
          ],
          "scatterternary": [
           {
            "marker": {
             "colorbar": {
              "outlinewidth": 0,
              "ticks": ""
             }
            },
            "type": "scatterternary"
           }
          ],
          "surface": [
           {
            "colorbar": {
             "outlinewidth": 0,
             "ticks": ""
            },
            "colorscale": [
             [
              0,
              "#0d0887"
             ],
             [
              0.1111111111111111,
              "#46039f"
             ],
             [
              0.2222222222222222,
              "#7201a8"
             ],
             [
              0.3333333333333333,
              "#9c179e"
             ],
             [
              0.4444444444444444,
              "#bd3786"
             ],
             [
              0.5555555555555556,
              "#d8576b"
             ],
             [
              0.6666666666666666,
              "#ed7953"
             ],
             [
              0.7777777777777778,
              "#fb9f3a"
             ],
             [
              0.8888888888888888,
              "#fdca26"
             ],
             [
              1,
              "#f0f921"
             ]
            ],
            "type": "surface"
           }
          ],
          "table": [
           {
            "cells": {
             "fill": {
              "color": "#EBF0F8"
             },
             "line": {
              "color": "white"
             }
            },
            "header": {
             "fill": {
              "color": "#C8D4E3"
             },
             "line": {
              "color": "white"
             }
            },
            "type": "table"
           }
          ]
         },
         "layout": {
          "annotationdefaults": {
           "arrowcolor": "#2a3f5f",
           "arrowhead": 0,
           "arrowwidth": 1
          },
          "coloraxis": {
           "colorbar": {
            "outlinewidth": 0,
            "ticks": ""
           }
          },
          "colorscale": {
           "diverging": [
            [
             0,
             "#8e0152"
            ],
            [
             0.1,
             "#c51b7d"
            ],
            [
             0.2,
             "#de77ae"
            ],
            [
             0.3,
             "#f1b6da"
            ],
            [
             0.4,
             "#fde0ef"
            ],
            [
             0.5,
             "#f7f7f7"
            ],
            [
             0.6,
             "#e6f5d0"
            ],
            [
             0.7,
             "#b8e186"
            ],
            [
             0.8,
             "#7fbc41"
            ],
            [
             0.9,
             "#4d9221"
            ],
            [
             1,
             "#276419"
            ]
           ],
           "sequential": [
            [
             0,
             "#0d0887"
            ],
            [
             0.1111111111111111,
             "#46039f"
            ],
            [
             0.2222222222222222,
             "#7201a8"
            ],
            [
             0.3333333333333333,
             "#9c179e"
            ],
            [
             0.4444444444444444,
             "#bd3786"
            ],
            [
             0.5555555555555556,
             "#d8576b"
            ],
            [
             0.6666666666666666,
             "#ed7953"
            ],
            [
             0.7777777777777778,
             "#fb9f3a"
            ],
            [
             0.8888888888888888,
             "#fdca26"
            ],
            [
             1,
             "#f0f921"
            ]
           ],
           "sequentialminus": [
            [
             0,
             "#0d0887"
            ],
            [
             0.1111111111111111,
             "#46039f"
            ],
            [
             0.2222222222222222,
             "#7201a8"
            ],
            [
             0.3333333333333333,
             "#9c179e"
            ],
            [
             0.4444444444444444,
             "#bd3786"
            ],
            [
             0.5555555555555556,
             "#d8576b"
            ],
            [
             0.6666666666666666,
             "#ed7953"
            ],
            [
             0.7777777777777778,
             "#fb9f3a"
            ],
            [
             0.8888888888888888,
             "#fdca26"
            ],
            [
             1,
             "#f0f921"
            ]
           ]
          },
          "colorway": [
           "#636efa",
           "#EF553B",
           "#00cc96",
           "#ab63fa",
           "#FFA15A",
           "#19d3f3",
           "#FF6692",
           "#B6E880",
           "#FF97FF",
           "#FECB52"
          ],
          "font": {
           "color": "#2a3f5f"
          },
          "geo": {
           "bgcolor": "white",
           "lakecolor": "white",
           "landcolor": "#E5ECF6",
           "showlakes": true,
           "showland": true,
           "subunitcolor": "white"
          },
          "hoverlabel": {
           "align": "left"
          },
          "hovermode": "closest",
          "mapbox": {
           "style": "light"
          },
          "paper_bgcolor": "white",
          "plot_bgcolor": "#E5ECF6",
          "polar": {
           "angularaxis": {
            "gridcolor": "white",
            "linecolor": "white",
            "ticks": ""
           },
           "bgcolor": "#E5ECF6",
           "radialaxis": {
            "gridcolor": "white",
            "linecolor": "white",
            "ticks": ""
           }
          },
          "scene": {
           "xaxis": {
            "backgroundcolor": "#E5ECF6",
            "gridcolor": "white",
            "gridwidth": 2,
            "linecolor": "white",
            "showbackground": true,
            "ticks": "",
            "zerolinecolor": "white"
           },
           "yaxis": {
            "backgroundcolor": "#E5ECF6",
            "gridcolor": "white",
            "gridwidth": 2,
            "linecolor": "white",
            "showbackground": true,
            "ticks": "",
            "zerolinecolor": "white"
           },
           "zaxis": {
            "backgroundcolor": "#E5ECF6",
            "gridcolor": "white",
            "gridwidth": 2,
            "linecolor": "white",
            "showbackground": true,
            "ticks": "",
            "zerolinecolor": "white"
           }
          },
          "shapedefaults": {
           "line": {
            "color": "#2a3f5f"
           }
          },
          "ternary": {
           "aaxis": {
            "gridcolor": "white",
            "linecolor": "white",
            "ticks": ""
           },
           "baxis": {
            "gridcolor": "white",
            "linecolor": "white",
            "ticks": ""
           },
           "bgcolor": "#E5ECF6",
           "caxis": {
            "gridcolor": "white",
            "linecolor": "white",
            "ticks": ""
           }
          },
          "title": {
           "x": 0.05
          },
          "xaxis": {
           "automargin": true,
           "gridcolor": "white",
           "linecolor": "white",
           "ticks": "",
           "title": {
            "standoff": 15
           },
           "zerolinecolor": "white",
           "zerolinewidth": 2
          },
          "yaxis": {
           "automargin": true,
           "gridcolor": "white",
           "linecolor": "white",
           "ticks": "",
           "title": {
            "standoff": 15
           },
           "zerolinecolor": "white",
           "zerolinewidth": 2
          }
         }
        },
        "title": {
         "text": "Supply of PPE (Face Shields) in Days - Organizations Reaching out to GetUsPPE.org"
        }
       }
      },
      "text/html": [
       "<div>\n",
       "        \n",
       "        \n",
       "            <div id=\"e93e12f8-ce0f-4414-8d01-38dbfc0d8061\" class=\"plotly-graph-div\" style=\"height:525px; width:100%;\"></div>\n",
       "            <script type=\"text/javascript\">\n",
       "                require([\"plotly\"], function(Plotly) {\n",
       "                    window.PLOTLYENV=window.PLOTLYENV || {};\n",
       "                    \n",
       "                if (document.getElementById(\"e93e12f8-ce0f-4414-8d01-38dbfc0d8061\")) {\n",
       "                    Plotly.newPlot(\n",
       "                        'e93e12f8-ce0f-4414-8d01-38dbfc0d8061',\n",
       "                        [{\"autocolorscale\": false, \"colorbar\": {\"title\": {\"text\": \"Face Shield Supply (days)\"}}, \"colorscale\": [[0.0, \"#bc2026\"], [0.2, \"#ef4723\"], [0.4, \"#f68e1e\"], [0.6, \"#fecc0a\"], [0.8, \"#7dbb42\"], [1.0, \"#0e9246\"]], \"hoverinfo\": \"text\", \"locationmode\": \"USA-states\", \"locations\": [\"AL\", \"AR\", \"AZ\", \"CA\", \"CO\", \"CT\", \"DC\", \"FL\", \"GA\", \"HI\", \"IA\", \"ID\", \"IL\", \"IN\", \"KS\", \"KY\", \"LA\", \"MA\", \"MD\", \"ME\", \"MI\", \"MN\", \"MO\", \"MS\", \"NC\", \"ND\", \"NE\", \"NH\", \"NJ\", \"NM\", \"NV\", \"NY\", \"OH\", \"OK\", \"OR\", \"PA\", \"PR\", \"RI\", \"SC\", \"TN\", \"TX\", \"UT\", \"VA\", \"WA\", \"WI\", \"WV\"], \"marker\": {\"line\": {\"color\": \"black\", \"width\": 0.5}, \"opacity\": 0.8}, \"text\": [\"AL<br><br>Stock in Days: <br>N95: 6.0<br>Face Shields: 0.5<br>Booties: 2.33<br>Gloves: 21.0<br>Gowns: 2.8<br>Sanitizers: 14.0<br>Wipes: 8.75<br>Thermometers: 0.0<br><br>Survey Responses: 5\", \"AR<br><br>Stock in Days: <br>N95: 11.67<br>Face Shields: 9.33<br>Booties: 11.67<br>Gloves: 17.5<br>Gowns: 7.0<br>Sanitizers: 10.0<br>Wipes: 10.5<br>Thermometers: 14.0<br><br>Survey Responses: 3\", \"AZ<br><br>Stock in Days: <br>N95: 9.8<br>Face Shields: 9.33<br>Booties: 16.33<br>Gloves: 14.0<br>Gowns: 13.29<br>Sanitizers: 10.11<br>Wipes: 8.78<br>Thermometers: 9.33<br><br>Survey Responses: 10\", \"CA<br><br>Stock in Days: <br>N95: 11.6<br>Face Shields: 8.1<br>Booties: 5.8<br>Gloves: 12.71<br>Gowns: 9.26<br>Sanitizers: 10.91<br>Wipes: 7.61<br>Thermometers: 8.14<br><br>Survey Responses: 80\", \"CO<br><br>Stock in Days: <br>N95: 9.1<br>Face Shields: 5.1<br>Booties: 7.0<br>Gloves: 19.25<br>Gowns: 10.12<br>Sanitizers: 7.5<br>Wipes: 7.0<br>Thermometers: 12.0<br><br>Survey Responses: 10\", \"CT<br><br>Stock in Days: <br>N95: 7.25<br>Face Shields: 5.29<br>Booties: 3.0<br>Gloves: 16.33<br>Gowns: 5.6<br>Sanitizers: 9.0<br>Wipes: 8.29<br>Thermometers: 5.25<br><br>Survey Responses: 8\", \"DC<br><br>Stock in Days: <br>N95: 14.0<br>Face Shields: 7.0<br>Booties: 14.0<br>Gloves: 17.5<br>Gowns: 8.4<br>Sanitizers: 14.67<br>Wipes: 14.0<br>Thermometers: 28.0<br><br>Survey Responses: 4\", \"FL<br><br>Stock in Days: <br>N95: 8.69<br>Face Shields: 6.28<br>Booties: 5.25<br>Gloves: 10.76<br>Gowns: 7.13<br>Sanitizers: 7.25<br>Wipes: 6.31<br>Thermometers: 5.06<br><br>Survey Responses: 42\", \"GA<br><br>Stock in Days: <br>N95: 5.89<br>Face Shields: 4.75<br>Booties: 5.8<br>Gloves: 11.0<br>Gowns: 6.25<br>Sanitizers: 6.6<br>Wipes: 5.91<br>Thermometers: 7.12<br><br>Survey Responses: 18\", \"HI<br><br>Stock in Days: <br>N95: 7.0<br>Face Shields: 7.0<br>Booties: 3.5<br>Gloves: 7.0<br>Gowns: 3.5<br>Sanitizers: 0.0<br>Wipes: 7.0<br>Thermometers: nan<br><br>Survey Responses: 2\", \"IA<br><br>Stock in Days: <br>N95: 7.0<br>Face Shields: 14.0<br>Booties: 7.0<br>Gloves: 10.5<br>Gowns: 10.5<br>Sanitizers: 8.75<br>Wipes: 10.0<br>Thermometers: 7.0<br><br>Survey Responses: 2\", \"ID<br><br>Stock in Days: <br>N95: 0.0<br>Face Shields: 0.0<br>Booties: nan<br>Gloves: 7.0<br>Gowns: 0.0<br>Sanitizers: 7.0<br>Wipes: 0.0<br>Thermometers: 2.0<br><br>Survey Responses: 1\", \"IL<br><br>Stock in Days: <br>N95: 9.18<br>Face Shields: 8.62<br>Booties: 5.6<br>Gloves: 12.0<br>Gowns: 10.53<br>Sanitizers: 8.22<br>Wipes: 9.13<br>Thermometers: 3.89<br><br>Survey Responses: 17\", \"IN<br><br>Stock in Days: <br>N95: 7.0<br>Face Shields: 7.57<br>Booties: 3.57<br>Gloves: 12.29<br>Gowns: 7.57<br>Sanitizers: 6.5<br>Wipes: 3.83<br>Thermometers: 3.57<br><br>Survey Responses: 8\", \"KS<br><br>Stock in Days: <br>N95: 15.0<br>Face Shields: 7.0<br>Booties: 2.0<br>Gloves: 14.0<br>Gowns: 10.5<br>Sanitizers: 0.0<br>Wipes: 7.0<br>Thermometers: 7.0<br><br>Survey Responses: 2\", \"KY<br><br>Stock in Days: <br>N95: 10.0<br>Face Shields: 0.0<br>Booties: 7.0<br>Gloves: 7.0<br>Gowns: 7.67<br>Sanitizers: 3.5<br>Wipes: 4.5<br>Thermometers: 0.0<br><br>Survey Responses: 3\", \"LA<br><br>Stock in Days: <br>N95: 11.0<br>Face Shields: 7.33<br>Booties: 9.33<br>Gloves: 7.0<br>Gowns: 11.2<br>Sanitizers: 7.4<br>Wipes: 7.0<br>Thermometers: 7.0<br><br>Survey Responses: 7\", \"MA<br><br>Stock in Days: <br>N95: 5.97<br>Face Shields: 6.13<br>Booties: 6.12<br>Gloves: 11.35<br>Gowns: 5.83<br>Sanitizers: 6.57<br>Wipes: 7.12<br>Thermometers: 9.05<br><br>Survey Responses: 33\", \"MD<br><br>Stock in Days: <br>N95: 11.38<br>Face Shields: 9.8<br>Booties: 7.33<br>Gloves: 15.4<br>Gowns: 8.8<br>Sanitizers: 11.62<br>Wipes: 10.0<br>Thermometers: 18.67<br><br>Survey Responses: 8\", \"ME<br><br>Stock in Days: <br>N95: 10.5<br>Face Shields: 7.0<br>Booties: 7.0<br>Gloves: 10.5<br>Gowns: 5.33<br>Sanitizers: 0.0<br>Wipes: 7.0<br>Thermometers: nan<br><br>Survey Responses: 2\", \"MI<br><br>Stock in Days: <br>N95: 8.0<br>Face Shields: 5.6<br>Booties: 14.0<br>Gloves: 15.75<br>Gowns: 15.17<br>Sanitizers: 16.8<br>Wipes: 21.0<br>Thermometers: 14.0<br><br>Survey Responses: 7\", \"MN<br><br>Stock in Days: <br>N95: 8.0<br>Face Shields: 6.17<br>Booties: 14.0<br>Gloves: 19.0<br>Gowns: 10.9<br>Sanitizers: 11.6<br>Wipes: 13.38<br>Thermometers: 15.8<br><br>Survey Responses: 9\", \"MO<br><br>Stock in Days: <br>N95: 4.67<br>Face Shields: 4.67<br>Booties: nan<br>Gloves: 7.5<br>Gowns: 8.75<br>Sanitizers: 10.2<br>Wipes: 7.0<br>Thermometers: 14.0<br><br>Survey Responses: 3\", \"MS<br><br>Stock in Days: <br>N95: 7.67<br>Face Shields: 4.67<br>Booties: 7.0<br>Gloves: 17.5<br>Gowns: 7.67<br>Sanitizers: 12.33<br>Wipes: 10.5<br>Thermometers: 10.5<br><br>Survey Responses: 3\", \"NC<br><br>Stock in Days: <br>N95: 8.56<br>Face Shields: 3.0<br>Booties: 0.0<br>Gloves: 16.8<br>Gowns: 8.5<br>Sanitizers: 12.6<br>Wipes: 8.8<br>Thermometers: 15.0<br><br>Survey Responses: 9\", \"ND<br><br>Stock in Days: <br>N95: 0.0<br>Face Shields: nan<br>Booties: nan<br>Gloves: 7.0<br>Gowns: nan<br>Sanitizers: 7.0<br>Wipes: 2.0<br>Thermometers: 0.0<br><br>Survey Responses: 1\", \"NE<br><br>Stock in Days: <br>N95: 7.0<br>Face Shields: nan<br>Booties: nan<br>Gloves: nan<br>Gowns: 0.0<br>Sanitizers: nan<br>Wipes: nan<br>Thermometers: nan<br><br>Survey Responses: 1\", \"NH<br><br>Stock in Days: <br>N95: 18.67<br>Face Shields: 10.5<br>Booties: nan<br>Gloves: 14.0<br>Gowns: 9.33<br>Sanitizers: 13.17<br>Wipes: 14.5<br>Thermometers: 21.0<br><br>Survey Responses: 6\", \"NJ<br><br>Stock in Days: <br>N95: 10.79<br>Face Shields: 5.73<br>Booties: 8.75<br>Gloves: 9.33<br>Gowns: 7.64<br>Sanitizers: 10.5<br>Wipes: 8.0<br>Thermometers: 4.67<br><br>Survey Responses: 14\", \"NM<br><br>Stock in Days: <br>N95: 7.0<br>Face Shields: 3.0<br>Booties: 3.5<br>Gloves: 7.0<br>Gowns: 7.0<br>Sanitizers: 7.0<br>Wipes: 7.0<br>Thermometers: 7.0<br><br>Survey Responses: 2\", \"NV<br><br>Stock in Days: <br>N95: 10.5<br>Face Shields: 28.0<br>Booties: 7.0<br>Gloves: 17.5<br>Gowns: 10.5<br>Sanitizers: 10.5<br>Wipes: 21.0<br>Thermometers: 14.0<br><br>Survey Responses: 2\", \"NY<br><br>Stock in Days: <br>N95: 8.77<br>Face Shields: 6.07<br>Booties: 5.19<br>Gloves: 9.94<br>Gowns: 7.23<br>Sanitizers: 8.05<br>Wipes: 6.8<br>Thermometers: 9.33<br><br>Survey Responses: 31\", \"OH<br><br>Stock in Days: <br>N95: 6.12<br>Face Shields: 3.75<br>Booties: 0.0<br>Gloves: 8.75<br>Gowns: 8.12<br>Sanitizers: 5.89<br>Wipes: 7.75<br>Thermometers: 1.0<br><br>Survey Responses: 8\", \"OK<br><br>Stock in Days: <br>N95: 6.67<br>Face Shields: 6.12<br>Booties: 5.25<br>Gloves: 8.75<br>Gowns: 8.0<br>Sanitizers: 6.62<br>Wipes: 6.17<br>Thermometers: 7.0<br><br>Survey Responses: 9\", \"OR<br><br>Stock in Days: <br>N95: 1.0<br>Face Shields: 1.0<br>Booties: 8.0<br>Gloves: 14.67<br>Gowns: 6.4<br>Sanitizers: 11.17<br>Wipes: 4.5<br>Thermometers: 0.67<br><br>Survey Responses: 4\", \"PA<br><br>Stock in Days: <br>N95: 11.81<br>Face Shields: 11.62<br>Booties: 8.5<br>Gloves: 18.38<br>Gowns: 9.64<br>Sanitizers: 11.63<br>Wipes: 8.89<br>Thermometers: 8.92<br><br>Survey Responses: 16\", \"PR<br><br>Stock in Days: <br>N95: 7.0<br>Face Shields: 7.0<br>Booties: 7.0<br>Gloves: 7.0<br>Gowns: 7.0<br>Sanitizers: nan<br>Wipes: 7.0<br>Thermometers: nan<br><br>Survey Responses: 1\", \"RI<br><br>Stock in Days: <br>N95: 14.0<br>Face Shields: 8.0<br>Booties: nan<br>Gloves: 10.5<br>Gowns: 10.5<br>Sanitizers: 17.5<br>Wipes: 17.5<br>Thermometers: 17.5<br><br>Survey Responses: 1\", \"SC<br><br>Stock in Days: <br>N95: 8.75<br>Face Shields: 12.75<br>Booties: 7.0<br>Gloves: 17.5<br>Gowns: 12.75<br>Sanitizers: 17.5<br>Wipes: 12.25<br>Thermometers: 11.67<br><br>Survey Responses: 4\", \"TN<br><br>Stock in Days: <br>N95: 4.6<br>Face Shields: 4.67<br>Booties: 3.5<br>Gloves: 7.44<br>Gowns: 5.11<br>Sanitizers: 6.57<br>Wipes: 4.89<br>Thermometers: 5.33<br><br>Survey Responses: 10\", \"TX<br><br>Stock in Days: <br>N95: 7.2<br>Face Shields: 7.0<br>Booties: 6.33<br>Gloves: 10.14<br>Gowns: 5.72<br>Sanitizers: 6.28<br>Wipes: 6.04<br>Thermometers: 12.18<br><br>Survey Responses: 30\", \"UT<br><br>Stock in Days: <br>N95: 2.0<br>Face Shields: 0.0<br>Booties: nan<br>Gloves: 7.0<br>Gowns: 7.0<br>Sanitizers: 0.0<br>Wipes: 0.0<br>Thermometers: 2.0<br><br>Survey Responses: 1\", \"VA<br><br>Stock in Days: <br>N95: 10.61<br>Face Shields: 8.75<br>Booties: 9.33<br>Gloves: 12.5<br>Gowns: 7.75<br>Sanitizers: 13.53<br>Wipes: 9.47<br>Thermometers: 5.25<br><br>Survey Responses: 18\", \"WA<br><br>Stock in Days: <br>N95: 8.5<br>Face Shields: 4.62<br>Booties: 4.67<br>Gloves: 12.33<br>Gowns: 7.88<br>Sanitizers: 8.83<br>Wipes: 6.17<br>Thermometers: 2.8<br><br>Survey Responses: 6\", \"WI<br><br>Stock in Days: <br>N95: 9.33<br>Face Shields: 8.4<br>Booties: 10.5<br>Gloves: 12.25<br>Gowns: 7.33<br>Sanitizers: 12.83<br>Wipes: 8.8<br>Thermometers: 5.25<br><br>Survey Responses: 6\", \"WV<br><br>Stock in Days: <br>N95: 16.33<br>Face Shields: 14.0<br>Booties: 14.0<br>Gloves: 17.5<br>Gowns: 17.5<br>Sanitizers: 15.75<br>Wipes: 16.33<br>Thermometers: 8.0<br><br>Survey Responses: 3\"], \"type\": \"choropleth\", \"z\": [\"0.5\", \"9.33\", \"9.33\", \"8.1\", \"5.1\", \"5.29\", \"7.0\", \"6.28\", \"4.75\", \"7.0\", \"14.0\", \"0.0\", \"8.62\", \"7.57\", \"7.0\", \"0.0\", \"7.33\", \"6.13\", \"9.8\", \"7.0\", \"5.6\", \"6.17\", \"4.67\", \"4.67\", \"3.0\", \"nan\", \"nan\", \"10.5\", \"5.73\", \"3.0\", \"28.0\", \"6.07\", \"3.75\", \"6.12\", \"1.0\", \"11.62\", \"7.0\", \"8.0\", \"12.75\", \"4.67\", \"7.0\", \"0.0\", \"8.75\", \"4.62\", \"8.4\", \"14.0\"], \"zmax\": 14, \"zmin\": 0}],\n",
       "                        {\"geo\": {\"lakecolor\": \"rgb(255, 255, 255)\", \"projection\": {\"type\": \"albers usa\"}, \"scope\": \"usa\", \"showlakes\": true}, \"template\": {\"data\": {\"bar\": [{\"error_x\": {\"color\": \"#2a3f5f\"}, \"error_y\": {\"color\": \"#2a3f5f\"}, \"marker\": {\"line\": {\"color\": \"#E5ECF6\", \"width\": 0.5}}, \"type\": \"bar\"}], \"barpolar\": [{\"marker\": {\"line\": {\"color\": \"#E5ECF6\", \"width\": 0.5}}, \"type\": \"barpolar\"}], \"carpet\": [{\"aaxis\": {\"endlinecolor\": \"#2a3f5f\", \"gridcolor\": \"white\", \"linecolor\": \"white\", \"minorgridcolor\": \"white\", \"startlinecolor\": \"#2a3f5f\"}, \"baxis\": {\"endlinecolor\": \"#2a3f5f\", \"gridcolor\": \"white\", \"linecolor\": \"white\", \"minorgridcolor\": \"white\", \"startlinecolor\": \"#2a3f5f\"}, \"type\": \"carpet\"}], \"choropleth\": [{\"colorbar\": {\"outlinewidth\": 0, \"ticks\": \"\"}, \"type\": \"choropleth\"}], \"contour\": [{\"colorbar\": {\"outlinewidth\": 0, \"ticks\": \"\"}, \"colorscale\": [[0.0, \"#0d0887\"], [0.1111111111111111, \"#46039f\"], [0.2222222222222222, \"#7201a8\"], [0.3333333333333333, \"#9c179e\"], [0.4444444444444444, \"#bd3786\"], [0.5555555555555556, \"#d8576b\"], [0.6666666666666666, \"#ed7953\"], [0.7777777777777778, \"#fb9f3a\"], [0.8888888888888888, \"#fdca26\"], [1.0, \"#f0f921\"]], \"type\": \"contour\"}], \"contourcarpet\": [{\"colorbar\": {\"outlinewidth\": 0, \"ticks\": \"\"}, \"type\": \"contourcarpet\"}], \"heatmap\": [{\"colorbar\": {\"outlinewidth\": 0, \"ticks\": \"\"}, \"colorscale\": [[0.0, \"#0d0887\"], [0.1111111111111111, \"#46039f\"], [0.2222222222222222, \"#7201a8\"], [0.3333333333333333, \"#9c179e\"], [0.4444444444444444, \"#bd3786\"], [0.5555555555555556, \"#d8576b\"], [0.6666666666666666, \"#ed7953\"], [0.7777777777777778, \"#fb9f3a\"], [0.8888888888888888, \"#fdca26\"], [1.0, \"#f0f921\"]], \"type\": \"heatmap\"}], \"heatmapgl\": [{\"colorbar\": {\"outlinewidth\": 0, \"ticks\": \"\"}, \"colorscale\": [[0.0, \"#0d0887\"], [0.1111111111111111, \"#46039f\"], [0.2222222222222222, \"#7201a8\"], [0.3333333333333333, \"#9c179e\"], [0.4444444444444444, \"#bd3786\"], [0.5555555555555556, \"#d8576b\"], [0.6666666666666666, \"#ed7953\"], [0.7777777777777778, \"#fb9f3a\"], [0.8888888888888888, \"#fdca26\"], [1.0, \"#f0f921\"]], \"type\": \"heatmapgl\"}], \"histogram\": [{\"marker\": {\"colorbar\": {\"outlinewidth\": 0, \"ticks\": \"\"}}, \"type\": \"histogram\"}], \"histogram2d\": [{\"colorbar\": {\"outlinewidth\": 0, \"ticks\": \"\"}, \"colorscale\": [[0.0, \"#0d0887\"], [0.1111111111111111, \"#46039f\"], [0.2222222222222222, \"#7201a8\"], [0.3333333333333333, \"#9c179e\"], [0.4444444444444444, \"#bd3786\"], [0.5555555555555556, \"#d8576b\"], [0.6666666666666666, \"#ed7953\"], [0.7777777777777778, \"#fb9f3a\"], [0.8888888888888888, \"#fdca26\"], [1.0, \"#f0f921\"]], \"type\": \"histogram2d\"}], \"histogram2dcontour\": [{\"colorbar\": {\"outlinewidth\": 0, \"ticks\": \"\"}, \"colorscale\": [[0.0, \"#0d0887\"], [0.1111111111111111, \"#46039f\"], [0.2222222222222222, \"#7201a8\"], [0.3333333333333333, \"#9c179e\"], [0.4444444444444444, \"#bd3786\"], [0.5555555555555556, \"#d8576b\"], [0.6666666666666666, \"#ed7953\"], [0.7777777777777778, \"#fb9f3a\"], [0.8888888888888888, \"#fdca26\"], [1.0, \"#f0f921\"]], \"type\": \"histogram2dcontour\"}], \"mesh3d\": [{\"colorbar\": {\"outlinewidth\": 0, \"ticks\": \"\"}, \"type\": \"mesh3d\"}], \"parcoords\": [{\"line\": {\"colorbar\": {\"outlinewidth\": 0, \"ticks\": \"\"}}, \"type\": \"parcoords\"}], \"pie\": [{\"automargin\": true, \"type\": \"pie\"}], \"scatter\": [{\"marker\": {\"colorbar\": {\"outlinewidth\": 0, \"ticks\": \"\"}}, \"type\": \"scatter\"}], \"scatter3d\": [{\"line\": {\"colorbar\": {\"outlinewidth\": 0, \"ticks\": \"\"}}, \"marker\": {\"colorbar\": {\"outlinewidth\": 0, \"ticks\": \"\"}}, \"type\": \"scatter3d\"}], \"scattercarpet\": [{\"marker\": {\"colorbar\": {\"outlinewidth\": 0, \"ticks\": \"\"}}, \"type\": \"scattercarpet\"}], \"scattergeo\": [{\"marker\": {\"colorbar\": {\"outlinewidth\": 0, \"ticks\": \"\"}}, \"type\": \"scattergeo\"}], \"scattergl\": [{\"marker\": {\"colorbar\": {\"outlinewidth\": 0, \"ticks\": \"\"}}, \"type\": \"scattergl\"}], \"scattermapbox\": [{\"marker\": {\"colorbar\": {\"outlinewidth\": 0, \"ticks\": \"\"}}, \"type\": \"scattermapbox\"}], \"scatterpolar\": [{\"marker\": {\"colorbar\": {\"outlinewidth\": 0, \"ticks\": \"\"}}, \"type\": \"scatterpolar\"}], \"scatterpolargl\": [{\"marker\": {\"colorbar\": {\"outlinewidth\": 0, \"ticks\": \"\"}}, \"type\": \"scatterpolargl\"}], \"scatterternary\": [{\"marker\": {\"colorbar\": {\"outlinewidth\": 0, \"ticks\": \"\"}}, \"type\": \"scatterternary\"}], \"surface\": [{\"colorbar\": {\"outlinewidth\": 0, \"ticks\": \"\"}, \"colorscale\": [[0.0, \"#0d0887\"], [0.1111111111111111, \"#46039f\"], [0.2222222222222222, \"#7201a8\"], [0.3333333333333333, \"#9c179e\"], [0.4444444444444444, \"#bd3786\"], [0.5555555555555556, \"#d8576b\"], [0.6666666666666666, \"#ed7953\"], [0.7777777777777778, \"#fb9f3a\"], [0.8888888888888888, \"#fdca26\"], [1.0, \"#f0f921\"]], \"type\": \"surface\"}], \"table\": [{\"cells\": {\"fill\": {\"color\": \"#EBF0F8\"}, \"line\": {\"color\": \"white\"}}, \"header\": {\"fill\": {\"color\": \"#C8D4E3\"}, \"line\": {\"color\": \"white\"}}, \"type\": \"table\"}]}, \"layout\": {\"annotationdefaults\": {\"arrowcolor\": \"#2a3f5f\", \"arrowhead\": 0, \"arrowwidth\": 1}, \"coloraxis\": {\"colorbar\": {\"outlinewidth\": 0, \"ticks\": \"\"}}, \"colorscale\": {\"diverging\": [[0, \"#8e0152\"], [0.1, \"#c51b7d\"], [0.2, \"#de77ae\"], [0.3, \"#f1b6da\"], [0.4, \"#fde0ef\"], [0.5, \"#f7f7f7\"], [0.6, \"#e6f5d0\"], [0.7, \"#b8e186\"], [0.8, \"#7fbc41\"], [0.9, \"#4d9221\"], [1, \"#276419\"]], \"sequential\": [[0.0, \"#0d0887\"], [0.1111111111111111, \"#46039f\"], [0.2222222222222222, \"#7201a8\"], [0.3333333333333333, \"#9c179e\"], [0.4444444444444444, \"#bd3786\"], [0.5555555555555556, \"#d8576b\"], [0.6666666666666666, \"#ed7953\"], [0.7777777777777778, \"#fb9f3a\"], [0.8888888888888888, \"#fdca26\"], [1.0, \"#f0f921\"]], \"sequentialminus\": [[0.0, \"#0d0887\"], [0.1111111111111111, \"#46039f\"], [0.2222222222222222, \"#7201a8\"], [0.3333333333333333, \"#9c179e\"], [0.4444444444444444, \"#bd3786\"], [0.5555555555555556, \"#d8576b\"], [0.6666666666666666, \"#ed7953\"], [0.7777777777777778, \"#fb9f3a\"], [0.8888888888888888, \"#fdca26\"], [1.0, \"#f0f921\"]]}, \"colorway\": [\"#636efa\", \"#EF553B\", \"#00cc96\", \"#ab63fa\", \"#FFA15A\", \"#19d3f3\", \"#FF6692\", \"#B6E880\", \"#FF97FF\", \"#FECB52\"], \"font\": {\"color\": \"#2a3f5f\"}, \"geo\": {\"bgcolor\": \"white\", \"lakecolor\": \"white\", \"landcolor\": \"#E5ECF6\", \"showlakes\": true, \"showland\": true, \"subunitcolor\": \"white\"}, \"hoverlabel\": {\"align\": \"left\"}, \"hovermode\": \"closest\", \"mapbox\": {\"style\": \"light\"}, \"paper_bgcolor\": \"white\", \"plot_bgcolor\": \"#E5ECF6\", \"polar\": {\"angularaxis\": {\"gridcolor\": \"white\", \"linecolor\": \"white\", \"ticks\": \"\"}, \"bgcolor\": \"#E5ECF6\", \"radialaxis\": {\"gridcolor\": \"white\", \"linecolor\": \"white\", \"ticks\": \"\"}}, \"scene\": {\"xaxis\": {\"backgroundcolor\": \"#E5ECF6\", \"gridcolor\": \"white\", \"gridwidth\": 2, \"linecolor\": \"white\", \"showbackground\": true, \"ticks\": \"\", \"zerolinecolor\": \"white\"}, \"yaxis\": {\"backgroundcolor\": \"#E5ECF6\", \"gridcolor\": \"white\", \"gridwidth\": 2, \"linecolor\": \"white\", \"showbackground\": true, \"ticks\": \"\", \"zerolinecolor\": \"white\"}, \"zaxis\": {\"backgroundcolor\": \"#E5ECF6\", \"gridcolor\": \"white\", \"gridwidth\": 2, \"linecolor\": \"white\", \"showbackground\": true, \"ticks\": \"\", \"zerolinecolor\": \"white\"}}, \"shapedefaults\": {\"line\": {\"color\": \"#2a3f5f\"}}, \"ternary\": {\"aaxis\": {\"gridcolor\": \"white\", \"linecolor\": \"white\", \"ticks\": \"\"}, \"baxis\": {\"gridcolor\": \"white\", \"linecolor\": \"white\", \"ticks\": \"\"}, \"bgcolor\": \"#E5ECF6\", \"caxis\": {\"gridcolor\": \"white\", \"linecolor\": \"white\", \"ticks\": \"\"}}, \"title\": {\"x\": 0.05}, \"xaxis\": {\"automargin\": true, \"gridcolor\": \"white\", \"linecolor\": \"white\", \"ticks\": \"\", \"title\": {\"standoff\": 15}, \"zerolinecolor\": \"white\", \"zerolinewidth\": 2}, \"yaxis\": {\"automargin\": true, \"gridcolor\": \"white\", \"linecolor\": \"white\", \"ticks\": \"\", \"title\": {\"standoff\": 15}, \"zerolinecolor\": \"white\", \"zerolinewidth\": 2}}}, \"title\": {\"text\": \"Supply of PPE (Face Shields) in Days - Organizations Reaching out to GetUsPPE.org\"}},\n",
       "                        {\"responsive\": true}\n",
       "                    ).then(function(){\n",
       "                            \n",
       "var gd = document.getElementById('e93e12f8-ce0f-4414-8d01-38dbfc0d8061');\n",
       "var x = new MutationObserver(function (mutations, observer) {{\n",
       "        var display = window.getComputedStyle(gd).display;\n",
       "        if (!display || display === 'none') {{\n",
       "            console.log([gd, 'removed!']);\n",
       "            Plotly.purge(gd);\n",
       "            observer.disconnect();\n",
       "        }}\n",
       "}});\n",
       "\n",
       "// Listen for the removal of the full notebook cells\n",
       "var notebookContainer = gd.closest('#notebook-container');\n",
       "if (notebookContainer) {{\n",
       "    x.observe(notebookContainer, {childList: true});\n",
       "}}\n",
       "\n",
       "// Listen for the clearing of the current output cell\n",
       "var outputEl = gd.closest('.output');\n",
       "if (outputEl) {{\n",
       "    x.observe(outputEl, {childList: true});\n",
       "}}\n",
       "\n",
       "                        })\n",
       "                };\n",
       "                });\n",
       "            </script>\n",
       "        </div>"
      ]
     },
     "metadata": {},
     "output_type": "display_data"
    }
   ],
   "source": [
    "fig = go.Figure(data=go.Choropleth(\n",
    "    locations=supply_per_state_df['State'],\n",
    "    z=supply_per_state_df['Face Shield Stock'],\n",
    "    locationmode='USA-states',\n",
    "    colorscale=['#bc2026','#ef4723','#f68e1e','#fecc0a','#7dbb42','#0e9246'],\n",
    "    autocolorscale=False,\n",
    "    text=supply_per_state_df['text'], # hover text\n",
    "    marker_line_color='black', # line markers between states\n",
    "    marker_opacity=0.8, \n",
    "    marker_line_width=0.5,\n",
    "    zmin=0,\n",
    "    zmax=14,\n",
    "    colorbar_title=\"Face Shield Supply (days)\",\n",
    "    hoverinfo='text'\n",
    "))\n",
    "\n",
    "fig.update_layout(\n",
    "    title_text='Supply of PPE (Face Shields) in Days - Organizations Reaching out to GetUsPPE.org',\n",
    "    geo = dict(\n",
    "        scope='usa',\n",
    "        projection=go.layout.geo.Projection(type = 'albers usa'),\n",
    "        showlakes=True, # lakes\n",
    "        lakecolor='rgb(255, 255, 255)'),\n",
    ")\n",
    "\n",
    "# Download the figure From Sunny Mui\n",
    "go.Figure.write_html(fig, file='Available Supply of Face Shields in Days.html',\n",
    "                     config={'responsive': True}, include_plotlyjs='cdn')\n",
    "\n",
    "# Show the fig\n",
    "fig.show()"
   ]
  },
  {
   "cell_type": "code",
   "execution_count": null,
   "metadata": {},
   "outputs": [],
   "source": []
  },
  {
   "cell_type": "code",
   "execution_count": null,
   "metadata": {},
   "outputs": [],
   "source": []
  },
  {
   "cell_type": "code",
   "execution_count": null,
   "metadata": {},
   "outputs": [],
   "source": []
  }
 ],
 "metadata": {
  "kernelspec": {
   "display_name": "Python 3",
   "language": "python",
   "name": "python3"
  },
  "language_info": {
   "codemirror_mode": {
    "name": "ipython",
    "version": 3
   },
   "file_extension": ".py",
   "mimetype": "text/x-python",
   "name": "python",
   "nbconvert_exporter": "python",
   "pygments_lexer": "ipython3",
   "version": "3.7.7"
  }
 },
 "nbformat": 4,
 "nbformat_minor": 4
}
