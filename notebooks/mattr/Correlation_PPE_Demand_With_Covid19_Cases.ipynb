{
 "cells": [
  {
   "cell_type": "markdown",
   "metadata": {},
   "source": [
    "# Correlation of PPE Demand in USA With Covid19 Cases"
   ]
  },
  {
   "cell_type": "code",
   "execution_count": null,
   "metadata": {},
   "outputs": [],
   "source": [
    "# import data\n",
    "import json\n",
    "import time\n",
    "import requests\n",
    "from io import StringIO\n",
    "import os\n",
    "\n",
    "# computing\n",
    "import pandas as pd\n",
    "import numpy as np\n",
    "from tqdm.auto import tqdm\n",
    "\n",
    "# Import geopandas package\n",
    "import geopandas as gpd\n",
    "import reverse_geocoder as rg\n",
    "import addfips\n",
    "import plotly.figure_factory as ff\n",
    "import plotly.graph_objects as go\n",
    "\n",
    "# plotting\n",
    "import plotly.express as px\n",
    "import plotly.graph_objects as go"
   ]
  },
  {
   "cell_type": "markdown",
   "metadata": {},
   "source": [
    "## Download find the mask data and convert to pandas\n",
    "- Taken from find the mask [web visualization](https://findthemasks.com/give.html) \n",
    "- [Data updated every 5 mins here](findthemasks.com/data.json) - The data visulized here is from 3/25 at 10PM PST"
   ]
  },
  {
   "cell_type": "code",
   "execution_count": null,
   "metadata": {},
   "outputs": [],
   "source": [
    "# Specify URL and also headers (the data requires browser headers)\n",
    "url = 'http://findthemasks.com/data.json'\n",
    "headers = {\"User-Agent\": \"Mozilla/5.0 (Windows NT 6.1) AppleWebKit/537.36 (KHTML, like Gecko) Chrome/41.0.2228.0 Safari/537.3\"}\n",
    "\n",
    "# Download the data\n",
    "s=requests.get(url, headers= headers).text\n",
    "\n",
    "# Extract the json format, and find column headers\n",
    "json_data = json.loads(s)\n",
    "HEADERS = json_data['values'][0]\n",
    "print(HEADERS)\n",
    "\n",
    "# create the data frame\n",
    "mask_df = pd.DataFrame.from_dict(json_data['values'][2:])\n",
    "mask_df.columns=HEADERS"
   ]
  },
  {
   "cell_type": "code",
   "execution_count": null,
   "metadata": {},
   "outputs": [],
   "source": [
    "# Using DataFrame.drop\n",
    "mask_df = mask_df.dropna(how='any', subset=['Lat', 'Lng'])\n",
    "\n",
    "# Remove the extra columns\n",
    "# columnns_to_drop=[0,1,2]\n",
    "# mask_df.drop(mask_df.columns[columnns_to_drop], axis=1, inplace=True)\n",
    "\n",
    "# Rename the State? column\n",
    "mask_df.rename(columns={'State?': 'State'}, inplace=True)\n",
    "\n",
    "# Drop institutions with multiple entries\n",
    "mask_df.drop_duplicates(subset='What is the name of the hospital or clinic?', inplace=True)\n",
    "\n",
    "# Print out\n",
    "mask_df.head(2)"
   ]
  },
  {
   "cell_type": "code",
   "execution_count": null,
   "metadata": {},
   "outputs": [],
   "source": [
    "# sum counts per state, and reset to dataframe\n",
    "mask_df_states=mask_df.groupby(['State']).size().reset_index(name='counts')\n",
    "mask_df_states.head(5)"
   ]
  },
  {
   "cell_type": "markdown",
   "metadata": {},
   "source": [
    "### Map PPE requests by state"
   ]
  },
  {
   "cell_type": "code",
   "execution_count": null,
   "metadata": {},
   "outputs": [],
   "source": [
    "for col in mask_df_states.columns:\n",
    "    mask_df_states[col] = mask_df_states[col].astype(str)\n",
    "\n",
    "mask_df_states['text'] = '<br>'\n",
    "\n",
    "fig = go.Figure(data=go.Choropleth(\n",
    "    locations=mask_df_states['State'],\n",
    "    z=mask_df_states['counts'].astype(float),\n",
    "    locationmode='USA-states',\n",
    "    colorscale='Blues',\n",
    "    autocolorscale=False,\n",
    "    text= mask_df_states['text'], # hover text\n",
    "    marker_line_color='white', # line markers between states\n",
    "    colorbar_title=\"Mask Requests\"\n",
    "))\n",
    "\n",
    "fig.update_layout(\n",
    "    title_text='Medical Systems Requesting PPE',\n",
    "    geo = dict(\n",
    "        scope='usa',\n",
    "        projection=go.layout.geo.Projection(type = 'albers usa'),\n",
    "        showlakes=True, # lakes\n",
    "        lakecolor='rgb(255, 255, 255)'),\n",
    ")\n",
    "\n",
    "fig.show()"
   ]
  },
  {
   "cell_type": "markdown",
   "metadata": {},
   "source": [
    "### Map PPE requests by county"
   ]
  },
  {
   "cell_type": "code",
   "execution_count": null,
   "metadata": {},
   "outputs": [],
   "source": [
    "# download the county_Fips information\n",
    "url = 'https://github.com/ShyamW/Geocoding_Suite/blob/master/Lat_Lng_to_County_Data/county_Fips.txt'\n",
    "contents=requests.get(url).text\n",
    "\n",
    "with open('county_Fips.txt', 'w') as f:\n",
    "    f.write(contents)"
   ]
  },
  {
   "cell_type": "code",
   "execution_count": null,
   "metadata": {},
   "outputs": [],
   "source": [
    "class geocoder:\n",
    "    def __init__(self):\n",
    "        self.af = addfips.AddFIPS()\n",
    "        # TODO: instantiate Reverse Geocoder\n",
    "        \n",
    "    def fips_code_lookup(self, county, state):\n",
    "        # Lookup of fips code (https://github.com/fitnr/addfips)\n",
    "        fips = self.af.get_county_fips(county, state)\n",
    "        return fips\n",
    "\n",
    "    def get_geocoder_info_from_rg(self, Lat, Lng):\n",
    "        try:\n",
    "            # Reverse geocoder api call to get county name\n",
    "            coordinates = (Lat, Lng)\n",
    "            results = rg.search(coordinates) # default mode = 2\n",
    "            county = results[0]['admin2']\n",
    "            state = results[0]['admin1']\n",
    "\n",
    "            # Lookup of fips code (https://github.com/fitnr/addfips)\n",
    "            fips = fips_code_lookup(county,state)\n",
    "\n",
    "            # return the fip and county\n",
    "            return {'fips':fips, 'county':county}\n",
    "        except:\n",
    "            return {'fips':'NA', 'county':'NA'}"
   ]
  },
  {
   "cell_type": "markdown",
   "metadata": {},
   "source": [
    "### Search and add the FIPS code to each row - WILL TAKE SEVERAL MINS"
   ]
  },
  {
   "cell_type": "code",
   "execution_count": null,
   "metadata": {},
   "outputs": [],
   "source": [
    "# Start geocoder class to preload adfips object\n",
    "geocoder = geocoder()\n",
    "\n",
    "# Start tdqm timer from tqdm.auto\n",
    "tqdm.pandas()\n",
    "\n",
    "# Reverse geocoder used to get geocoded fips and county information\n",
    "# Note: Progress_apply is used for the timer functionality\n",
    "mask_df['geocoder'] = mask_df.progress_apply(\n",
    "    lambda x: geocoder.get_geocoder_info_from_rg(x['Lat'], x['Lng']), axis=1)\n",
    "\n",
    "# Map the geocoder dict column to individual columns\n",
    "mask_df['fips'] = mask_df.apply(\n",
    "    lambda x: x['geocoder']['fips'], axis=1)\n",
    "mask_df['county'] = mask_df.apply(\n",
    "    lambda x: x['geocoder']['county'], axis=1)\n",
    "mask_df.drop(columns=['geocoder'],inplace = True)\n",
    "\n",
    "# Using DataFrame.drop to remove any fips code that could not be mapped\n",
    "mask_df = mask_df.dropna(how='any', subset=['fips','county'])"
   ]
  },
  {
   "cell_type": "markdown",
   "metadata": {},
   "source": [
    "##### Save out the processed data"
   ]
  },
  {
   "cell_type": "code",
   "execution_count": null,
   "metadata": {},
   "outputs": [],
   "source": [
    "# write out this data file to csv\n",
    "timestr = time.strftime(\"%Y%m%d\")\n",
    "path = 'findthemasks_data_processed_' + timestr + '.csv'\n",
    "mask_df.to_csv (path, index = False, header=True)"
   ]
  },
  {
   "cell_type": "markdown",
   "metadata": {},
   "source": [
    "##### TODO\n",
    "Some of the data written out is corrupted and misaligned by row\n",
    "Not sure what the bug is right now"
   ]
  },
  {
   "cell_type": "code",
   "execution_count": null,
   "metadata": {},
   "outputs": [],
   "source": [
    "# Count the amount of requests per county\n",
    "mask_df_counties=mask_df.groupby(['fips','county']).size().reset_index(name='counts')\n",
    "mask_df_counties.head(5)"
   ]
  },
  {
   "cell_type": "markdown",
   "metadata": {},
   "source": [
    "### Map PPE requests by County"
   ]
  },
  {
   "cell_type": "code",
   "execution_count": null,
   "metadata": {},
   "outputs": [],
   "source": [
    "# Load the county information\n",
    "url = 'https://raw.githubusercontent.com/plotly/datasets/master/geojson-counties-fips.json'\n",
    "\n",
    "# Download the data\n",
    "s=requests.get(url).text\n",
    "\n",
    "# Extract the json format, and find column headers\n",
    "counties = json.loads(s)"
   ]
  },
  {
   "cell_type": "code",
   "execution_count": null,
   "metadata": {},
   "outputs": [],
   "source": [
    "# Create the figures\n",
    "fig = px.choropleth(\n",
    "    mask_df_counties, \n",
    "    geojson=counties,\n",
    "    locations='fips', \n",
    "    color='counts',\n",
    "    color_continuous_scale=\"RdBu_r\",\n",
    "    range_color=(-1, 10),\n",
    "    scope=\"usa\",\n",
    "    labels={'county'},\n",
    "    title='PPE Requests By County',\n",
    "    #marker_line_color='white', # line markers between states\n",
    "    #colorbar_title=\"Number of Requests (10 or more)\"\n",
    "    )\n",
    "#fig.update_layout(margin={\"r\":0,\"t\":0,\"l\":0,\"b\":0})\n",
    "fig.show()"
   ]
  },
  {
   "cell_type": "markdown",
   "metadata": {},
   "source": [
    "## Download COVID19 data and convert to pandas"
   ]
  },
  {
   "cell_type": "code",
   "execution_count": null,
   "metadata": {
    "scrolled": true
   },
   "outputs": [],
   "source": [
    "date = '2020-03-26'\n",
    "covid_df = pd.read_csv(\"https://github.com/nytimes/covid-19-data/raw/master/us-counties.csv\")\n",
    "covid_df = covid_df.loc[covid_df['date'] == date]\n",
    "covid_df.head()"
   ]
  },
  {
   "cell_type": "code",
   "execution_count": null,
   "metadata": {},
   "outputs": [],
   "source": [
    "# drop the rows without a fips value\n",
    "covid_df = covid_df.dropna(how='any', subset=['fips'])\n",
    "\n",
    "# convert to int to remove the decimal values\n",
    "covid_df['fips'] = covid_df['fips'].apply(int)\n",
    "\n",
    "# Zfill all countyFIPS to be 5 characters\n",
    "width=5\n",
    "covid_df[\"fips\"]= covid_df[\"fips\"].astype(str)\n",
    "covid_df[\"fips\"]= covid_df[\"fips\"].str.zfill(width) \n",
    "covid_df.head(5)"
   ]
  },
  {
   "cell_type": "code",
   "execution_count": null,
   "metadata": {},
   "outputs": [],
   "source": [
    "#### Save out the processed covid data"
   ]
  },
  {
   "cell_type": "code",
   "execution_count": null,
   "metadata": {},
   "outputs": [],
   "source": [
    "# write out this data file to csv\n",
    "timestr = time.strftime(\"%Y%m%d\")\n",
    "path = 'COVID19_nytimes_' + date + ' data_processed_on_' + timestr + '.csv'\n",
    "covid_df.to_csv (path, index = False, header=True)"
   ]
  },
  {
   "cell_type": "code",
   "execution_count": null,
   "metadata": {},
   "outputs": [],
   "source": [
    "# Create the figures\n",
    "fig = px.choropleth(\n",
    "    covid_df, \n",
    "    geojson=counties,\n",
    "    locations='fips', \n",
    "    color='cases',\n",
    "    color_continuous_scale=\"RdBu_r\",\n",
    "    range_color=(-1, 100),\n",
    "    scope=\"usa\",\n",
    "    labels={'county'},\n",
    "    title='COVID19 Cases Per County: ' + date\n",
    "    #marker_line_color='white', # line markers between states\n",
    "    #colorbar_title=\"Number of Requests (10 or more)\"\n",
    "    )\n",
    "#fig.update_layout(margin={\"r\":0,\"t\":0,\"l\":0,\"b\":0})\n",
    "fig.show()"
   ]
  },
  {
   "cell_type": "markdown",
   "metadata": {},
   "source": [
    "## Hospital bed visualization by county "
   ]
  },
  {
   "cell_type": "code",
   "execution_count": null,
   "metadata": {},
   "outputs": [],
   "source": [
    "# Import hospital information compiled by https://beta.covidmap.link/\n",
    "url = 'https://docs.google.com/spreadsheet/ccc?key=15gZsozGQp-wdJaSngvLV13iCf_2mm2IsZpHOPxZtvtI&output=csv'\n",
    "\n",
    "hospital_df = pd.read_csv(url)\n",
    "hospital_df.head(2)"
   ]
  },
  {
   "cell_type": "code",
   "execution_count": null,
   "metadata": {},
   "outputs": [],
   "source": [
    "# Start tdqm timer from tqdm.auto\n",
    "tqdm.pandas()\n",
    "\n",
    "# Reverse geocoder used to get geocoded fips and county information\n",
    "# Note: Progress_apply is used for the timer functionality\n",
    "hospital_df['fips'] = hospital_df.progress_apply(\n",
    "    lambda x: geocoder.fips_code_lookup(x['COUNTY'], x['STATE']), axis=1)"
   ]
  },
  {
   "cell_type": "code",
   "execution_count": null,
   "metadata": {},
   "outputs": [],
   "source": [
    "# Sum the amount of beds per county\n",
    "hospital_df_counties = hospital_df.groupby(['fips','COUNTY'])['BEDS'].sum().reset_index()\n",
    "hospital_df_counties.head(2)"
   ]
  },
  {
   "cell_type": "code",
   "execution_count": null,
   "metadata": {},
   "outputs": [],
   "source": [
    "# write out this data file to csv\n",
    "timestr = time.strftime(\"%Y%m%d\")\n",
    "path = 'hospital_data_processed_per_county' + timestr + '.csv'\n",
    "hospital_df_counties.to_csv (path, index = False, header=True)"
   ]
  },
  {
   "cell_type": "code",
   "execution_count": null,
   "metadata": {},
   "outputs": [],
   "source": [
    "# Create the figures\n",
    "fig = px.choropleth(\n",
    "    hospital_df_counties, \n",
    "    geojson=counties,\n",
    "    locations='fips', \n",
    "    color='BEDS',\n",
    "    color_continuous_scale=\"RdBu_r\",\n",
    "    range_color=(-1, 500),\n",
    "    scope=\"usa\",\n",
    "    labels={'county'},\n",
    "    title='Hospital beds per county: ' + date\n",
    "    #marker_line_color='white', # line markers between states\n",
    "    #colorbar_title=\"Number of Requests (10 or more)\"\n",
    "    )\n",
    "#fig.update_layout(margin={\"r\":0,\"t\":0,\"l\":0,\"b\":0})\n",
    "fig.show()"
   ]
  },
  {
   "cell_type": "code",
   "execution_count": null,
   "metadata": {},
   "outputs": [],
   "source": []
  }
 ],
 "metadata": {
  "kernelspec": {
   "display_name": "Python 3",
   "language": "python",
   "name": "python3"
  },
  "language_info": {
   "codemirror_mode": {
    "name": "ipython",
    "version": 3
   },
   "file_extension": ".py",
   "mimetype": "text/x-python",
   "name": "python",
   "nbconvert_exporter": "python",
   "pygments_lexer": "ipython3",
   "version": "3.7.7"
  }
 },
 "nbformat": 4,
 "nbformat_minor": 4
}
